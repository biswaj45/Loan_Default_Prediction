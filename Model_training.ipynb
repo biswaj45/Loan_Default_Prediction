{
 "cells": [
  {
   "cell_type": "code",
   "execution_count": 58,
   "id": "d9ad21e0",
   "metadata": {},
   "outputs": [],
   "source": [
    "import os\n",
    "import pandas as pd\n",
    "import numpy as np\n",
    "from sklearn.model_selection import train_test_split\n",
    "from sklearn.preprocessing import OneHotEncoder, StandardScaler\n",
    "from sklearn.compose import ColumnTransformer\n",
    "from sklearn.pipeline import Pipeline\n",
    "from sklearn.impute import SimpleImputer\n",
    "from sklearn.linear_model import LogisticRegression\n",
    "from sklearn.metrics import accuracy_score, precision_score, recall_score, f1_score, roc_auc_score, confusion_matrix, classification_report\n",
    "import seaborn as sns\n",
    "import matplotlib.pyplot as plt\n",
    "from sklearn.naive_bayes import GaussianNB\n",
    "from sklearn.ensemble import RandomForestClassifier\n",
    "from sklearn.svm import SVC\n",
    "from xgboost import XGBClassifier\n",
    "from sklearn.metrics import make_scorer, recall_score,fbeta_score\n",
    "from sklearn.model_selection import GridSearchCV,RandomizedSearchCV"
   ]
  },
  {
   "cell_type": "code",
   "execution_count": 2,
   "id": "0c5e0580",
   "metadata": {},
   "outputs": [],
   "source": [
    "os.chdir(r'D:\\use case\\Loan Default Prediction\\data')"
   ]
  },
  {
   "cell_type": "code",
   "execution_count": 3,
   "id": "d438e310",
   "metadata": {},
   "outputs": [],
   "source": [
    "df = pd.read_csv('processed_data.csv')"
   ]
  },
  {
   "cell_type": "code",
   "execution_count": null,
   "id": "d573d1eb",
   "metadata": {},
   "outputs": [],
   "source": [
    "df.head(10)"
   ]
  },
  {
   "cell_type": "code",
   "execution_count": null,
   "id": "7244a97c",
   "metadata": {},
   "outputs": [],
   "source": [
    "df.Default.dtype"
   ]
  },
  {
   "cell_type": "code",
   "execution_count": 4,
   "id": "780413e6",
   "metadata": {},
   "outputs": [],
   "source": [
    "# Step 1: Convert all categorical columns to object, excluding 'Score_Source_2', 'Score_Source_3'\n",
    "categorical_columns = [col for col in df.columns if col not in ['Score_Source_2', 'Score_Source_3']]\n",
    "df[categorical_columns] = df[categorical_columns].astype('object')\n"
   ]
  },
  {
   "cell_type": "code",
   "execution_count": 5,
   "id": "20d91e04",
   "metadata": {},
   "outputs": [],
   "source": [
    "# If it's numeric but string-like:\n",
    "df['Default'] = df['Default'].astype(int)"
   ]
  },
  {
   "cell_type": "code",
   "execution_count": 6,
   "id": "2dda1618",
   "metadata": {},
   "outputs": [],
   "source": [
    "# Step 2: Split into features and target\n",
    "X = df.drop('Default', axis=1)\n",
    "y = df['Default']"
   ]
  },
  {
   "cell_type": "code",
   "execution_count": 7,
   "id": "bf955b2a",
   "metadata": {},
   "outputs": [],
   "source": [
    "# Step 3: Define preprocessing pipelines\n",
    "numeric_features = ['Score_Source_2', 'Score_Source_3']\n",
    "categorical_features = X.select_dtypes(include=['object']).columns.tolist()"
   ]
  },
  {
   "cell_type": "code",
   "execution_count": 8,
   "id": "325b086c",
   "metadata": {},
   "outputs": [],
   "source": [
    "numeric_transformer = Pipeline(steps=[\n",
    "    ('imputer', SimpleImputer(strategy='mean')),\n",
    "    ('scaler', StandardScaler())])\n",
    "\n",
    "categorical_transformer = Pipeline(steps=[\n",
    "    ('imputer', SimpleImputer(strategy='most_frequent')),\n",
    "    ('encoder', OneHotEncoder(handle_unknown='ignore'))])\n",
    "\n",
    "preprocessor = ColumnTransformer(\n",
    "    transformers=[\n",
    "        ('num', numeric_transformer, numeric_features),\n",
    "        ('cat', categorical_transformer, categorical_features)])"
   ]
  },
  {
   "cell_type": "code",
   "execution_count": 35,
   "id": "83aa4dff",
   "metadata": {},
   "outputs": [],
   "source": [
    "# Step 4: Split the data\n",
    "X_train, X_test, y_train, y_test = train_test_split(X, y, test_size=0.3, random_state=42)\n"
   ]
  },
  {
   "cell_type": "code",
   "execution_count": null,
   "id": "97dddb70",
   "metadata": {},
   "outputs": [],
   "source": [
    "X_train"
   ]
  },
  {
   "cell_type": "code",
   "execution_count": null,
   "id": "da05fec0",
   "metadata": {},
   "outputs": [],
   "source": []
  },
  {
   "cell_type": "code",
   "execution_count": 36,
   "id": "34d59b90",
   "metadata": {},
   "outputs": [],
   "source": [
    "# Step 5: Fit preprocessing pipeline to training data\n",
    "X_train_prepared = preprocessor.fit_transform(X_train)\n",
    "X_test_prepared = preprocessor.transform(X_test)"
   ]
  },
  {
   "cell_type": "code",
   "execution_count": 11,
   "id": "a8e0fa17",
   "metadata": {},
   "outputs": [
    {
     "data": {
      "text/html": [
       "<style>#sk-container-id-1 {color: black;background-color: white;}#sk-container-id-1 pre{padding: 0;}#sk-container-id-1 div.sk-toggleable {background-color: white;}#sk-container-id-1 label.sk-toggleable__label {cursor: pointer;display: block;width: 100%;margin-bottom: 0;padding: 0.3em;box-sizing: border-box;text-align: center;}#sk-container-id-1 label.sk-toggleable__label-arrow:before {content: \"▸\";float: left;margin-right: 0.25em;color: #696969;}#sk-container-id-1 label.sk-toggleable__label-arrow:hover:before {color: black;}#sk-container-id-1 div.sk-estimator:hover label.sk-toggleable__label-arrow:before {color: black;}#sk-container-id-1 div.sk-toggleable__content {max-height: 0;max-width: 0;overflow: hidden;text-align: left;background-color: #f0f8ff;}#sk-container-id-1 div.sk-toggleable__content pre {margin: 0.2em;color: black;border-radius: 0.25em;background-color: #f0f8ff;}#sk-container-id-1 input.sk-toggleable__control:checked~div.sk-toggleable__content {max-height: 200px;max-width: 100%;overflow: auto;}#sk-container-id-1 input.sk-toggleable__control:checked~label.sk-toggleable__label-arrow:before {content: \"▾\";}#sk-container-id-1 div.sk-estimator input.sk-toggleable__control:checked~label.sk-toggleable__label {background-color: #d4ebff;}#sk-container-id-1 div.sk-label input.sk-toggleable__control:checked~label.sk-toggleable__label {background-color: #d4ebff;}#sk-container-id-1 input.sk-hidden--visually {border: 0;clip: rect(1px 1px 1px 1px);clip: rect(1px, 1px, 1px, 1px);height: 1px;margin: -1px;overflow: hidden;padding: 0;position: absolute;width: 1px;}#sk-container-id-1 div.sk-estimator {font-family: monospace;background-color: #f0f8ff;border: 1px dotted black;border-radius: 0.25em;box-sizing: border-box;margin-bottom: 0.5em;}#sk-container-id-1 div.sk-estimator:hover {background-color: #d4ebff;}#sk-container-id-1 div.sk-parallel-item::after {content: \"\";width: 100%;border-bottom: 1px solid gray;flex-grow: 1;}#sk-container-id-1 div.sk-label:hover label.sk-toggleable__label {background-color: #d4ebff;}#sk-container-id-1 div.sk-serial::before {content: \"\";position: absolute;border-left: 1px solid gray;box-sizing: border-box;top: 0;bottom: 0;left: 50%;z-index: 0;}#sk-container-id-1 div.sk-serial {display: flex;flex-direction: column;align-items: center;background-color: white;padding-right: 0.2em;padding-left: 0.2em;position: relative;}#sk-container-id-1 div.sk-item {position: relative;z-index: 1;}#sk-container-id-1 div.sk-parallel {display: flex;align-items: stretch;justify-content: center;background-color: white;position: relative;}#sk-container-id-1 div.sk-item::before, #sk-container-id-1 div.sk-parallel-item::before {content: \"\";position: absolute;border-left: 1px solid gray;box-sizing: border-box;top: 0;bottom: 0;left: 50%;z-index: -1;}#sk-container-id-1 div.sk-parallel-item {display: flex;flex-direction: column;z-index: 1;position: relative;background-color: white;}#sk-container-id-1 div.sk-parallel-item:first-child::after {align-self: flex-end;width: 50%;}#sk-container-id-1 div.sk-parallel-item:last-child::after {align-self: flex-start;width: 50%;}#sk-container-id-1 div.sk-parallel-item:only-child::after {width: 0;}#sk-container-id-1 div.sk-dashed-wrapped {border: 1px dashed gray;margin: 0 0.4em 0.5em 0.4em;box-sizing: border-box;padding-bottom: 0.4em;background-color: white;}#sk-container-id-1 div.sk-label label {font-family: monospace;font-weight: bold;display: inline-block;line-height: 1.2em;}#sk-container-id-1 div.sk-label-container {text-align: center;}#sk-container-id-1 div.sk-container {/* jupyter's `normalize.less` sets `[hidden] { display: none; }` but bootstrap.min.css set `[hidden] { display: none !important; }` so we also need the `!important` here to be able to override the default hidden behavior on the sphinx rendered scikit-learn.org. See: https://github.com/scikit-learn/scikit-learn/issues/21755 */display: inline-block !important;position: relative;}#sk-container-id-1 div.sk-text-repr-fallback {display: none;}</style><div id=\"sk-container-id-1\" class=\"sk-top-container\"><div class=\"sk-text-repr-fallback\"><pre>LogisticRegression(max_iter=1000, random_state=42)</pre><b>In a Jupyter environment, please rerun this cell to show the HTML representation or trust the notebook. <br />On GitHub, the HTML representation is unable to render, please try loading this page with nbviewer.org.</b></div><div class=\"sk-container\" hidden><div class=\"sk-item\"><div class=\"sk-estimator sk-toggleable\"><input class=\"sk-toggleable__control sk-hidden--visually\" id=\"sk-estimator-id-1\" type=\"checkbox\" checked><label for=\"sk-estimator-id-1\" class=\"sk-toggleable__label sk-toggleable__label-arrow\">LogisticRegression</label><div class=\"sk-toggleable__content\"><pre>LogisticRegression(max_iter=1000, random_state=42)</pre></div></div></div></div></div>"
      ],
      "text/plain": [
       "LogisticRegression(max_iter=1000, random_state=42)"
      ]
     },
     "execution_count": 11,
     "metadata": {},
     "output_type": "execute_result"
    }
   ],
   "source": [
    "# Step 6: Train logistic regression on preprocessed data\n",
    "model = LogisticRegression(max_iter=1000, random_state=42)\n",
    "model.fit(X_train_prepared, y_train)"
   ]
  },
  {
   "cell_type": "code",
   "execution_count": 12,
   "id": "5c49f768",
   "metadata": {},
   "outputs": [],
   "source": [
    "# Step 7: Make predictions\n",
    "y_pred = model.predict(X_test_prepared)\n",
    "y_prob = model.predict_proba(X_test_prepared)[:, 1]  # for ROC-AUC"
   ]
  },
  {
   "cell_type": "code",
   "execution_count": 13,
   "id": "01dbb000",
   "metadata": {},
   "outputs": [
    {
     "name": "stdout",
     "output_type": "stream",
     "text": [
      "Classification Report:\n",
      "               precision    recall  f1-score   support\n",
      "\n",
      "           0       0.92      1.00      0.96     33619\n",
      "           1       0.56      0.01      0.01      2938\n",
      "\n",
      "    accuracy                           0.92     36557\n",
      "   macro avg       0.74      0.50      0.48     36557\n",
      "weighted avg       0.89      0.92      0.88     36557\n",
      "\n",
      "Accuracy: 0.9197144185792051\n",
      "Precision: 0.5555555555555556\n",
      "Recall: 0.0051055139550714775\n",
      "F1 Score: 0.01011804384485666\n",
      "ROC AUC Score: 0.7278473482257057\n"
     ]
    }
   ],
   "source": [
    "# Step 8: Evaluate\n",
    "print(\"Classification Report:\\n\", classification_report(y_test, y_pred))\n",
    "print(\"Accuracy:\", accuracy_score(y_test, y_pred))\n",
    "print(\"Precision:\", precision_score(y_test, y_pred))\n",
    "print(\"Recall:\", recall_score(y_test, y_pred))\n",
    "print(\"F1 Score:\", f1_score(y_test, y_pred))\n",
    "print(\"ROC AUC Score:\", roc_auc_score(y_test, y_prob))\n"
   ]
  },
  {
   "cell_type": "code",
   "execution_count": 14,
   "id": "e457dd6b",
   "metadata": {},
   "outputs": [
    {
     "data": {
      "image/png": "[encoded data removed]",
      "text/plain": [
       "<Figure size 432x288 with 2 Axes>"
      ]
     },
     "metadata": {
      "needs_background": "light"
     },
     "output_type": "display_data"
    }
   ],
   "source": [
    "# Step 9: Confusion Matrix\n",
    "cm = confusion_matrix(y_test, y_pred)\n",
    "plt.figure(figsize=(6,4))\n",
    "sns.heatmap(cm, annot=True, fmt='d', cmap='Blues', xticklabels=['No Default', 'Default'], yticklabels=['No Default', 'Default'])\n",
    "plt.xlabel('Predicted')\n",
    "plt.ylabel('Actual')\n",
    "plt.title('Confusion Matrix')\n",
    "plt.show()"
   ]
  },
  {
   "cell_type": "code",
   "execution_count": 22,
   "id": "8df18213",
   "metadata": {},
   "outputs": [],
   "source": [
    "xgb1 = XGBClassifier(use_label_encoder=False, eval_metric='auc', random_state=42)"
   ]
  },
  {
   "cell_type": "code",
   "execution_count": 23,
   "id": "91340a6e",
   "metadata": {
    "scrolled": true
   },
   "outputs": [
    {
     "name": "stderr",
     "output_type": "stream",
     "text": [
      "C:\\Users\\biswa\\anaconda3\\lib\\site-packages\\xgboost\\core.py:158: UserWarning: [02:17:44] WARNING: C:\\buildkite-agent\\builds\\buildkite-windows-cpu-autoscaling-group-i-08cbc0333d8d4aae1-1\\xgboost\\xgboost-ci-windows\\src\\learner.cc:740: \n",
      "Parameters: { \"use_label_encoder\" } are not used.\n",
      "\n",
      "  warnings.warn(smsg, UserWarning)\n"
     ]
    },
    {
     "data": {
      "text/html": [
       "<style>#sk-container-id-3 {color: black;background-color: white;}#sk-container-id-3 pre{padding: 0;}#sk-container-id-3 div.sk-toggleable {background-color: white;}#sk-container-id-3 label.sk-toggleable__label {cursor: pointer;display: block;width: 100%;margin-bottom: 0;padding: 0.3em;box-sizing: border-box;text-align: center;}#sk-container-id-3 label.sk-toggleable__label-arrow:before {content: \"▸\";float: left;margin-right: 0.25em;color: #696969;}#sk-container-id-3 label.sk-toggleable__label-arrow:hover:before {color: black;}#sk-container-id-3 div.sk-estimator:hover label.sk-toggleable__label-arrow:before {color: black;}#sk-container-id-3 div.sk-toggleable__content {max-height: 0;max-width: 0;overflow: hidden;text-align: left;background-color: #f0f8ff;}#sk-container-id-3 div.sk-toggleable__content pre {margin: 0.2em;color: black;border-radius: 0.25em;background-color: #f0f8ff;}#sk-container-id-3 input.sk-toggleable__control:checked~div.sk-toggleable__content {max-height: 200px;max-width: 100%;overflow: auto;}#sk-container-id-3 input.sk-toggleable__control:checked~label.sk-toggleable__label-arrow:before {content: \"▾\";}#sk-container-id-3 div.sk-estimator input.sk-toggleable__control:checked~label.sk-toggleable__label {background-color: #d4ebff;}#sk-container-id-3 div.sk-label input.sk-toggleable__control:checked~label.sk-toggleable__label {background-color: #d4ebff;}#sk-container-id-3 input.sk-hidden--visually {border: 0;clip: rect(1px 1px 1px 1px);clip: rect(1px, 1px, 1px, 1px);height: 1px;margin: -1px;overflow: hidden;padding: 0;position: absolute;width: 1px;}#sk-container-id-3 div.sk-estimator {font-family: monospace;background-color: #f0f8ff;border: 1px dotted black;border-radius: 0.25em;box-sizing: border-box;margin-bottom: 0.5em;}#sk-container-id-3 div.sk-estimator:hover {background-color: #d4ebff;}#sk-container-id-3 div.sk-parallel-item::after {content: \"\";width: 100%;border-bottom: 1px solid gray;flex-grow: 1;}#sk-container-id-3 div.sk-label:hover label.sk-toggleable__label {background-color: #d4ebff;}#sk-container-id-3 div.sk-serial::before {content: \"\";position: absolute;border-left: 1px solid gray;box-sizing: border-box;top: 0;bottom: 0;left: 50%;z-index: 0;}#sk-container-id-3 div.sk-serial {display: flex;flex-direction: column;align-items: center;background-color: white;padding-right: 0.2em;padding-left: 0.2em;position: relative;}#sk-container-id-3 div.sk-item {position: relative;z-index: 1;}#sk-container-id-3 div.sk-parallel {display: flex;align-items: stretch;justify-content: center;background-color: white;position: relative;}#sk-container-id-3 div.sk-item::before, #sk-container-id-3 div.sk-parallel-item::before {content: \"\";position: absolute;border-left: 1px solid gray;box-sizing: border-box;top: 0;bottom: 0;left: 50%;z-index: -1;}#sk-container-id-3 div.sk-parallel-item {display: flex;flex-direction: column;z-index: 1;position: relative;background-color: white;}#sk-container-id-3 div.sk-parallel-item:first-child::after {align-self: flex-end;width: 50%;}#sk-container-id-3 div.sk-parallel-item:last-child::after {align-self: flex-start;width: 50%;}#sk-container-id-3 div.sk-parallel-item:only-child::after {width: 0;}#sk-container-id-3 div.sk-dashed-wrapped {border: 1px dashed gray;margin: 0 0.4em 0.5em 0.4em;box-sizing: border-box;padding-bottom: 0.4em;background-color: white;}#sk-container-id-3 div.sk-label label {font-family: monospace;font-weight: bold;display: inline-block;line-height: 1.2em;}#sk-container-id-3 div.sk-label-container {text-align: center;}#sk-container-id-3 div.sk-container {/* jupyter's `normalize.less` sets `[hidden] { display: none; }` but bootstrap.min.css set `[hidden] { display: none !important; }` so we also need the `!important` here to be able to override the default hidden behavior on the sphinx rendered scikit-learn.org. See: https://github.com/scikit-learn/scikit-learn/issues/21755 */display: inline-block !important;position: relative;}#sk-container-id-3 div.sk-text-repr-fallback {display: none;}</style><div id=\"sk-container-id-3\" class=\"sk-top-container\"><div class=\"sk-text-repr-fallback\"><pre>XGBClassifier(base_score=None, booster=None, callbacks=None,\n",
       "              colsample_bylevel=None, colsample_bynode=None,\n",
       "              colsample_bytree=None, device=None, early_stopping_rounds=None,\n",
       "              enable_categorical=False, eval_metric=&#x27;auc&#x27;, feature_types=None,\n",
       "              gamma=None, grow_policy=None, importance_type=None,\n",
       "              interaction_constraints=None, learning_rate=None, max_bin=None,\n",
       "              max_cat_threshold=None, max_cat_to_onehot=None,\n",
       "              max_delta_step=None, max_depth=None, max_leaves=None,\n",
       "              min_child_weight=None, missing=nan, monotone_constraints=None,\n",
       "              multi_strategy=None, n_estimators=None, n_jobs=None,\n",
       "              num_parallel_tree=None, random_state=42, ...)</pre><b>In a Jupyter environment, please rerun this cell to show the HTML representation or trust the notebook. <br />On GitHub, the HTML representation is unable to render, please try loading this page with nbviewer.org.</b></div><div class=\"sk-container\" hidden><div class=\"sk-item\"><div class=\"sk-estimator sk-toggleable\"><input class=\"sk-toggleable__control sk-hidden--visually\" id=\"sk-estimator-id-3\" type=\"checkbox\" checked><label for=\"sk-estimator-id-3\" class=\"sk-toggleable__label sk-toggleable__label-arrow\">XGBClassifier</label><div class=\"sk-toggleable__content\"><pre>XGBClassifier(base_score=None, booster=None, callbacks=None,\n",
       "              colsample_bylevel=None, colsample_bynode=None,\n",
       "              colsample_bytree=None, device=None, early_stopping_rounds=None,\n",
       "              enable_categorical=False, eval_metric=&#x27;auc&#x27;, feature_types=None,\n",
       "              gamma=None, grow_policy=None, importance_type=None,\n",
       "              interaction_constraints=None, learning_rate=None, max_bin=None,\n",
       "              max_cat_threshold=None, max_cat_to_onehot=None,\n",
       "              max_delta_step=None, max_depth=None, max_leaves=None,\n",
       "              min_child_weight=None, missing=nan, monotone_constraints=None,\n",
       "              multi_strategy=None, n_estimators=None, n_jobs=None,\n",
       "              num_parallel_tree=None, random_state=42, ...)</pre></div></div></div></div></div>"
      ],
      "text/plain": [
       "XGBClassifier(base_score=None, booster=None, callbacks=None,\n",
       "              colsample_bylevel=None, colsample_bynode=None,\n",
       "              colsample_bytree=None, device=None, early_stopping_rounds=None,\n",
       "              enable_categorical=False, eval_metric='auc', feature_types=None,\n",
       "              gamma=None, grow_policy=None, importance_type=None,\n",
       "              interaction_constraints=None, learning_rate=None, max_bin=None,\n",
       "              max_cat_threshold=None, max_cat_to_onehot=None,\n",
       "              max_delta_step=None, max_depth=None, max_leaves=None,\n",
       "              min_child_weight=None, missing=nan, monotone_constraints=None,\n",
       "              multi_strategy=None, n_estimators=None, n_jobs=None,\n",
       "              num_parallel_tree=None, random_state=42, ...)"
      ]
     },
     "execution_count": 23,
     "metadata": {},
     "output_type": "execute_result"
    }
   ],
   "source": [
    "xgb1.fit(X_train_prepared,y_train)"
   ]
  },
  {
   "cell_type": "code",
   "execution_count": 24,
   "id": "df0c593a",
   "metadata": {},
   "outputs": [],
   "source": [
    " # Predict\n",
    "y_pred = model.predict(X_test_prepared)\n",
    "y_prob = model.predict_proba(X_test_prepared)[:, 1]\n",
    "  \n",
    "results = []\n",
    "    # Evaluate\n",
    "results.append({\n",
    "        'Model': 'XGBoost',\n",
    "        'Accuracy': accuracy_score(y_test, y_pred),\n",
    "        'Precision': precision_score(y_test, y_pred),\n",
    "        'Recall': recall_score(y_test, y_pred),\n",
    "        'F1 Score': f1_score(y_test, y_pred),\n",
    "        'ROC AUC': roc_auc_score(y_test, y_prob)\n",
    "    })\n",
    "\n",
    "# Create a DataFrame of results\n",
    "results_df = pd.DataFrame(results).sort_values(by='ROC AUC', ascending=False)"
   ]
  },
  {
   "cell_type": "code",
   "execution_count": 67,
   "id": "994ff858",
   "metadata": {},
   "outputs": [
    {
     "data": {
      "text/plain": [
       "[{'Model': 'XGBoost',\n",
       "  'Accuracy': 0.9197144185792051,\n",
       "  'Precision': 0.5555555555555556,\n",
       "  'Recall': 0.0051055139550714775,\n",
       "  'F1 Score': 0.01011804384485666,\n",
       "  'ROC AUC': 0.7278473482257057}]"
      ]
     },
     "execution_count": 67,
     "metadata": {},
     "output_type": "execute_result"
    }
   ],
   "source": [
    "results"
   ]
  },
  {
   "cell_type": "code",
   "execution_count": null,
   "id": "cd96316d",
   "metadata": {},
   "outputs": [],
   "source": []
  },
  {
   "cell_type": "code",
   "execution_count": null,
   "id": "54e275a3",
   "metadata": {},
   "outputs": [],
   "source": [
    "# Define models\n",
    "models = {\n",
    "    'Logistic Regression': LogisticRegression(max_iter=1000, random_state=42),\n",
    "    'Naive Bayes': GaussianNB(),\n",
    "    'SVM': SVC(probability=True, random_state=42),\n",
    "    'Random Forest': RandomForestClassifier(n_estimators=100, random_state=42),\n",
    "    'XGBoost': XGBClassifier(use_label_encoder=False, eval_metric='logloss', random_state=42)\n",
    "}\n",
    "\n",
    "# Store results\n",
    "results = []\n",
    "\n",
    "# Loop through models\n",
    "for name, model in models.items():\n",
    "    # For Naive Bayes: it doesn't work with sparse matrix (from OneHotEncoder), convert to dense\n",
    "    X_train_mod = X_train_prepared.toarray() if name == 'Naive Bayes' else X_train_prepared\n",
    "    X_test_mod = X_test_prepared.toarray() if name == 'Naive Bayes' else X_test_prepared\n",
    "    \n",
    "    # Train\n",
    "    model.fit(X_train_mod, y_train)\n",
    "    \n",
    "    # Predict\n",
    "    y_pred = model.predict(X_test_mod)\n",
    "    y_prob = model.predict_proba(X_test_mod)[:, 1]\n",
    "    \n",
    "    # Evaluate\n",
    "    results.append({\n",
    "        'Model': name,\n",
    "        'Accuracy': accuracy_score(y_test, y_pred),\n",
    "        'Precision': precision_score(y_test, y_pred),\n",
    "        'Recall': recall_score(y_test, y_pred),\n",
    "        'F1 Score': f1_score(y_test, y_pred),\n",
    "        'ROC AUC': roc_auc_score(y_test, y_prob)\n",
    "    })\n",
    "\n",
    "# Create a DataFrame of results\n",
    "results_df = pd.DataFrame(results).sort_values(by='ROC AUC', ascending=False)"
   ]
  },
  {
   "cell_type": "code",
   "execution_count": 27,
   "id": "98259b44",
   "metadata": {},
   "outputs": [
    {
     "name": "stdout",
     "output_type": "stream",
     "text": [
      "Scale pos weight: 11.35\n"
     ]
    }
   ],
   "source": [
    "# Step 1: Compute scale_pos_weight for imbalance\n",
    "# Formula: count(negative class) / count(positive class)\n",
    "scale_pos_weight = (y_train == 0).sum() / (y_train == 1).sum()\n",
    "print(f\"Scale pos weight: {scale_pos_weight:.2f}\")"
   ]
  },
  {
   "cell_type": "code",
   "execution_count": 28,
   "id": "912b0873",
   "metadata": {},
   "outputs": [],
   "source": [
    "# Step 2: Define XGBoost model\n",
    "xgb = XGBClassifier(\n",
    "    objective='binary:logistic',\n",
    "    use_label_encoder=False,\n",
    "    eval_metric='logloss',\n",
    "    scale_pos_weight=scale_pos_weight,\n",
    "    random_state=42\n",
    ")"
   ]
  },
  {
   "cell_type": "code",
   "execution_count": 38,
   "id": "110f3869",
   "metadata": {},
   "outputs": [],
   "source": [
    "# Step 3: Hyperparameter grid (basic but effective)\n",
    "param_grid = {\n",
    "    'n_estimators': [100],\n",
    "    'max_depth': [3],\n",
    "    'learning_rate': [0.01],\n",
    "    'subsample': [0.8],\n",
    "    'colsample_bytree': [0.8]\n",
    "}\n"
   ]
  },
  {
   "cell_type": "code",
   "execution_count": 39,
   "id": "e54f5228",
   "metadata": {},
   "outputs": [],
   "source": [
    "# Step 4: Use recall as scoring metric\n",
    "recall_scorer = make_scorer(recall_score)"
   ]
  },
  {
   "cell_type": "code",
   "execution_count": 108,
   "id": "e1c29d8e",
   "metadata": {},
   "outputs": [],
   "source": [
    "# Step 4: Define F-beta scorer with beta = 3\n",
    "fbeta_scorer = make_scorer(fbeta_score, beta=4)"
   ]
  },
  {
   "cell_type": "code",
   "execution_count": 52,
   "id": "54c57baf",
   "metadata": {},
   "outputs": [],
   "source": [
    "# Step 5: Cross-validation with GridSearchCV\n",
    "grid_search = GridSearchCV(\n",
    "    estimator=xgb,\n",
    "    param_grid=param_grid,\n",
    "    scoring=fbeta_scorer,\n",
    "    cv=5,\n",
    "    n_jobs=-1,\n",
    "    verbose=1\n",
    ")"
   ]
  },
  {
   "cell_type": "code",
   "execution_count": 53,
   "id": "59b49cd1",
   "metadata": {},
   "outputs": [
    {
     "name": "stdout",
     "output_type": "stream",
     "text": [
      "Fitting 5 folds for each of 1 candidates, totalling 5 fits\n"
     ]
    },
    {
     "name": "stderr",
     "output_type": "stream",
     "text": [
      "C:\\Users\\biswa\\anaconda3\\lib\\site-packages\\xgboost\\core.py:158: UserWarning: [02:40:09] WARNING: C:\\buildkite-agent\\builds\\buildkite-windows-cpu-autoscaling-group-i-08cbc0333d8d4aae1-1\\xgboost\\xgboost-ci-windows\\src\\learner.cc:740: \n",
      "Parameters: { \"use_label_encoder\" } are not used.\n",
      "\n",
      "  warnings.warn(smsg, UserWarning)\n"
     ]
    },
    {
     "data": {
      "text/html": [
       "<style>#sk-container-id-6 {color: black;background-color: white;}#sk-container-id-6 pre{padding: 0;}#sk-container-id-6 div.sk-toggleable {background-color: white;}#sk-container-id-6 label.sk-toggleable__label {cursor: pointer;display: block;width: 100%;margin-bottom: 0;padding: 0.3em;box-sizing: border-box;text-align: center;}#sk-container-id-6 label.sk-toggleable__label-arrow:before {content: \"▸\";float: left;margin-right: 0.25em;color: #696969;}#sk-container-id-6 label.sk-toggleable__label-arrow:hover:before {color: black;}#sk-container-id-6 div.sk-estimator:hover label.sk-toggleable__label-arrow:before {color: black;}#sk-container-id-6 div.sk-toggleable__content {max-height: 0;max-width: 0;overflow: hidden;text-align: left;background-color: #f0f8ff;}#sk-container-id-6 div.sk-toggleable__content pre {margin: 0.2em;color: black;border-radius: 0.25em;background-color: #f0f8ff;}#sk-container-id-6 input.sk-toggleable__control:checked~div.sk-toggleable__content {max-height: 200px;max-width: 100%;overflow: auto;}#sk-container-id-6 input.sk-toggleable__control:checked~label.sk-toggleable__label-arrow:before {content: \"▾\";}#sk-container-id-6 div.sk-estimator input.sk-toggleable__control:checked~label.sk-toggleable__label {background-color: #d4ebff;}#sk-container-id-6 div.sk-label input.sk-toggleable__control:checked~label.sk-toggleable__label {background-color: #d4ebff;}#sk-container-id-6 input.sk-hidden--visually {border: 0;clip: rect(1px 1px 1px 1px);clip: rect(1px, 1px, 1px, 1px);height: 1px;margin: -1px;overflow: hidden;padding: 0;position: absolute;width: 1px;}#sk-container-id-6 div.sk-estimator {font-family: monospace;background-color: #f0f8ff;border: 1px dotted black;border-radius: 0.25em;box-sizing: border-box;margin-bottom: 0.5em;}#sk-container-id-6 div.sk-estimator:hover {background-color: #d4ebff;}#sk-container-id-6 div.sk-parallel-item::after {content: \"\";width: 100%;border-bottom: 1px solid gray;flex-grow: 1;}#sk-container-id-6 div.sk-label:hover label.sk-toggleable__label {background-color: #d4ebff;}#sk-container-id-6 div.sk-serial::before {content: \"\";position: absolute;border-left: 1px solid gray;box-sizing: border-box;top: 0;bottom: 0;left: 50%;z-index: 0;}#sk-container-id-6 div.sk-serial {display: flex;flex-direction: column;align-items: center;background-color: white;padding-right: 0.2em;padding-left: 0.2em;position: relative;}#sk-container-id-6 div.sk-item {position: relative;z-index: 1;}#sk-container-id-6 div.sk-parallel {display: flex;align-items: stretch;justify-content: center;background-color: white;position: relative;}#sk-container-id-6 div.sk-item::before, #sk-container-id-6 div.sk-parallel-item::before {content: \"\";position: absolute;border-left: 1px solid gray;box-sizing: border-box;top: 0;bottom: 0;left: 50%;z-index: -1;}#sk-container-id-6 div.sk-parallel-item {display: flex;flex-direction: column;z-index: 1;position: relative;background-color: white;}#sk-container-id-6 div.sk-parallel-item:first-child::after {align-self: flex-end;width: 50%;}#sk-container-id-6 div.sk-parallel-item:last-child::after {align-self: flex-start;width: 50%;}#sk-container-id-6 div.sk-parallel-item:only-child::after {width: 0;}#sk-container-id-6 div.sk-dashed-wrapped {border: 1px dashed gray;margin: 0 0.4em 0.5em 0.4em;box-sizing: border-box;padding-bottom: 0.4em;background-color: white;}#sk-container-id-6 div.sk-label label {font-family: monospace;font-weight: bold;display: inline-block;line-height: 1.2em;}#sk-container-id-6 div.sk-label-container {text-align: center;}#sk-container-id-6 div.sk-container {/* jupyter's `normalize.less` sets `[hidden] { display: none; }` but bootstrap.min.css set `[hidden] { display: none !important; }` so we also need the `!important` here to be able to override the default hidden behavior on the sphinx rendered scikit-learn.org. See: https://github.com/scikit-learn/scikit-learn/issues/21755 */display: inline-block !important;position: relative;}#sk-container-id-6 div.sk-text-repr-fallback {display: none;}</style><div id=\"sk-container-id-6\" class=\"sk-top-container\"><div class=\"sk-text-repr-fallback\"><pre>GridSearchCV(cv=5,\n",
       "             estimator=XGBClassifier(base_score=None, booster=None,\n",
       "                                     callbacks=None, colsample_bylevel=None,\n",
       "                                     colsample_bynode=None,\n",
       "                                     colsample_bytree=None, device=None,\n",
       "                                     early_stopping_rounds=None,\n",
       "                                     enable_categorical=False,\n",
       "                                     eval_metric=&#x27;logloss&#x27;, feature_types=None,\n",
       "                                     gamma=None, grow_policy=None,\n",
       "                                     importance_type=None,\n",
       "                                     interaction_constraints=None,\n",
       "                                     learning_rate=...\n",
       "                                     max_delta_step=None, max_depth=None,\n",
       "                                     max_leaves=None, min_child_weight=None,\n",
       "                                     missing=nan, monotone_constraints=None,\n",
       "                                     multi_strategy=None, n_estimators=None,\n",
       "                                     n_jobs=None, num_parallel_tree=None,\n",
       "                                     random_state=42, ...),\n",
       "             n_jobs=-1,\n",
       "             param_grid={&#x27;colsample_bytree&#x27;: [0.8], &#x27;learning_rate&#x27;: [0.01],\n",
       "                         &#x27;max_depth&#x27;: [3], &#x27;n_estimators&#x27;: [100],\n",
       "                         &#x27;subsample&#x27;: [0.8]},\n",
       "             scoring=make_scorer(fbeta_score, beta=0.8), verbose=1)</pre><b>In a Jupyter environment, please rerun this cell to show the HTML representation or trust the notebook. <br />On GitHub, the HTML representation is unable to render, please try loading this page with nbviewer.org.</b></div><div class=\"sk-container\" hidden><div class=\"sk-item sk-dashed-wrapped\"><div class=\"sk-label-container\"><div class=\"sk-label sk-toggleable\"><input class=\"sk-toggleable__control sk-hidden--visually\" id=\"sk-estimator-id-10\" type=\"checkbox\" ><label for=\"sk-estimator-id-10\" class=\"sk-toggleable__label sk-toggleable__label-arrow\">GridSearchCV</label><div class=\"sk-toggleable__content\"><pre>GridSearchCV(cv=5,\n",
       "             estimator=XGBClassifier(base_score=None, booster=None,\n",
       "                                     callbacks=None, colsample_bylevel=None,\n",
       "                                     colsample_bynode=None,\n",
       "                                     colsample_bytree=None, device=None,\n",
       "                                     early_stopping_rounds=None,\n",
       "                                     enable_categorical=False,\n",
       "                                     eval_metric=&#x27;logloss&#x27;, feature_types=None,\n",
       "                                     gamma=None, grow_policy=None,\n",
       "                                     importance_type=None,\n",
       "                                     interaction_constraints=None,\n",
       "                                     learning_rate=...\n",
       "                                     max_delta_step=None, max_depth=None,\n",
       "                                     max_leaves=None, min_child_weight=None,\n",
       "                                     missing=nan, monotone_constraints=None,\n",
       "                                     multi_strategy=None, n_estimators=None,\n",
       "                                     n_jobs=None, num_parallel_tree=None,\n",
       "                                     random_state=42, ...),\n",
       "             n_jobs=-1,\n",
       "             param_grid={&#x27;colsample_bytree&#x27;: [0.8], &#x27;learning_rate&#x27;: [0.01],\n",
       "                         &#x27;max_depth&#x27;: [3], &#x27;n_estimators&#x27;: [100],\n",
       "                         &#x27;subsample&#x27;: [0.8]},\n",
       "             scoring=make_scorer(fbeta_score, beta=0.8), verbose=1)</pre></div></div></div><div class=\"sk-parallel\"><div class=\"sk-parallel-item\"><div class=\"sk-item\"><div class=\"sk-label-container\"><div class=\"sk-label sk-toggleable\"><input class=\"sk-toggleable__control sk-hidden--visually\" id=\"sk-estimator-id-11\" type=\"checkbox\" ><label for=\"sk-estimator-id-11\" class=\"sk-toggleable__label sk-toggleable__label-arrow\">estimator: XGBClassifier</label><div class=\"sk-toggleable__content\"><pre>XGBClassifier(base_score=None, booster=None, callbacks=None,\n",
       "              colsample_bylevel=None, colsample_bynode=None,\n",
       "              colsample_bytree=None, device=None, early_stopping_rounds=None,\n",
       "              enable_categorical=False, eval_metric=&#x27;logloss&#x27;,\n",
       "              feature_types=None, gamma=None, grow_policy=None,\n",
       "              importance_type=None, interaction_constraints=None,\n",
       "              learning_rate=None, max_bin=None, max_cat_threshold=None,\n",
       "              max_cat_to_onehot=None, max_delta_step=None, max_depth=None,\n",
       "              max_leaves=None, min_child_weight=None, missing=nan,\n",
       "              monotone_constraints=None, multi_strategy=None, n_estimators=None,\n",
       "              n_jobs=None, num_parallel_tree=None, random_state=42, ...)</pre></div></div></div><div class=\"sk-serial\"><div class=\"sk-item\"><div class=\"sk-estimator sk-toggleable\"><input class=\"sk-toggleable__control sk-hidden--visually\" id=\"sk-estimator-id-12\" type=\"checkbox\" ><label for=\"sk-estimator-id-12\" class=\"sk-toggleable__label sk-toggleable__label-arrow\">XGBClassifier</label><div class=\"sk-toggleable__content\"><pre>XGBClassifier(base_score=None, booster=None, callbacks=None,\n",
       "              colsample_bylevel=None, colsample_bynode=None,\n",
       "              colsample_bytree=None, device=None, early_stopping_rounds=None,\n",
       "              enable_categorical=False, eval_metric=&#x27;logloss&#x27;,\n",
       "              feature_types=None, gamma=None, grow_policy=None,\n",
       "              importance_type=None, interaction_constraints=None,\n",
       "              learning_rate=None, max_bin=None, max_cat_threshold=None,\n",
       "              max_cat_to_onehot=None, max_delta_step=None, max_depth=None,\n",
       "              max_leaves=None, min_child_weight=None, missing=nan,\n",
       "              monotone_constraints=None, multi_strategy=None, n_estimators=None,\n",
       "              n_jobs=None, num_parallel_tree=None, random_state=42, ...)</pre></div></div></div></div></div></div></div></div></div></div>"
      ],
      "text/plain": [
       "GridSearchCV(cv=5,\n",
       "             estimator=XGBClassifier(base_score=None, booster=None,\n",
       "                                     callbacks=None, colsample_bylevel=None,\n",
       "                                     colsample_bynode=None,\n",
       "                                     colsample_bytree=None, device=None,\n",
       "                                     early_stopping_rounds=None,\n",
       "                                     enable_categorical=False,\n",
       "                                     eval_metric='logloss', feature_types=None,\n",
       "                                     gamma=None, grow_policy=None,\n",
       "                                     importance_type=None,\n",
       "                                     interaction_constraints=None,\n",
       "                                     learning_rate=...\n",
       "                                     max_delta_step=None, max_depth=None,\n",
       "                                     max_leaves=None, min_child_weight=None,\n",
       "                                     missing=nan, monotone_constraints=None,\n",
       "                                     multi_strategy=None, n_estimators=None,\n",
       "                                     n_jobs=None, num_parallel_tree=None,\n",
       "                                     random_state=42, ...),\n",
       "             n_jobs=-1,\n",
       "             param_grid={'colsample_bytree': [0.8], 'learning_rate': [0.01],\n",
       "                         'max_depth': [3], 'n_estimators': [100],\n",
       "                         'subsample': [0.8]},\n",
       "             scoring=make_scorer(fbeta_score, beta=0.8), verbose=1)"
      ]
     },
     "execution_count": 53,
     "metadata": {},
     "output_type": "execute_result"
    }
   ],
   "source": [
    "# Step 6: Fit model\n",
    "grid_search.fit(X_train_prepared, y_train)"
   ]
  },
  {
   "cell_type": "code",
   "execution_count": 42,
   "id": "177b1087",
   "metadata": {},
   "outputs": [
    {
     "name": "stdout",
     "output_type": "stream",
     "text": [
      "Best Parameters:\n",
      " {'colsample_bytree': 0.8, 'learning_rate': 0.01, 'max_depth': 3, 'n_estimators': 100, 'subsample': 0.8}\n",
      "Best Recall Score on CV: 0.6095297876598995\n"
     ]
    }
   ],
   "source": [
    "# Step 7: Best model and recall score\n",
    "print(\"Best Parameters:\\n\", grid_search.best_params_)\n",
    "print(\"Best Recall Score on CV:\", grid_search.best_score_)\n",
    "\n",
    "\n"
   ]
  },
  {
   "cell_type": "code",
   "execution_count": 68,
   "id": "64ff598b",
   "metadata": {},
   "outputs": [
    {
     "name": "stdout",
     "output_type": "stream",
     "text": [
      "Test Recall Score: 0.6010891763104153\n"
     ]
    }
   ],
   "source": [
    "# Step 8: Predict on test set using best estimator\n",
    "\n",
    "y_pred_test = grid_search.best_estimator_.predict(X_test_prepared)\n",
    "\n",
    "# Step 9: Evaluate on test data\n",
    "print(\"Test Recall Score:\", recall_score(y_test, y_pred_test))"
   ]
  },
  {
   "cell_type": "code",
   "execution_count": 69,
   "id": "15fd9aee",
   "metadata": {},
   "outputs": [],
   "source": [
    "results.append({\n",
    "        'Model': 'grid_search_XGBoost',\n",
    "        'Accuracy': accuracy_score(y_test, y_pred_test),\n",
    "        'Precision': precision_score(y_test, y_pred_test),\n",
    "        'Recall': recall_score(y_test, y_pred_test),\n",
    "        'F1 Score': f1_score(y_test, y_pred_test),\n",
    "        'ROC AUC': roc_auc_score(y_test, y_pred_test)\n",
    "    })"
   ]
  },
  {
   "cell_type": "code",
   "execution_count": null,
   "id": "4bcbb0dd",
   "metadata": {},
   "outputs": [],
   "source": []
  },
  {
   "cell_type": "code",
   "execution_count": 55,
   "id": "c43ed89a",
   "metadata": {},
   "outputs": [
    {
     "data": {
      "image/png": "[encoded data removed]",
      "text/plain": [
       "<Figure size 432x288 with 2 Axes>"
      ]
     },
     "metadata": {
      "needs_background": "light"
     },
     "output_type": "display_data"
    }
   ],
   "source": [
    "# Step 9: Confusion Matrix\n",
    "cm = confusion_matrix(y_test, y_pred_test)\n",
    "plt.figure(figsize=(6,4))\n",
    "sns.heatmap(cm, annot=True, fmt='d', cmap='Blues', xticklabels=['No Default', 'Default'], yticklabels=['No Default', 'Default'])\n",
    "plt.xlabel('Predicted')\n",
    "plt.ylabel('Actual')\n",
    "plt.title('Confusion Matrix')\n",
    "plt.show()"
   ]
  },
  {
   "cell_type": "code",
   "execution_count": 76,
   "id": "f8f896f9",
   "metadata": {},
   "outputs": [],
   "source": [
    "# Expanded hyperparameter grid for random search\n",
    "param_distributions = {\n",
    "    'n_estimators': [100, 200, 300,400,500],\n",
    "    'max_depth': [3, 5, 7,9],\n",
    "    'learning_rate': [0.01, 0.05, 0.1,0.3],\n",
    "    'subsample': [0.2,0,4,0.6, 0.8],\n",
    "    'colsample_bytree': [0.4,0.6, 0.8]\n",
    "}"
   ]
  },
  {
   "cell_type": "code",
   "execution_count": 77,
   "id": "4c59e03e",
   "metadata": {},
   "outputs": [],
   "source": [
    "# RandomizedSearchCV with more parameter combinations\n",
    "random_search = RandomizedSearchCV(\n",
    "    estimator=xgb,\n",
    "    param_distributions=param_distributions,\n",
    "    scoring=fbeta_scorer,\n",
    "    cv=5,\n",
    "    n_iter=50,  # You can adjust this depending on how many random combos you want to try\n",
    "    n_jobs=-1,\n",
    "    verbose=2,\n",
    "    random_state=42\n",
    ")"
   ]
  },
  {
   "cell_type": "code",
   "execution_count": 78,
   "id": "9fc9ce54",
   "metadata": {
    "scrolled": true
   },
   "outputs": [
    {
     "name": "stdout",
     "output_type": "stream",
     "text": [
      "Fitting 5 folds for each of 50 candidates, totalling 250 fits\n"
     ]
    },
    {
     "name": "stderr",
     "output_type": "stream",
     "text": [
      "C:\\Users\\biswa\\anaconda3\\lib\\site-packages\\sklearn\\model_selection\\_validation.py:378: FitFailedWarning: \n",
      "45 fits failed out of a total of 250.\n",
      "The score on these train-test partitions for these parameters will be set to nan.\n",
      "If these failures are not expected, you can try to debug them by setting error_score='raise'.\n",
      "\n",
      "Below are more details about the failures:\n",
      "--------------------------------------------------------------------------------\n",
      "45 fits failed with the following error:\n",
      "Traceback (most recent call last):\n",
      "  File \"C:\\Users\\biswa\\anaconda3\\lib\\site-packages\\sklearn\\model_selection\\_validation.py\", line 686, in _fit_and_score\n",
      "    estimator.fit(X_train, y_train, **fit_params)\n",
      "  File \"C:\\Users\\biswa\\anaconda3\\lib\\site-packages\\xgboost\\core.py\", line 726, in inner_f\n",
      "    return func(**kwargs)\n",
      "  File \"C:\\Users\\biswa\\anaconda3\\lib\\site-packages\\xgboost\\sklearn.py\", line 1599, in fit\n",
      "    self._Booster = train(\n",
      "  File \"C:\\Users\\biswa\\anaconda3\\lib\\site-packages\\xgboost\\core.py\", line 726, in inner_f\n",
      "    return func(**kwargs)\n",
      "  File \"C:\\Users\\biswa\\anaconda3\\lib\\site-packages\\xgboost\\training.py\", line 181, in train\n",
      "    bst.update(dtrain, iteration=i, fobj=obj)\n",
      "  File \"C:\\Users\\biswa\\anaconda3\\lib\\site-packages\\xgboost\\core.py\", line 2100, in update\n",
      "    _check_call(\n",
      "  File \"C:\\Users\\biswa\\anaconda3\\lib\\site-packages\\xgboost\\core.py\", line 284, in _check_call\n",
      "    raise XGBoostError(py_str(_LIB.XGBGetLastError()))\n",
      "xgboost.core.XGBoostError: value 4 for Parameter subsample exceed bound [0,1]\n",
      "subsample: Row subsample ratio of training instance.\n",
      "\n",
      "  warnings.warn(some_fits_failed_message, FitFailedWarning)\n",
      "C:\\Users\\biswa\\anaconda3\\lib\\site-packages\\sklearn\\model_selection\\_search.py:953: UserWarning: One or more of the test scores are non-finite: [0.30383289 0.41220302 0.20380238 0.42039486 0.42051966 0.37233552\n",
      " 0.40046002 0.39573226 0.20380238 0.40844463 0.42114172 0.42401006\n",
      " 0.42510464 0.42391883 0.39954943 0.39524016 0.42811773 0.29862105\n",
      " 0.42021124 0.41940221 0.29143107 0.42771667 0.20380238 0.36746566\n",
      " 0.42478384        nan        nan 0.39039854 0.33195447 0.33369595\n",
      " 0.26282346 0.40906152        nan        nan        nan 0.20380238\n",
      "        nan 0.41507831 0.20380238        nan 0.35522711        nan\n",
      " 0.41407273 0.3224265  0.4080502         nan 0.37375389 0.4196155\n",
      " 0.42394344 0.41530275]\n",
      "  warnings.warn(\n",
      "C:\\Users\\biswa\\anaconda3\\lib\\site-packages\\xgboost\\core.py:158: UserWarning: [11:38:35] WARNING: C:\\buildkite-agent\\builds\\buildkite-windows-cpu-autoscaling-group-i-08cbc0333d8d4aae1-1\\xgboost\\xgboost-ci-windows\\src\\learner.cc:740: \n",
      "Parameters: { \"use_label_encoder\" } are not used.\n",
      "\n",
      "  warnings.warn(smsg, UserWarning)\n"
     ]
    },
    {
     "data": {
      "text/html": [
       "<style>#sk-container-id-9 {color: black;background-color: white;}#sk-container-id-9 pre{padding: 0;}#sk-container-id-9 div.sk-toggleable {background-color: white;}#sk-container-id-9 label.sk-toggleable__label {cursor: pointer;display: block;width: 100%;margin-bottom: 0;padding: 0.3em;box-sizing: border-box;text-align: center;}#sk-container-id-9 label.sk-toggleable__label-arrow:before {content: \"▸\";float: left;margin-right: 0.25em;color: #696969;}#sk-container-id-9 label.sk-toggleable__label-arrow:hover:before {color: black;}#sk-container-id-9 div.sk-estimator:hover label.sk-toggleable__label-arrow:before {color: black;}#sk-container-id-9 div.sk-toggleable__content {max-height: 0;max-width: 0;overflow: hidden;text-align: left;background-color: #f0f8ff;}#sk-container-id-9 div.sk-toggleable__content pre {margin: 0.2em;color: black;border-radius: 0.25em;background-color: #f0f8ff;}#sk-container-id-9 input.sk-toggleable__control:checked~div.sk-toggleable__content {max-height: 200px;max-width: 100%;overflow: auto;}#sk-container-id-9 input.sk-toggleable__control:checked~label.sk-toggleable__label-arrow:before {content: \"▾\";}#sk-container-id-9 div.sk-estimator input.sk-toggleable__control:checked~label.sk-toggleable__label {background-color: #d4ebff;}#sk-container-id-9 div.sk-label input.sk-toggleable__control:checked~label.sk-toggleable__label {background-color: #d4ebff;}#sk-container-id-9 input.sk-hidden--visually {border: 0;clip: rect(1px 1px 1px 1px);clip: rect(1px, 1px, 1px, 1px);height: 1px;margin: -1px;overflow: hidden;padding: 0;position: absolute;width: 1px;}#sk-container-id-9 div.sk-estimator {font-family: monospace;background-color: #f0f8ff;border: 1px dotted black;border-radius: 0.25em;box-sizing: border-box;margin-bottom: 0.5em;}#sk-container-id-9 div.sk-estimator:hover {background-color: #d4ebff;}#sk-container-id-9 div.sk-parallel-item::after {content: \"\";width: 100%;border-bottom: 1px solid gray;flex-grow: 1;}#sk-container-id-9 div.sk-label:hover label.sk-toggleable__label {background-color: #d4ebff;}#sk-container-id-9 div.sk-serial::before {content: \"\";position: absolute;border-left: 1px solid gray;box-sizing: border-box;top: 0;bottom: 0;left: 50%;z-index: 0;}#sk-container-id-9 div.sk-serial {display: flex;flex-direction: column;align-items: center;background-color: white;padding-right: 0.2em;padding-left: 0.2em;position: relative;}#sk-container-id-9 div.sk-item {position: relative;z-index: 1;}#sk-container-id-9 div.sk-parallel {display: flex;align-items: stretch;justify-content: center;background-color: white;position: relative;}#sk-container-id-9 div.sk-item::before, #sk-container-id-9 div.sk-parallel-item::before {content: \"\";position: absolute;border-left: 1px solid gray;box-sizing: border-box;top: 0;bottom: 0;left: 50%;z-index: -1;}#sk-container-id-9 div.sk-parallel-item {display: flex;flex-direction: column;z-index: 1;position: relative;background-color: white;}#sk-container-id-9 div.sk-parallel-item:first-child::after {align-self: flex-end;width: 50%;}#sk-container-id-9 div.sk-parallel-item:last-child::after {align-self: flex-start;width: 50%;}#sk-container-id-9 div.sk-parallel-item:only-child::after {width: 0;}#sk-container-id-9 div.sk-dashed-wrapped {border: 1px dashed gray;margin: 0 0.4em 0.5em 0.4em;box-sizing: border-box;padding-bottom: 0.4em;background-color: white;}#sk-container-id-9 div.sk-label label {font-family: monospace;font-weight: bold;display: inline-block;line-height: 1.2em;}#sk-container-id-9 div.sk-label-container {text-align: center;}#sk-container-id-9 div.sk-container {/* jupyter's `normalize.less` sets `[hidden] { display: none; }` but bootstrap.min.css set `[hidden] { display: none !important; }` so we also need the `!important` here to be able to override the default hidden behavior on the sphinx rendered scikit-learn.org. See: https://github.com/scikit-learn/scikit-learn/issues/21755 */display: inline-block !important;position: relative;}#sk-container-id-9 div.sk-text-repr-fallback {display: none;}</style><div id=\"sk-container-id-9\" class=\"sk-top-container\"><div class=\"sk-text-repr-fallback\"><pre>RandomizedSearchCV(cv=5,\n",
       "                   estimator=XGBClassifier(base_score=None, booster=None,\n",
       "                                           callbacks=None,\n",
       "                                           colsample_bylevel=None,\n",
       "                                           colsample_bynode=None,\n",
       "                                           colsample_bytree=None, device=None,\n",
       "                                           early_stopping_rounds=None,\n",
       "                                           enable_categorical=False,\n",
       "                                           eval_metric=&#x27;logloss&#x27;,\n",
       "                                           feature_types=None, gamma=None,\n",
       "                                           grow_policy=None,\n",
       "                                           importance_type=None,\n",
       "                                           interaction_constraints=None,\n",
       "                                           learning...\n",
       "                                           multi_strategy=None,\n",
       "                                           n_estimators=None, n_jobs=None,\n",
       "                                           num_parallel_tree=None,\n",
       "                                           random_state=42, ...),\n",
       "                   n_iter=50, n_jobs=-1,\n",
       "                   param_distributions={&#x27;colsample_bytree&#x27;: [0.4, 0.6, 0.8],\n",
       "                                        &#x27;learning_rate&#x27;: [0.01, 0.05, 0.1, 0.3],\n",
       "                                        &#x27;max_depth&#x27;: [3, 5, 7, 9],\n",
       "                                        &#x27;n_estimators&#x27;: [100, 200, 300, 400,\n",
       "                                                         500],\n",
       "                                        &#x27;subsample&#x27;: [0.2, 0, 4, 0.6, 0.8]},\n",
       "                   random_state=42, scoring=make_scorer(fbeta_score, beta=2.2),\n",
       "                   verbose=2)</pre><b>In a Jupyter environment, please rerun this cell to show the HTML representation or trust the notebook. <br />On GitHub, the HTML representation is unable to render, please try loading this page with nbviewer.org.</b></div><div class=\"sk-container\" hidden><div class=\"sk-item sk-dashed-wrapped\"><div class=\"sk-label-container\"><div class=\"sk-label sk-toggleable\"><input class=\"sk-toggleable__control sk-hidden--visually\" id=\"sk-estimator-id-17\" type=\"checkbox\" ><label for=\"sk-estimator-id-17\" class=\"sk-toggleable__label sk-toggleable__label-arrow\">RandomizedSearchCV</label><div class=\"sk-toggleable__content\"><pre>RandomizedSearchCV(cv=5,\n",
       "                   estimator=XGBClassifier(base_score=None, booster=None,\n",
       "                                           callbacks=None,\n",
       "                                           colsample_bylevel=None,\n",
       "                                           colsample_bynode=None,\n",
       "                                           colsample_bytree=None, device=None,\n",
       "                                           early_stopping_rounds=None,\n",
       "                                           enable_categorical=False,\n",
       "                                           eval_metric=&#x27;logloss&#x27;,\n",
       "                                           feature_types=None, gamma=None,\n",
       "                                           grow_policy=None,\n",
       "                                           importance_type=None,\n",
       "                                           interaction_constraints=None,\n",
       "                                           learning...\n",
       "                                           multi_strategy=None,\n",
       "                                           n_estimators=None, n_jobs=None,\n",
       "                                           num_parallel_tree=None,\n",
       "                                           random_state=42, ...),\n",
       "                   n_iter=50, n_jobs=-1,\n",
       "                   param_distributions={&#x27;colsample_bytree&#x27;: [0.4, 0.6, 0.8],\n",
       "                                        &#x27;learning_rate&#x27;: [0.01, 0.05, 0.1, 0.3],\n",
       "                                        &#x27;max_depth&#x27;: [3, 5, 7, 9],\n",
       "                                        &#x27;n_estimators&#x27;: [100, 200, 300, 400,\n",
       "                                                         500],\n",
       "                                        &#x27;subsample&#x27;: [0.2, 0, 4, 0.6, 0.8]},\n",
       "                   random_state=42, scoring=make_scorer(fbeta_score, beta=2.2),\n",
       "                   verbose=2)</pre></div></div></div><div class=\"sk-parallel\"><div class=\"sk-parallel-item\"><div class=\"sk-item\"><div class=\"sk-label-container\"><div class=\"sk-label sk-toggleable\"><input class=\"sk-toggleable__control sk-hidden--visually\" id=\"sk-estimator-id-18\" type=\"checkbox\" ><label for=\"sk-estimator-id-18\" class=\"sk-toggleable__label sk-toggleable__label-arrow\">estimator: XGBClassifier</label><div class=\"sk-toggleable__content\"><pre>XGBClassifier(base_score=None, booster=None, callbacks=None,\n",
       "              colsample_bylevel=None, colsample_bynode=None,\n",
       "              colsample_bytree=None, device=None, early_stopping_rounds=None,\n",
       "              enable_categorical=False, eval_metric=&#x27;logloss&#x27;,\n",
       "              feature_types=None, gamma=None, grow_policy=None,\n",
       "              importance_type=None, interaction_constraints=None,\n",
       "              learning_rate=None, max_bin=None, max_cat_threshold=None,\n",
       "              max_cat_to_onehot=None, max_delta_step=None, max_depth=None,\n",
       "              max_leaves=None, min_child_weight=None, missing=nan,\n",
       "              monotone_constraints=None, multi_strategy=None, n_estimators=None,\n",
       "              n_jobs=None, num_parallel_tree=None, random_state=42, ...)</pre></div></div></div><div class=\"sk-serial\"><div class=\"sk-item\"><div class=\"sk-estimator sk-toggleable\"><input class=\"sk-toggleable__control sk-hidden--visually\" id=\"sk-estimator-id-19\" type=\"checkbox\" ><label for=\"sk-estimator-id-19\" class=\"sk-toggleable__label sk-toggleable__label-arrow\">XGBClassifier</label><div class=\"sk-toggleable__content\"><pre>XGBClassifier(base_score=None, booster=None, callbacks=None,\n",
       "              colsample_bylevel=None, colsample_bynode=None,\n",
       "              colsample_bytree=None, device=None, early_stopping_rounds=None,\n",
       "              enable_categorical=False, eval_metric=&#x27;logloss&#x27;,\n",
       "              feature_types=None, gamma=None, grow_policy=None,\n",
       "              importance_type=None, interaction_constraints=None,\n",
       "              learning_rate=None, max_bin=None, max_cat_threshold=None,\n",
       "              max_cat_to_onehot=None, max_delta_step=None, max_depth=None,\n",
       "              max_leaves=None, min_child_weight=None, missing=nan,\n",
       "              monotone_constraints=None, multi_strategy=None, n_estimators=None,\n",
       "              n_jobs=None, num_parallel_tree=None, random_state=42, ...)</pre></div></div></div></div></div></div></div></div></div></div>"
      ],
      "text/plain": [
       "RandomizedSearchCV(cv=5,\n",
       "                   estimator=XGBClassifier(base_score=None, booster=None,\n",
       "                                           callbacks=None,\n",
       "                                           colsample_bylevel=None,\n",
       "                                           colsample_bynode=None,\n",
       "                                           colsample_bytree=None, device=None,\n",
       "                                           early_stopping_rounds=None,\n",
       "                                           enable_categorical=False,\n",
       "                                           eval_metric='logloss',\n",
       "                                           feature_types=None, gamma=None,\n",
       "                                           grow_policy=None,\n",
       "                                           importance_type=None,\n",
       "                                           interaction_constraints=None,\n",
       "                                           learning...\n",
       "                                           multi_strategy=None,\n",
       "                                           n_estimators=None, n_jobs=None,\n",
       "                                           num_parallel_tree=None,\n",
       "                                           random_state=42, ...),\n",
       "                   n_iter=50, n_jobs=-1,\n",
       "                   param_distributions={'colsample_bytree': [0.4, 0.6, 0.8],\n",
       "                                        'learning_rate': [0.01, 0.05, 0.1, 0.3],\n",
       "                                        'max_depth': [3, 5, 7, 9],\n",
       "                                        'n_estimators': [100, 200, 300, 400,\n",
       "                                                         500],\n",
       "                                        'subsample': [0.2, 0, 4, 0.6, 0.8]},\n",
       "                   random_state=42, scoring=make_scorer(fbeta_score, beta=2.2),\n",
       "                   verbose=2)"
      ]
     },
     "execution_count": 78,
     "metadata": {},
     "output_type": "execute_result"
    }
   ],
   "source": [
    "# Step 6: Fit model\n",
    "random_search.fit(X_train_prepared, y_train)"
   ]
  },
  {
   "cell_type": "code",
   "execution_count": 79,
   "id": "80811151",
   "metadata": {},
   "outputs": [
    {
     "name": "stdout",
     "output_type": "stream",
     "text": [
      "Test Recall Score: 0.6507828454731109\n"
     ]
    }
   ],
   "source": [
    "# Step 8: Predict on test set using best estimator\n",
    "\n",
    "y_pred_test_random = random_search.best_estimator_.predict(X_test_prepared)\n",
    "\n",
    "# Step 9: Evaluate on test data\n",
    "print(\"Test Recall Score:\", recall_score(y_test, y_pred_test_random))"
   ]
  },
  {
   "cell_type": "code",
   "execution_count": 80,
   "id": "3529b4e9",
   "metadata": {},
   "outputs": [
    {
     "data": {
      "image/png": "[encoded data removed]",
      "text/plain": [
       "<Figure size 432x288 with 2 Axes>"
      ]
     },
     "metadata": {
      "needs_background": "light"
     },
     "output_type": "display_data"
    }
   ],
   "source": [
    "# Step 9: Confusion Matrix\n",
    "cm = confusion_matrix(y_test, y_pred_test_random)\n",
    "plt.figure(figsize=(6,4))\n",
    "sns.heatmap(cm, annot=True, fmt='d', cmap='Blues', xticklabels=['No Default', 'Default'], yticklabels=['No Default', 'Default'])\n",
    "plt.xlabel('Predicted')\n",
    "plt.ylabel('Actual')\n",
    "plt.title('Confusion Matrix')\n",
    "plt.show()"
   ]
  },
  {
   "cell_type": "code",
   "execution_count": 81,
   "id": "4982c783",
   "metadata": {},
   "outputs": [],
   "source": [
    "results.append({\n",
    "        'Model': 'random_search_XGBoost_modified',\n",
    "        'Accuracy': accuracy_score(y_test, y_pred_test_random),\n",
    "        'Precision': precision_score(y_test, y_pred_test_random),\n",
    "        'Recall': recall_score(y_test, y_pred_test_random),\n",
    "        'F1 Score': f1_score(y_test, y_pred_test_random),\n",
    "        'ROC AUC': roc_auc_score(y_test, y_pred_test_random)\n",
    "    })"
   ]
  },
  {
   "cell_type": "code",
   "execution_count": 82,
   "id": "cefb9ea1",
   "metadata": {},
   "outputs": [],
   "source": [
    "# Create a DataFrame of results\n",
    "results_df = pd.DataFrame(results).sort_values(by='ROC AUC', ascending=False)"
   ]
  },
  {
   "cell_type": "code",
   "execution_count": 83,
   "id": "66966551",
   "metadata": {},
   "outputs": [
    {
     "data": {
      "text/html": [
       "<div>\n",
       "<style scoped>\n",
       "    .dataframe tbody tr th:only-of-type {\n",
       "        vertical-align: middle;\n",
       "    }\n",
       "\n",
       "    .dataframe tbody tr th {\n",
       "        vertical-align: top;\n",
       "    }\n",
       "\n",
       "    .dataframe thead th {\n",
       "        text-align: right;\n",
       "    }\n",
       "</style>\n",
       "<table border=\"1\" class=\"dataframe\">\n",
       "  <thead>\n",
       "    <tr style=\"text-align: right;\">\n",
       "      <th></th>\n",
       "      <th>Model</th>\n",
       "      <th>Accuracy</th>\n",
       "      <th>Precision</th>\n",
       "      <th>Recall</th>\n",
       "      <th>F1 Score</th>\n",
       "      <th>ROC AUC</th>\n",
       "    </tr>\n",
       "  </thead>\n",
       "  <tbody>\n",
       "    <tr>\n",
       "      <th>0</th>\n",
       "      <td>XGBoost</td>\n",
       "      <td>0.919714</td>\n",
       "      <td>0.555556</td>\n",
       "      <td>0.005106</td>\n",
       "      <td>0.010118</td>\n",
       "      <td>0.727847</td>\n",
       "    </tr>\n",
       "    <tr>\n",
       "      <th>3</th>\n",
       "      <td>random_search_XGBoost_modified</td>\n",
       "      <td>0.694122</td>\n",
       "      <td>0.158436</td>\n",
       "      <td>0.650783</td>\n",
       "      <td>0.254831</td>\n",
       "      <td>0.674346</td>\n",
       "    </tr>\n",
       "    <tr>\n",
       "      <th>2</th>\n",
       "      <td>random_search_XGBoost</td>\n",
       "      <td>0.791640</td>\n",
       "      <td>0.198712</td>\n",
       "      <td>0.525187</td>\n",
       "      <td>0.288330</td>\n",
       "      <td>0.670057</td>\n",
       "    </tr>\n",
       "    <tr>\n",
       "      <th>1</th>\n",
       "      <td>grid_search_XGBoost</td>\n",
       "      <td>0.687939</td>\n",
       "      <td>0.147142</td>\n",
       "      <td>0.601089</td>\n",
       "      <td>0.236412</td>\n",
       "      <td>0.648309</td>\n",
       "    </tr>\n",
       "  </tbody>\n",
       "</table>\n",
       "</div>"
      ],
      "text/plain": [
       "                            Model  Accuracy  Precision    Recall  F1 Score  \\\n",
       "0                         XGBoost  0.919714   0.555556  0.005106  0.010118   \n",
       "3  random_search_XGBoost_modified  0.694122   0.158436  0.650783  0.254831   \n",
       "2           random_search_XGBoost  0.791640   0.198712  0.525187  0.288330   \n",
       "1             grid_search_XGBoost  0.687939   0.147142  0.601089  0.236412   \n",
       "\n",
       "    ROC AUC  \n",
       "0  0.727847  \n",
       "3  0.674346  \n",
       "2  0.670057  \n",
       "1  0.648309  "
      ]
     },
     "execution_count": 83,
     "metadata": {},
     "output_type": "execute_result"
    }
   ],
   "source": [
    "results_df"
   ]
  },
  {
   "cell_type": "code",
   "execution_count": 74,
   "id": "eaee9ec2",
   "metadata": {},
   "outputs": [
    {
     "data": {
      "text/html": [
       "<style>#sk-container-id-8 {color: black;background-color: white;}#sk-container-id-8 pre{padding: 0;}#sk-container-id-8 div.sk-toggleable {background-color: white;}#sk-container-id-8 label.sk-toggleable__label {cursor: pointer;display: block;width: 100%;margin-bottom: 0;padding: 0.3em;box-sizing: border-box;text-align: center;}#sk-container-id-8 label.sk-toggleable__label-arrow:before {content: \"▸\";float: left;margin-right: 0.25em;color: #696969;}#sk-container-id-8 label.sk-toggleable__label-arrow:hover:before {color: black;}#sk-container-id-8 div.sk-estimator:hover label.sk-toggleable__label-arrow:before {color: black;}#sk-container-id-8 div.sk-toggleable__content {max-height: 0;max-width: 0;overflow: hidden;text-align: left;background-color: #f0f8ff;}#sk-container-id-8 div.sk-toggleable__content pre {margin: 0.2em;color: black;border-radius: 0.25em;background-color: #f0f8ff;}#sk-container-id-8 input.sk-toggleable__control:checked~div.sk-toggleable__content {max-height: 200px;max-width: 100%;overflow: auto;}#sk-container-id-8 input.sk-toggleable__control:checked~label.sk-toggleable__label-arrow:before {content: \"▾\";}#sk-container-id-8 div.sk-estimator input.sk-toggleable__control:checked~label.sk-toggleable__label {background-color: #d4ebff;}#sk-container-id-8 div.sk-label input.sk-toggleable__control:checked~label.sk-toggleable__label {background-color: #d4ebff;}#sk-container-id-8 input.sk-hidden--visually {border: 0;clip: rect(1px 1px 1px 1px);clip: rect(1px, 1px, 1px, 1px);height: 1px;margin: -1px;overflow: hidden;padding: 0;position: absolute;width: 1px;}#sk-container-id-8 div.sk-estimator {font-family: monospace;background-color: #f0f8ff;border: 1px dotted black;border-radius: 0.25em;box-sizing: border-box;margin-bottom: 0.5em;}#sk-container-id-8 div.sk-estimator:hover {background-color: #d4ebff;}#sk-container-id-8 div.sk-parallel-item::after {content: \"\";width: 100%;border-bottom: 1px solid gray;flex-grow: 1;}#sk-container-id-8 div.sk-label:hover label.sk-toggleable__label {background-color: #d4ebff;}#sk-container-id-8 div.sk-serial::before {content: \"\";position: absolute;border-left: 1px solid gray;box-sizing: border-box;top: 0;bottom: 0;left: 50%;z-index: 0;}#sk-container-id-8 div.sk-serial {display: flex;flex-direction: column;align-items: center;background-color: white;padding-right: 0.2em;padding-left: 0.2em;position: relative;}#sk-container-id-8 div.sk-item {position: relative;z-index: 1;}#sk-container-id-8 div.sk-parallel {display: flex;align-items: stretch;justify-content: center;background-color: white;position: relative;}#sk-container-id-8 div.sk-item::before, #sk-container-id-8 div.sk-parallel-item::before {content: \"\";position: absolute;border-left: 1px solid gray;box-sizing: border-box;top: 0;bottom: 0;left: 50%;z-index: -1;}#sk-container-id-8 div.sk-parallel-item {display: flex;flex-direction: column;z-index: 1;position: relative;background-color: white;}#sk-container-id-8 div.sk-parallel-item:first-child::after {align-self: flex-end;width: 50%;}#sk-container-id-8 div.sk-parallel-item:last-child::after {align-self: flex-start;width: 50%;}#sk-container-id-8 div.sk-parallel-item:only-child::after {width: 0;}#sk-container-id-8 div.sk-dashed-wrapped {border: 1px dashed gray;margin: 0 0.4em 0.5em 0.4em;box-sizing: border-box;padding-bottom: 0.4em;background-color: white;}#sk-container-id-8 div.sk-label label {font-family: monospace;font-weight: bold;display: inline-block;line-height: 1.2em;}#sk-container-id-8 div.sk-label-container {text-align: center;}#sk-container-id-8 div.sk-container {/* jupyter's `normalize.less` sets `[hidden] { display: none; }` but bootstrap.min.css set `[hidden] { display: none !important; }` so we also need the `!important` here to be able to override the default hidden behavior on the sphinx rendered scikit-learn.org. See: https://github.com/scikit-learn/scikit-learn/issues/21755 */display: inline-block !important;position: relative;}#sk-container-id-8 div.sk-text-repr-fallback {display: none;}</style><div id=\"sk-container-id-8\" class=\"sk-top-container\"><div class=\"sk-text-repr-fallback\"><pre>XGBClassifier(base_score=None, booster=None, callbacks=None,\n",
       "              colsample_bylevel=None, colsample_bynode=None,\n",
       "              colsample_bytree=1.0, device=None, early_stopping_rounds=None,\n",
       "              enable_categorical=False, eval_metric=&#x27;logloss&#x27;,\n",
       "              feature_types=None, gamma=None, grow_policy=None,\n",
       "              importance_type=None, interaction_constraints=None,\n",
       "              learning_rate=0.1, max_bin=None, max_cat_threshold=None,\n",
       "              max_cat_to_onehot=None, max_delta_step=None, max_depth=7,\n",
       "              max_leaves=None, min_child_weight=None, missing=nan,\n",
       "              monotone_constraints=None, multi_strategy=None, n_estimators=200,\n",
       "              n_jobs=None, num_parallel_tree=None, random_state=42, ...)</pre><b>In a Jupyter environment, please rerun this cell to show the HTML representation or trust the notebook. <br />On GitHub, the HTML representation is unable to render, please try loading this page with nbviewer.org.</b></div><div class=\"sk-container\" hidden><div class=\"sk-item\"><div class=\"sk-estimator sk-toggleable\"><input class=\"sk-toggleable__control sk-hidden--visually\" id=\"sk-estimator-id-16\" type=\"checkbox\" checked><label for=\"sk-estimator-id-16\" class=\"sk-toggleable__label sk-toggleable__label-arrow\">XGBClassifier</label><div class=\"sk-toggleable__content\"><pre>XGBClassifier(base_score=None, booster=None, callbacks=None,\n",
       "              colsample_bylevel=None, colsample_bynode=None,\n",
       "              colsample_bytree=1.0, device=None, early_stopping_rounds=None,\n",
       "              enable_categorical=False, eval_metric=&#x27;logloss&#x27;,\n",
       "              feature_types=None, gamma=None, grow_policy=None,\n",
       "              importance_type=None, interaction_constraints=None,\n",
       "              learning_rate=0.1, max_bin=None, max_cat_threshold=None,\n",
       "              max_cat_to_onehot=None, max_delta_step=None, max_depth=7,\n",
       "              max_leaves=None, min_child_weight=None, missing=nan,\n",
       "              monotone_constraints=None, multi_strategy=None, n_estimators=200,\n",
       "              n_jobs=None, num_parallel_tree=None, random_state=42, ...)</pre></div></div></div></div></div>"
      ],
      "text/plain": [
       "XGBClassifier(base_score=None, booster=None, callbacks=None,\n",
       "              colsample_bylevel=None, colsample_bynode=None,\n",
       "              colsample_bytree=1.0, device=None, early_stopping_rounds=None,\n",
       "              enable_categorical=False, eval_metric='logloss',\n",
       "              feature_types=None, gamma=None, grow_policy=None,\n",
       "              importance_type=None, interaction_constraints=None,\n",
       "              learning_rate=0.1, max_bin=None, max_cat_threshold=None,\n",
       "              max_cat_to_onehot=None, max_delta_step=None, max_depth=7,\n",
       "              max_leaves=None, min_child_weight=None, missing=nan,\n",
       "              monotone_constraints=None, multi_strategy=None, n_estimators=200,\n",
       "              n_jobs=None, num_parallel_tree=None, random_state=42, ...)"
      ]
     },
     "execution_count": 74,
     "metadata": {},
     "output_type": "execute_result"
    }
   ],
   "source": [
    "random_search.best_estimator_"
   ]
  },
  {
   "cell_type": "code",
   "execution_count": 109,
   "id": "1fb5317e",
   "metadata": {},
   "outputs": [
    {
     "data": {
      "text/plain": [
       "{'subsample': 0.6,\n",
       " 'n_estimators': 500,\n",
       " 'max_depth': 3,\n",
       " 'learning_rate': 0.05,\n",
       " 'colsample_bytree': 0.6}"
      ]
     },
     "execution_count": 109,
     "metadata": {},
     "output_type": "execute_result"
    }
   ],
   "source": [
    "random_search.best_params_"
   ]
  },
  {
   "cell_type": "code",
   "execution_count": 110,
   "id": "c8942849",
   "metadata": {},
   "outputs": [],
   "source": [
    "param_grid = {\n",
    "    'n_estimators': [500,450],\n",
    "    'max_depth': [3, 5,7],\n",
    "    'learning_rate': [0.05],\n",
    "    'subsample': [0.6],\n",
    "    'colsample_bytree': [0.6],\n",
    "    'reg_alpha': [ 0.1, 0.2,0.3],          # L1 regularization\n",
    "    'reg_lambda': [1, 1.5, 2]        # L2 regularization\n",
    "}"
   ]
  },
  {
   "cell_type": "code",
   "execution_count": 115,
   "id": "6cd12fd1",
   "metadata": {},
   "outputs": [],
   "source": [
    "# Step 5: Cross-validation with GridSearchCV\n",
    "grid_search = GridSearchCV(\n",
    "    estimator=xgb,\n",
    "    param_grid=param_grid,\n",
    "    scoring=fbeta_scorer,\n",
    "    cv=3,\n",
    "    n_jobs=1,\n",
    "    verbose=3\n",
    ")"
   ]
  },
  {
   "cell_type": "code",
   "execution_count": 117,
   "id": "7e747ae2",
   "metadata": {},
   "outputs": [],
   "source": [
    "import warnings\n",
    "warnings.filterwarnings('ignore')"
   ]
  },
  {
   "cell_type": "code",
   "execution_count": 118,
   "id": "bbfe9a7a",
   "metadata": {},
   "outputs": [
    {
     "name": "stdout",
     "output_type": "stream",
     "text": [
      "Fitting 3 folds for each of 54 candidates, totalling 162 fits\n",
      "[CV 1/3] END colsample_bytree=0.6, learning_rate=0.05, max_depth=3, n_estimators=500, reg_alpha=0.1, reg_lambda=1, subsample=0.6;, score=0.543 total time=   1.6s\n",
      "[CV 2/3] END colsample_bytree=0.6, learning_rate=0.05, max_depth=3, n_estimators=500, reg_alpha=0.1, reg_lambda=1, subsample=0.6;, score=0.553 total time=   1.6s\n",
      "[CV 3/3] END colsample_bytree=0.6, learning_rate=0.05, max_depth=3, n_estimators=500, reg_alpha=0.1, reg_lambda=1, subsample=0.6;, score=0.540 total time=   1.6s\n",
      "[CV 1/3] END colsample_bytree=0.6, learning_rate=0.05, max_depth=3, n_estimators=500, reg_alpha=0.1, reg_lambda=1.5, subsample=0.6;, score=0.548 total time=   1.7s\n",
      "[CV 2/3] END colsample_bytree=0.6, learning_rate=0.05, max_depth=3, n_estimators=500, reg_alpha=0.1, reg_lambda=1.5, subsample=0.6;, score=0.554 total time=   1.8s\n",
      "[CV 3/3] END colsample_bytree=0.6, learning_rate=0.05, max_depth=3, n_estimators=500, reg_alpha=0.1, reg_lambda=1.5, subsample=0.6;, score=0.538 total time=   1.8s\n",
      "[CV 1/3] END colsample_bytree=0.6, learning_rate=0.05, max_depth=3, n_estimators=500, reg_alpha=0.1, reg_lambda=2, subsample=0.6;, score=0.546 total time=   1.8s\n",
      "[CV 2/3] END colsample_bytree=0.6, learning_rate=0.05, max_depth=3, n_estimators=500, reg_alpha=0.1, reg_lambda=2, subsample=0.6;, score=0.553 total time=   1.8s\n",
      "[CV 3/3] END colsample_bytree=0.6, learning_rate=0.05, max_depth=3, n_estimators=500, reg_alpha=0.1, reg_lambda=2, subsample=0.6;, score=0.540 total time=   1.9s\n",
      "[CV 1/3] END colsample_bytree=0.6, learning_rate=0.05, max_depth=3, n_estimators=500, reg_alpha=0.2, reg_lambda=1, subsample=0.6;, score=0.543 total time=   1.6s\n",
      "[CV 2/3] END colsample_bytree=0.6, learning_rate=0.05, max_depth=3, n_estimators=500, reg_alpha=0.2, reg_lambda=1, subsample=0.6;, score=0.552 total time=   2.0s\n",
      "[CV 3/3] END colsample_bytree=0.6, learning_rate=0.05, max_depth=3, n_estimators=500, reg_alpha=0.2, reg_lambda=1, subsample=0.6;, score=0.538 total time=   1.7s\n",
      "[CV 1/3] END colsample_bytree=0.6, learning_rate=0.05, max_depth=3, n_estimators=500, reg_alpha=0.2, reg_lambda=1.5, subsample=0.6;, score=0.543 total time=   1.8s\n",
      "[CV 2/3] END colsample_bytree=0.6, learning_rate=0.05, max_depth=3, n_estimators=500, reg_alpha=0.2, reg_lambda=1.5, subsample=0.6;, score=0.554 total time=   1.6s\n",
      "[CV 3/3] END colsample_bytree=0.6, learning_rate=0.05, max_depth=3, n_estimators=500, reg_alpha=0.2, reg_lambda=1.5, subsample=0.6;, score=0.537 total time=   1.6s\n",
      "[CV 1/3] END colsample_bytree=0.6, learning_rate=0.05, max_depth=3, n_estimators=500, reg_alpha=0.2, reg_lambda=2, subsample=0.6;, score=0.546 total time=   1.6s\n",
      "[CV 2/3] END colsample_bytree=0.6, learning_rate=0.05, max_depth=3, n_estimators=500, reg_alpha=0.2, reg_lambda=2, subsample=0.6;, score=0.552 total time=   1.6s\n",
      "[CV 3/3] END colsample_bytree=0.6, learning_rate=0.05, max_depth=3, n_estimators=500, reg_alpha=0.2, reg_lambda=2, subsample=0.6;, score=0.538 total time=   1.6s\n",
      "[CV 1/3] END colsample_bytree=0.6, learning_rate=0.05, max_depth=3, n_estimators=500, reg_alpha=0.3, reg_lambda=1, subsample=0.6;, score=0.544 total time=   1.6s\n",
      "[CV 2/3] END colsample_bytree=0.6, learning_rate=0.05, max_depth=3, n_estimators=500, reg_alpha=0.3, reg_lambda=1, subsample=0.6;, score=0.552 total time=   1.6s\n",
      "[CV 3/3] END colsample_bytree=0.6, learning_rate=0.05, max_depth=3, n_estimators=500, reg_alpha=0.3, reg_lambda=1, subsample=0.6;, score=0.538 total time=   1.6s\n",
      "[CV 1/3] END colsample_bytree=0.6, learning_rate=0.05, max_depth=3, n_estimators=500, reg_alpha=0.3, reg_lambda=1.5, subsample=0.6;, score=0.545 total time=   1.6s\n",
      "[CV 2/3] END colsample_bytree=0.6, learning_rate=0.05, max_depth=3, n_estimators=500, reg_alpha=0.3, reg_lambda=1.5, subsample=0.6;, score=0.553 total time=   1.6s\n",
      "[CV 3/3] END colsample_bytree=0.6, learning_rate=0.05, max_depth=3, n_estimators=500, reg_alpha=0.3, reg_lambda=1.5, subsample=0.6;, score=0.540 total time=   1.6s\n",
      "[CV 1/3] END colsample_bytree=0.6, learning_rate=0.05, max_depth=3, n_estimators=500, reg_alpha=0.3, reg_lambda=2, subsample=0.6;, score=0.542 total time=   1.6s\n",
      "[CV 2/3] END colsample_bytree=0.6, learning_rate=0.05, max_depth=3, n_estimators=500, reg_alpha=0.3, reg_lambda=2, subsample=0.6;, score=0.551 total time=   1.6s\n",
      "[CV 3/3] END colsample_bytree=0.6, learning_rate=0.05, max_depth=3, n_estimators=500, reg_alpha=0.3, reg_lambda=2, subsample=0.6;, score=0.539 total time=   1.6s\n",
      "[CV 1/3] END colsample_bytree=0.6, learning_rate=0.05, max_depth=3, n_estimators=450, reg_alpha=0.1, reg_lambda=1, subsample=0.6;, score=0.543 total time=   1.4s\n",
      "[CV 2/3] END colsample_bytree=0.6, learning_rate=0.05, max_depth=3, n_estimators=450, reg_alpha=0.1, reg_lambda=1, subsample=0.6;, score=0.551 total time=   1.4s\n",
      "[CV 3/3] END colsample_bytree=0.6, learning_rate=0.05, max_depth=3, n_estimators=450, reg_alpha=0.1, reg_lambda=1, subsample=0.6;, score=0.540 total time=   1.4s\n",
      "[CV 1/3] END colsample_bytree=0.6, learning_rate=0.05, max_depth=3, n_estimators=450, reg_alpha=0.1, reg_lambda=1.5, subsample=0.6;, score=0.550 total time=   1.4s\n",
      "[CV 2/3] END colsample_bytree=0.6, learning_rate=0.05, max_depth=3, n_estimators=450, reg_alpha=0.1, reg_lambda=1.5, subsample=0.6;, score=0.553 total time=   1.5s\n",
      "[CV 3/3] END colsample_bytree=0.6, learning_rate=0.05, max_depth=3, n_estimators=450, reg_alpha=0.1, reg_lambda=1.5, subsample=0.6;, score=0.539 total time=   1.4s\n",
      "[CV 1/3] END colsample_bytree=0.6, learning_rate=0.05, max_depth=3, n_estimators=450, reg_alpha=0.1, reg_lambda=2, subsample=0.6;, score=0.545 total time=   1.5s\n",
      "[CV 2/3] END colsample_bytree=0.6, learning_rate=0.05, max_depth=3, n_estimators=450, reg_alpha=0.1, reg_lambda=2, subsample=0.6;, score=0.554 total time=   1.4s\n",
      "[CV 3/3] END colsample_bytree=0.6, learning_rate=0.05, max_depth=3, n_estimators=450, reg_alpha=0.1, reg_lambda=2, subsample=0.6;, score=0.541 total time=   1.5s\n",
      "[CV 1/3] END colsample_bytree=0.6, learning_rate=0.05, max_depth=3, n_estimators=450, reg_alpha=0.2, reg_lambda=1, subsample=0.6;, score=0.544 total time=   1.4s\n",
      "[CV 2/3] END colsample_bytree=0.6, learning_rate=0.05, max_depth=3, n_estimators=450, reg_alpha=0.2, reg_lambda=1, subsample=0.6;, score=0.555 total time=   1.5s\n",
      "[CV 3/3] END colsample_bytree=0.6, learning_rate=0.05, max_depth=3, n_estimators=450, reg_alpha=0.2, reg_lambda=1, subsample=0.6;, score=0.539 total time=   1.5s\n",
      "[CV 1/3] END colsample_bytree=0.6, learning_rate=0.05, max_depth=3, n_estimators=450, reg_alpha=0.2, reg_lambda=1.5, subsample=0.6;, score=0.542 total time=   1.4s\n",
      "[CV 2/3] END colsample_bytree=0.6, learning_rate=0.05, max_depth=3, n_estimators=450, reg_alpha=0.2, reg_lambda=1.5, subsample=0.6;, score=0.553 total time=   1.5s\n",
      "[CV 3/3] END colsample_bytree=0.6, learning_rate=0.05, max_depth=3, n_estimators=450, reg_alpha=0.2, reg_lambda=1.5, subsample=0.6;, score=0.539 total time=   1.6s\n",
      "[CV 1/3] END colsample_bytree=0.6, learning_rate=0.05, max_depth=3, n_estimators=450, reg_alpha=0.2, reg_lambda=2, subsample=0.6;, score=0.548 total time=   1.4s\n",
      "[CV 2/3] END colsample_bytree=0.6, learning_rate=0.05, max_depth=3, n_estimators=450, reg_alpha=0.2, reg_lambda=2, subsample=0.6;, score=0.553 total time=   1.4s\n",
      "[CV 3/3] END colsample_bytree=0.6, learning_rate=0.05, max_depth=3, n_estimators=450, reg_alpha=0.2, reg_lambda=2, subsample=0.6;, score=0.542 total time=   1.4s\n",
      "[CV 1/3] END colsample_bytree=0.6, learning_rate=0.05, max_depth=3, n_estimators=450, reg_alpha=0.3, reg_lambda=1, subsample=0.6;, score=0.545 total time=   1.5s\n",
      "[CV 2/3] END colsample_bytree=0.6, learning_rate=0.05, max_depth=3, n_estimators=450, reg_alpha=0.3, reg_lambda=1, subsample=0.6;, score=0.556 total time=   1.5s\n",
      "[CV 3/3] END colsample_bytree=0.6, learning_rate=0.05, max_depth=3, n_estimators=450, reg_alpha=0.3, reg_lambda=1, subsample=0.6;, score=0.539 total time=   1.4s\n",
      "[CV 1/3] END colsample_bytree=0.6, learning_rate=0.05, max_depth=3, n_estimators=450, reg_alpha=0.3, reg_lambda=1.5, subsample=0.6;, score=0.545 total time=   1.4s\n",
      "[CV 2/3] END colsample_bytree=0.6, learning_rate=0.05, max_depth=3, n_estimators=450, reg_alpha=0.3, reg_lambda=1.5, subsample=0.6;, score=0.553 total time=   1.4s\n",
      "[CV 3/3] END colsample_bytree=0.6, learning_rate=0.05, max_depth=3, n_estimators=450, reg_alpha=0.3, reg_lambda=1.5, subsample=0.6;, score=0.542 total time=   1.4s\n",
      "[CV 1/3] END colsample_bytree=0.6, learning_rate=0.05, max_depth=3, n_estimators=450, reg_alpha=0.3, reg_lambda=2, subsample=0.6;, score=0.541 total time=   1.4s\n",
      "[CV 2/3] END colsample_bytree=0.6, learning_rate=0.05, max_depth=3, n_estimators=450, reg_alpha=0.3, reg_lambda=2, subsample=0.6;, score=0.553 total time=   1.5s\n",
      "[CV 3/3] END colsample_bytree=0.6, learning_rate=0.05, max_depth=3, n_estimators=450, reg_alpha=0.3, reg_lambda=2, subsample=0.6;, score=0.542 total time=   1.5s\n",
      "[CV 1/3] END colsample_bytree=0.6, learning_rate=0.05, max_depth=5, n_estimators=500, reg_alpha=0.1, reg_lambda=1, subsample=0.6;, score=0.509 total time=   2.1s\n",
      "[CV 2/3] END colsample_bytree=0.6, learning_rate=0.05, max_depth=5, n_estimators=500, reg_alpha=0.1, reg_lambda=1, subsample=0.6;, score=0.512 total time=   2.2s\n",
      "[CV 3/3] END colsample_bytree=0.6, learning_rate=0.05, max_depth=5, n_estimators=500, reg_alpha=0.1, reg_lambda=1, subsample=0.6;, score=0.501 total time=   2.3s\n",
      "[CV 1/3] END colsample_bytree=0.6, learning_rate=0.05, max_depth=5, n_estimators=500, reg_alpha=0.1, reg_lambda=1.5, subsample=0.6;, score=0.509 total time=   3.3s\n",
      "[CV 2/3] END colsample_bytree=0.6, learning_rate=0.05, max_depth=5, n_estimators=500, reg_alpha=0.1, reg_lambda=1.5, subsample=0.6;, score=0.509 total time=   2.7s\n",
      "[CV 3/3] END colsample_bytree=0.6, learning_rate=0.05, max_depth=5, n_estimators=500, reg_alpha=0.1, reg_lambda=1.5, subsample=0.6;, score=0.508 total time=   3.0s\n",
      "[CV 1/3] END colsample_bytree=0.6, learning_rate=0.05, max_depth=5, n_estimators=500, reg_alpha=0.1, reg_lambda=2, subsample=0.6;, score=0.510 total time=   2.2s\n",
      "[CV 2/3] END colsample_bytree=0.6, learning_rate=0.05, max_depth=5, n_estimators=500, reg_alpha=0.1, reg_lambda=2, subsample=0.6;, score=0.510 total time=   2.2s\n",
      "[CV 3/3] END colsample_bytree=0.6, learning_rate=0.05, max_depth=5, n_estimators=500, reg_alpha=0.1, reg_lambda=2, subsample=0.6;, score=0.507 total time=   2.1s\n",
      "[CV 1/3] END colsample_bytree=0.6, learning_rate=0.05, max_depth=5, n_estimators=500, reg_alpha=0.2, reg_lambda=1, subsample=0.6;, score=0.514 total time=   2.1s\n",
      "[CV 2/3] END colsample_bytree=0.6, learning_rate=0.05, max_depth=5, n_estimators=500, reg_alpha=0.2, reg_lambda=1, subsample=0.6;, score=0.514 total time=   2.1s\n",
      "[CV 3/3] END colsample_bytree=0.6, learning_rate=0.05, max_depth=5, n_estimators=500, reg_alpha=0.2, reg_lambda=1, subsample=0.6;, score=0.501 total time=   2.1s\n",
      "[CV 1/3] END colsample_bytree=0.6, learning_rate=0.05, max_depth=5, n_estimators=500, reg_alpha=0.2, reg_lambda=1.5, subsample=0.6;, score=0.507 total time=   2.1s\n",
      "[CV 2/3] END colsample_bytree=0.6, learning_rate=0.05, max_depth=5, n_estimators=500, reg_alpha=0.2, reg_lambda=1.5, subsample=0.6;, score=0.515 total time=   2.2s\n",
      "[CV 3/3] END colsample_bytree=0.6, learning_rate=0.05, max_depth=5, n_estimators=500, reg_alpha=0.2, reg_lambda=1.5, subsample=0.6;, score=0.503 total time=   2.5s\n",
      "[CV 1/3] END colsample_bytree=0.6, learning_rate=0.05, max_depth=5, n_estimators=500, reg_alpha=0.2, reg_lambda=2, subsample=0.6;, score=0.511 total time=   2.2s\n",
      "[CV 2/3] END colsample_bytree=0.6, learning_rate=0.05, max_depth=5, n_estimators=500, reg_alpha=0.2, reg_lambda=2, subsample=0.6;, score=0.516 total time=   2.2s\n",
      "[CV 3/3] END colsample_bytree=0.6, learning_rate=0.05, max_depth=5, n_estimators=500, reg_alpha=0.2, reg_lambda=2, subsample=0.6;, score=0.511 total time=   2.2s\n",
      "[CV 1/3] END colsample_bytree=0.6, learning_rate=0.05, max_depth=5, n_estimators=500, reg_alpha=0.3, reg_lambda=1, subsample=0.6;, score=0.511 total time=   2.2s\n",
      "[CV 2/3] END colsample_bytree=0.6, learning_rate=0.05, max_depth=5, n_estimators=500, reg_alpha=0.3, reg_lambda=1, subsample=0.6;, score=0.511 total time=   2.2s\n",
      "[CV 3/3] END colsample_bytree=0.6, learning_rate=0.05, max_depth=5, n_estimators=500, reg_alpha=0.3, reg_lambda=1, subsample=0.6;, score=0.504 total time=   2.1s\n",
      "[CV 1/3] END colsample_bytree=0.6, learning_rate=0.05, max_depth=5, n_estimators=500, reg_alpha=0.3, reg_lambda=1.5, subsample=0.6;, score=0.504 total time=   2.1s\n",
      "[CV 2/3] END colsample_bytree=0.6, learning_rate=0.05, max_depth=5, n_estimators=500, reg_alpha=0.3, reg_lambda=1.5, subsample=0.6;, score=0.520 total time=   2.2s\n",
      "[CV 3/3] END colsample_bytree=0.6, learning_rate=0.05, max_depth=5, n_estimators=500, reg_alpha=0.3, reg_lambda=1.5, subsample=0.6;, score=0.510 total time=   2.3s\n",
      "[CV 1/3] END colsample_bytree=0.6, learning_rate=0.05, max_depth=5, n_estimators=500, reg_alpha=0.3, reg_lambda=2, subsample=0.6;, score=0.511 total time=   2.2s\n",
      "[CV 2/3] END colsample_bytree=0.6, learning_rate=0.05, max_depth=5, n_estimators=500, reg_alpha=0.3, reg_lambda=2, subsample=0.6;, score=0.515 total time=   2.4s\n",
      "[CV 3/3] END colsample_bytree=0.6, learning_rate=0.05, max_depth=5, n_estimators=500, reg_alpha=0.3, reg_lambda=2, subsample=0.6;, score=0.506 total time=   2.2s\n",
      "[CV 1/3] END colsample_bytree=0.6, learning_rate=0.05, max_depth=5, n_estimators=450, reg_alpha=0.1, reg_lambda=1, subsample=0.6;, score=0.515 total time=   2.2s\n",
      "[CV 2/3] END colsample_bytree=0.6, learning_rate=0.05, max_depth=5, n_estimators=450, reg_alpha=0.1, reg_lambda=1, subsample=0.6;, score=0.517 total time=   2.8s\n",
      "[CV 3/3] END colsample_bytree=0.6, learning_rate=0.05, max_depth=5, n_estimators=450, reg_alpha=0.1, reg_lambda=1, subsample=0.6;, score=0.508 total time=   2.0s\n",
      "[CV 1/3] END colsample_bytree=0.6, learning_rate=0.05, max_depth=5, n_estimators=450, reg_alpha=0.1, reg_lambda=1.5, subsample=0.6;, score=0.512 total time=   1.9s\n",
      "[CV 2/3] END colsample_bytree=0.6, learning_rate=0.05, max_depth=5, n_estimators=450, reg_alpha=0.1, reg_lambda=1.5, subsample=0.6;, score=0.515 total time=   1.9s\n",
      "[CV 3/3] END colsample_bytree=0.6, learning_rate=0.05, max_depth=5, n_estimators=450, reg_alpha=0.1, reg_lambda=1.5, subsample=0.6;, score=0.508 total time=   1.9s\n",
      "[CV 1/3] END colsample_bytree=0.6, learning_rate=0.05, max_depth=5, n_estimators=450, reg_alpha=0.1, reg_lambda=2, subsample=0.6;, score=0.518 total time=   1.9s\n",
      "[CV 2/3] END colsample_bytree=0.6, learning_rate=0.05, max_depth=5, n_estimators=450, reg_alpha=0.1, reg_lambda=2, subsample=0.6;, score=0.516 total time=   1.9s\n",
      "[CV 3/3] END colsample_bytree=0.6, learning_rate=0.05, max_depth=5, n_estimators=450, reg_alpha=0.1, reg_lambda=2, subsample=0.6;, score=0.515 total time=   1.9s\n",
      "[CV 1/3] END colsample_bytree=0.6, learning_rate=0.05, max_depth=5, n_estimators=450, reg_alpha=0.2, reg_lambda=1, subsample=0.6;, score=0.519 total time=   1.9s\n",
      "[CV 2/3] END colsample_bytree=0.6, learning_rate=0.05, max_depth=5, n_estimators=450, reg_alpha=0.2, reg_lambda=1, subsample=0.6;, score=0.513 total time=   2.0s\n",
      "[CV 3/3] END colsample_bytree=0.6, learning_rate=0.05, max_depth=5, n_estimators=450, reg_alpha=0.2, reg_lambda=1, subsample=0.6;, score=0.510 total time=   1.9s\n",
      "[CV 1/3] END colsample_bytree=0.6, learning_rate=0.05, max_depth=5, n_estimators=450, reg_alpha=0.2, reg_lambda=1.5, subsample=0.6;, score=0.510 total time=   2.5s\n",
      "[CV 2/3] END colsample_bytree=0.6, learning_rate=0.05, max_depth=5, n_estimators=450, reg_alpha=0.2, reg_lambda=1.5, subsample=0.6;, score=0.517 total time=   2.8s\n",
      "[CV 3/3] END colsample_bytree=0.6, learning_rate=0.05, max_depth=5, n_estimators=450, reg_alpha=0.2, reg_lambda=1.5, subsample=0.6;, score=0.513 total time=   2.4s\n",
      "[CV 1/3] END colsample_bytree=0.6, learning_rate=0.05, max_depth=5, n_estimators=450, reg_alpha=0.2, reg_lambda=2, subsample=0.6;, score=0.512 total time=   2.0s\n",
      "[CV 2/3] END colsample_bytree=0.6, learning_rate=0.05, max_depth=5, n_estimators=450, reg_alpha=0.2, reg_lambda=2, subsample=0.6;, score=0.521 total time=   1.9s\n",
      "[CV 3/3] END colsample_bytree=0.6, learning_rate=0.05, max_depth=5, n_estimators=450, reg_alpha=0.2, reg_lambda=2, subsample=0.6;, score=0.514 total time=   1.9s\n",
      "[CV 1/3] END colsample_bytree=0.6, learning_rate=0.05, max_depth=5, n_estimators=450, reg_alpha=0.3, reg_lambda=1, subsample=0.6;, score=0.515 total time=   1.9s\n",
      "[CV 2/3] END colsample_bytree=0.6, learning_rate=0.05, max_depth=5, n_estimators=450, reg_alpha=0.3, reg_lambda=1, subsample=0.6;, score=0.516 total time=   1.9s\n",
      "[CV 3/3] END colsample_bytree=0.6, learning_rate=0.05, max_depth=5, n_estimators=450, reg_alpha=0.3, reg_lambda=1, subsample=0.6;, score=0.509 total time=   1.9s\n",
      "[CV 1/3] END colsample_bytree=0.6, learning_rate=0.05, max_depth=5, n_estimators=450, reg_alpha=0.3, reg_lambda=1.5, subsample=0.6;, score=0.515 total time=   1.9s\n",
      "[CV 2/3] END colsample_bytree=0.6, learning_rate=0.05, max_depth=5, n_estimators=450, reg_alpha=0.3, reg_lambda=1.5, subsample=0.6;, score=0.521 total time=   1.9s\n",
      "[CV 3/3] END colsample_bytree=0.6, learning_rate=0.05, max_depth=5, n_estimators=450, reg_alpha=0.3, reg_lambda=1.5, subsample=0.6;, score=0.514 total time=   2.0s\n",
      "[CV 1/3] END colsample_bytree=0.6, learning_rate=0.05, max_depth=5, n_estimators=450, reg_alpha=0.3, reg_lambda=2, subsample=0.6;, score=0.520 total time=   1.9s\n",
      "[CV 2/3] END colsample_bytree=0.6, learning_rate=0.05, max_depth=5, n_estimators=450, reg_alpha=0.3, reg_lambda=2, subsample=0.6;, score=0.516 total time=   1.9s\n",
      "[CV 3/3] END colsample_bytree=0.6, learning_rate=0.05, max_depth=5, n_estimators=450, reg_alpha=0.3, reg_lambda=2, subsample=0.6;, score=0.510 total time=   2.0s\n",
      "[CV 1/3] END colsample_bytree=0.6, learning_rate=0.05, max_depth=7, n_estimators=500, reg_alpha=0.1, reg_lambda=1, subsample=0.6;, score=0.416 total time=   3.1s\n",
      "[CV 2/3] END colsample_bytree=0.6, learning_rate=0.05, max_depth=7, n_estimators=500, reg_alpha=0.1, reg_lambda=1, subsample=0.6;, score=0.433 total time=   3.0s\n",
      "[CV 3/3] END colsample_bytree=0.6, learning_rate=0.05, max_depth=7, n_estimators=500, reg_alpha=0.1, reg_lambda=1, subsample=0.6;, score=0.417 total time=   3.0s\n",
      "[CV 1/3] END colsample_bytree=0.6, learning_rate=0.05, max_depth=7, n_estimators=500, reg_alpha=0.1, reg_lambda=1.5, subsample=0.6;, score=0.428 total time=   3.0s\n",
      "[CV 2/3] END colsample_bytree=0.6, learning_rate=0.05, max_depth=7, n_estimators=500, reg_alpha=0.1, reg_lambda=1.5, subsample=0.6;, score=0.433 total time=   3.0s\n",
      "[CV 3/3] END colsample_bytree=0.6, learning_rate=0.05, max_depth=7, n_estimators=500, reg_alpha=0.1, reg_lambda=1.5, subsample=0.6;, score=0.413 total time=   3.0s\n",
      "[CV 1/3] END colsample_bytree=0.6, learning_rate=0.05, max_depth=7, n_estimators=500, reg_alpha=0.1, reg_lambda=2, subsample=0.6;, score=0.438 total time=   3.0s\n",
      "[CV 2/3] END colsample_bytree=0.6, learning_rate=0.05, max_depth=7, n_estimators=500, reg_alpha=0.1, reg_lambda=2, subsample=0.6;, score=0.433 total time=   3.0s\n",
      "[CV 3/3] END colsample_bytree=0.6, learning_rate=0.05, max_depth=7, n_estimators=500, reg_alpha=0.1, reg_lambda=2, subsample=0.6;, score=0.418 total time=   3.0s\n",
      "[CV 1/3] END colsample_bytree=0.6, learning_rate=0.05, max_depth=7, n_estimators=500, reg_alpha=0.2, reg_lambda=1, subsample=0.6;, score=0.427 total time=   3.0s\n",
      "[CV 2/3] END colsample_bytree=0.6, learning_rate=0.05, max_depth=7, n_estimators=500, reg_alpha=0.2, reg_lambda=1, subsample=0.6;, score=0.428 total time=   3.0s\n",
      "[CV 3/3] END colsample_bytree=0.6, learning_rate=0.05, max_depth=7, n_estimators=500, reg_alpha=0.2, reg_lambda=1, subsample=0.6;, score=0.420 total time=   3.4s\n",
      "[CV 1/3] END colsample_bytree=0.6, learning_rate=0.05, max_depth=7, n_estimators=500, reg_alpha=0.2, reg_lambda=1.5, subsample=0.6;, score=0.424 total time=   4.0s\n",
      "[CV 2/3] END colsample_bytree=0.6, learning_rate=0.05, max_depth=7, n_estimators=500, reg_alpha=0.2, reg_lambda=1.5, subsample=0.6;, score=0.429 total time=   3.5s\n",
      "[CV 3/3] END colsample_bytree=0.6, learning_rate=0.05, max_depth=7, n_estimators=500, reg_alpha=0.2, reg_lambda=1.5, subsample=0.6;, score=0.417 total time=   3.0s\n",
      "[CV 1/3] END colsample_bytree=0.6, learning_rate=0.05, max_depth=7, n_estimators=500, reg_alpha=0.2, reg_lambda=2, subsample=0.6;, score=0.423 total time=   3.0s\n",
      "[CV 2/3] END colsample_bytree=0.6, learning_rate=0.05, max_depth=7, n_estimators=500, reg_alpha=0.2, reg_lambda=2, subsample=0.6;, score=0.435 total time=   3.3s\n",
      "[CV 3/3] END colsample_bytree=0.6, learning_rate=0.05, max_depth=7, n_estimators=500, reg_alpha=0.2, reg_lambda=2, subsample=0.6;, score=0.417 total time=   3.0s\n",
      "[CV 1/3] END colsample_bytree=0.6, learning_rate=0.05, max_depth=7, n_estimators=500, reg_alpha=0.3, reg_lambda=1, subsample=0.6;, score=0.421 total time=   3.0s\n",
      "[CV 2/3] END colsample_bytree=0.6, learning_rate=0.05, max_depth=7, n_estimators=500, reg_alpha=0.3, reg_lambda=1, subsample=0.6;, score=0.435 total time=   3.0s\n",
      "[CV 3/3] END colsample_bytree=0.6, learning_rate=0.05, max_depth=7, n_estimators=500, reg_alpha=0.3, reg_lambda=1, subsample=0.6;, score=0.413 total time=   3.0s\n",
      "[CV 1/3] END colsample_bytree=0.6, learning_rate=0.05, max_depth=7, n_estimators=500, reg_alpha=0.3, reg_lambda=1.5, subsample=0.6;, score=0.427 total time=   3.0s\n",
      "[CV 2/3] END colsample_bytree=0.6, learning_rate=0.05, max_depth=7, n_estimators=500, reg_alpha=0.3, reg_lambda=1.5, subsample=0.6;, score=0.441 total time=   4.1s\n",
      "[CV 3/3] END colsample_bytree=0.6, learning_rate=0.05, max_depth=7, n_estimators=500, reg_alpha=0.3, reg_lambda=1.5, subsample=0.6;, score=0.415 total time=   3.7s\n",
      "[CV 1/3] END colsample_bytree=0.6, learning_rate=0.05, max_depth=7, n_estimators=500, reg_alpha=0.3, reg_lambda=2, subsample=0.6;, score=0.427 total time=   3.1s\n",
      "[CV 2/3] END colsample_bytree=0.6, learning_rate=0.05, max_depth=7, n_estimators=500, reg_alpha=0.3, reg_lambda=2, subsample=0.6;, score=0.430 total time=   3.2s\n",
      "[CV 3/3] END colsample_bytree=0.6, learning_rate=0.05, max_depth=7, n_estimators=500, reg_alpha=0.3, reg_lambda=2, subsample=0.6;, score=0.422 total time=   3.4s\n",
      "[CV 1/3] END colsample_bytree=0.6, learning_rate=0.05, max_depth=7, n_estimators=450, reg_alpha=0.1, reg_lambda=1, subsample=0.6;, score=0.434 total time=   2.7s\n",
      "[CV 2/3] END colsample_bytree=0.6, learning_rate=0.05, max_depth=7, n_estimators=450, reg_alpha=0.1, reg_lambda=1, subsample=0.6;, score=0.445 total time=   2.8s\n",
      "[CV 3/3] END colsample_bytree=0.6, learning_rate=0.05, max_depth=7, n_estimators=450, reg_alpha=0.1, reg_lambda=1, subsample=0.6;, score=0.427 total time=   2.9s\n",
      "[CV 1/3] END colsample_bytree=0.6, learning_rate=0.05, max_depth=7, n_estimators=450, reg_alpha=0.1, reg_lambda=1.5, subsample=0.6;, score=0.440 total time=   2.7s\n",
      "[CV 2/3] END colsample_bytree=0.6, learning_rate=0.05, max_depth=7, n_estimators=450, reg_alpha=0.1, reg_lambda=1.5, subsample=0.6;, score=0.444 total time=   2.8s\n",
      "[CV 3/3] END colsample_bytree=0.6, learning_rate=0.05, max_depth=7, n_estimators=450, reg_alpha=0.1, reg_lambda=1.5, subsample=0.6;, score=0.425 total time=   2.7s\n",
      "[CV 1/3] END colsample_bytree=0.6, learning_rate=0.05, max_depth=7, n_estimators=450, reg_alpha=0.1, reg_lambda=2, subsample=0.6;, score=0.447 total time=   2.7s\n",
      "[CV 2/3] END colsample_bytree=0.6, learning_rate=0.05, max_depth=7, n_estimators=450, reg_alpha=0.1, reg_lambda=2, subsample=0.6;, score=0.447 total time=   2.7s\n",
      "[CV 3/3] END colsample_bytree=0.6, learning_rate=0.05, max_depth=7, n_estimators=450, reg_alpha=0.1, reg_lambda=2, subsample=0.6;, score=0.430 total time=   2.7s\n",
      "[CV 1/3] END colsample_bytree=0.6, learning_rate=0.05, max_depth=7, n_estimators=450, reg_alpha=0.2, reg_lambda=1, subsample=0.6;, score=0.443 total time=   3.0s\n",
      "[CV 2/3] END colsample_bytree=0.6, learning_rate=0.05, max_depth=7, n_estimators=450, reg_alpha=0.2, reg_lambda=1, subsample=0.6;, score=0.438 total time=   3.2s\n",
      "[CV 3/3] END colsample_bytree=0.6, learning_rate=0.05, max_depth=7, n_estimators=450, reg_alpha=0.2, reg_lambda=1, subsample=0.6;, score=0.429 total time=   3.1s\n",
      "[CV 1/3] END colsample_bytree=0.6, learning_rate=0.05, max_depth=7, n_estimators=450, reg_alpha=0.2, reg_lambda=1.5, subsample=0.6;, score=0.431 total time=   2.8s\n",
      "[CV 2/3] END colsample_bytree=0.6, learning_rate=0.05, max_depth=7, n_estimators=450, reg_alpha=0.2, reg_lambda=1.5, subsample=0.6;, score=0.442 total time=   2.8s\n",
      "[CV 3/3] END colsample_bytree=0.6, learning_rate=0.05, max_depth=7, n_estimators=450, reg_alpha=0.2, reg_lambda=1.5, subsample=0.6;, score=0.432 total time=   2.7s\n",
      "[CV 1/3] END colsample_bytree=0.6, learning_rate=0.05, max_depth=7, n_estimators=450, reg_alpha=0.2, reg_lambda=2, subsample=0.6;, score=0.432 total time=   2.7s\n",
      "[CV 2/3] END colsample_bytree=0.6, learning_rate=0.05, max_depth=7, n_estimators=450, reg_alpha=0.2, reg_lambda=2, subsample=0.6;, score=0.444 total time=   2.8s\n",
      "[CV 3/3] END colsample_bytree=0.6, learning_rate=0.05, max_depth=7, n_estimators=450, reg_alpha=0.2, reg_lambda=2, subsample=0.6;, score=0.427 total time=   2.7s\n",
      "[CV 1/3] END colsample_bytree=0.6, learning_rate=0.05, max_depth=7, n_estimators=450, reg_alpha=0.3, reg_lambda=1, subsample=0.6;, score=0.436 total time=   2.7s\n",
      "[CV 2/3] END colsample_bytree=0.6, learning_rate=0.05, max_depth=7, n_estimators=450, reg_alpha=0.3, reg_lambda=1, subsample=0.6;, score=0.441 total time=   2.8s\n",
      "[CV 3/3] END colsample_bytree=0.6, learning_rate=0.05, max_depth=7, n_estimators=450, reg_alpha=0.3, reg_lambda=1, subsample=0.6;, score=0.426 total time=   2.7s\n",
      "[CV 1/3] END colsample_bytree=0.6, learning_rate=0.05, max_depth=7, n_estimators=450, reg_alpha=0.3, reg_lambda=1.5, subsample=0.6;, score=0.437 total time=   2.8s\n",
      "[CV 2/3] END colsample_bytree=0.6, learning_rate=0.05, max_depth=7, n_estimators=450, reg_alpha=0.3, reg_lambda=1.5, subsample=0.6;, score=0.448 total time=   2.7s\n",
      "[CV 3/3] END colsample_bytree=0.6, learning_rate=0.05, max_depth=7, n_estimators=450, reg_alpha=0.3, reg_lambda=1.5, subsample=0.6;, score=0.430 total time=   3.5s\n",
      "[CV 1/3] END colsample_bytree=0.6, learning_rate=0.05, max_depth=7, n_estimators=450, reg_alpha=0.3, reg_lambda=2, subsample=0.6;, score=0.437 total time=   3.6s\n",
      "[CV 2/3] END colsample_bytree=0.6, learning_rate=0.05, max_depth=7, n_estimators=450, reg_alpha=0.3, reg_lambda=2, subsample=0.6;, score=0.435 total time=   2.9s\n",
      "[CV 3/3] END colsample_bytree=0.6, learning_rate=0.05, max_depth=7, n_estimators=450, reg_alpha=0.3, reg_lambda=2, subsample=0.6;, score=0.437 total time=   2.8s\n"
     ]
    },
    {
     "data": {
      "text/html": [
       "<style>#sk-container-id-10 {color: black;background-color: white;}#sk-container-id-10 pre{padding: 0;}#sk-container-id-10 div.sk-toggleable {background-color: white;}#sk-container-id-10 label.sk-toggleable__label {cursor: pointer;display: block;width: 100%;margin-bottom: 0;padding: 0.3em;box-sizing: border-box;text-align: center;}#sk-container-id-10 label.sk-toggleable__label-arrow:before {content: \"▸\";float: left;margin-right: 0.25em;color: #696969;}#sk-container-id-10 label.sk-toggleable__label-arrow:hover:before {color: black;}#sk-container-id-10 div.sk-estimator:hover label.sk-toggleable__label-arrow:before {color: black;}#sk-container-id-10 div.sk-toggleable__content {max-height: 0;max-width: 0;overflow: hidden;text-align: left;background-color: #f0f8ff;}#sk-container-id-10 div.sk-toggleable__content pre {margin: 0.2em;color: black;border-radius: 0.25em;background-color: #f0f8ff;}#sk-container-id-10 input.sk-toggleable__control:checked~div.sk-toggleable__content {max-height: 200px;max-width: 100%;overflow: auto;}#sk-container-id-10 input.sk-toggleable__control:checked~label.sk-toggleable__label-arrow:before {content: \"▾\";}#sk-container-id-10 div.sk-estimator input.sk-toggleable__control:checked~label.sk-toggleable__label {background-color: #d4ebff;}#sk-container-id-10 div.sk-label input.sk-toggleable__control:checked~label.sk-toggleable__label {background-color: #d4ebff;}#sk-container-id-10 input.sk-hidden--visually {border: 0;clip: rect(1px 1px 1px 1px);clip: rect(1px, 1px, 1px, 1px);height: 1px;margin: -1px;overflow: hidden;padding: 0;position: absolute;width: 1px;}#sk-container-id-10 div.sk-estimator {font-family: monospace;background-color: #f0f8ff;border: 1px dotted black;border-radius: 0.25em;box-sizing: border-box;margin-bottom: 0.5em;}#sk-container-id-10 div.sk-estimator:hover {background-color: #d4ebff;}#sk-container-id-10 div.sk-parallel-item::after {content: \"\";width: 100%;border-bottom: 1px solid gray;flex-grow: 1;}#sk-container-id-10 div.sk-label:hover label.sk-toggleable__label {background-color: #d4ebff;}#sk-container-id-10 div.sk-serial::before {content: \"\";position: absolute;border-left: 1px solid gray;box-sizing: border-box;top: 0;bottom: 0;left: 50%;z-index: 0;}#sk-container-id-10 div.sk-serial {display: flex;flex-direction: column;align-items: center;background-color: white;padding-right: 0.2em;padding-left: 0.2em;position: relative;}#sk-container-id-10 div.sk-item {position: relative;z-index: 1;}#sk-container-id-10 div.sk-parallel {display: flex;align-items: stretch;justify-content: center;background-color: white;position: relative;}#sk-container-id-10 div.sk-item::before, #sk-container-id-10 div.sk-parallel-item::before {content: \"\";position: absolute;border-left: 1px solid gray;box-sizing: border-box;top: 0;bottom: 0;left: 50%;z-index: -1;}#sk-container-id-10 div.sk-parallel-item {display: flex;flex-direction: column;z-index: 1;position: relative;background-color: white;}#sk-container-id-10 div.sk-parallel-item:first-child::after {align-self: flex-end;width: 50%;}#sk-container-id-10 div.sk-parallel-item:last-child::after {align-self: flex-start;width: 50%;}#sk-container-id-10 div.sk-parallel-item:only-child::after {width: 0;}#sk-container-id-10 div.sk-dashed-wrapped {border: 1px dashed gray;margin: 0 0.4em 0.5em 0.4em;box-sizing: border-box;padding-bottom: 0.4em;background-color: white;}#sk-container-id-10 div.sk-label label {font-family: monospace;font-weight: bold;display: inline-block;line-height: 1.2em;}#sk-container-id-10 div.sk-label-container {text-align: center;}#sk-container-id-10 div.sk-container {/* jupyter's `normalize.less` sets `[hidden] { display: none; }` but bootstrap.min.css set `[hidden] { display: none !important; }` so we also need the `!important` here to be able to override the default hidden behavior on the sphinx rendered scikit-learn.org. See: https://github.com/scikit-learn/scikit-learn/issues/21755 */display: inline-block !important;position: relative;}#sk-container-id-10 div.sk-text-repr-fallback {display: none;}</style><div id=\"sk-container-id-10\" class=\"sk-top-container\"><div class=\"sk-text-repr-fallback\"><pre>GridSearchCV(cv=3,\n",
       "             estimator=XGBClassifier(base_score=None, booster=None,\n",
       "                                     callbacks=None, colsample_bylevel=None,\n",
       "                                     colsample_bynode=None,\n",
       "                                     colsample_bytree=None, device=None,\n",
       "                                     early_stopping_rounds=None,\n",
       "                                     enable_categorical=False,\n",
       "                                     eval_metric=&#x27;logloss&#x27;, feature_types=None,\n",
       "                                     gamma=None, grow_policy=None,\n",
       "                                     importance_type=None,\n",
       "                                     interaction_constraints=None,\n",
       "                                     learning_rate=...\n",
       "                                     missing=nan, monotone_constraints=None,\n",
       "                                     multi_strategy=None, n_estimators=None,\n",
       "                                     n_jobs=None, num_parallel_tree=None,\n",
       "                                     random_state=42, ...),\n",
       "             n_jobs=1,\n",
       "             param_grid={&#x27;colsample_bytree&#x27;: [0.6], &#x27;learning_rate&#x27;: [0.05],\n",
       "                         &#x27;max_depth&#x27;: [3, 5, 7], &#x27;n_estimators&#x27;: [500, 450],\n",
       "                         &#x27;reg_alpha&#x27;: [0.1, 0.2, 0.3],\n",
       "                         &#x27;reg_lambda&#x27;: [1, 1.5, 2], &#x27;subsample&#x27;: [0.6]},\n",
       "             scoring=make_scorer(fbeta_score, beta=4), verbose=3)</pre><b>In a Jupyter environment, please rerun this cell to show the HTML representation or trust the notebook. <br />On GitHub, the HTML representation is unable to render, please try loading this page with nbviewer.org.</b></div><div class=\"sk-container\" hidden><div class=\"sk-item sk-dashed-wrapped\"><div class=\"sk-label-container\"><div class=\"sk-label sk-toggleable\"><input class=\"sk-toggleable__control sk-hidden--visually\" id=\"sk-estimator-id-20\" type=\"checkbox\" ><label for=\"sk-estimator-id-20\" class=\"sk-toggleable__label sk-toggleable__label-arrow\">GridSearchCV</label><div class=\"sk-toggleable__content\"><pre>GridSearchCV(cv=3,\n",
       "             estimator=XGBClassifier(base_score=None, booster=None,\n",
       "                                     callbacks=None, colsample_bylevel=None,\n",
       "                                     colsample_bynode=None,\n",
       "                                     colsample_bytree=None, device=None,\n",
       "                                     early_stopping_rounds=None,\n",
       "                                     enable_categorical=False,\n",
       "                                     eval_metric=&#x27;logloss&#x27;, feature_types=None,\n",
       "                                     gamma=None, grow_policy=None,\n",
       "                                     importance_type=None,\n",
       "                                     interaction_constraints=None,\n",
       "                                     learning_rate=...\n",
       "                                     missing=nan, monotone_constraints=None,\n",
       "                                     multi_strategy=None, n_estimators=None,\n",
       "                                     n_jobs=None, num_parallel_tree=None,\n",
       "                                     random_state=42, ...),\n",
       "             n_jobs=1,\n",
       "             param_grid={&#x27;colsample_bytree&#x27;: [0.6], &#x27;learning_rate&#x27;: [0.05],\n",
       "                         &#x27;max_depth&#x27;: [3, 5, 7], &#x27;n_estimators&#x27;: [500, 450],\n",
       "                         &#x27;reg_alpha&#x27;: [0.1, 0.2, 0.3],\n",
       "                         &#x27;reg_lambda&#x27;: [1, 1.5, 2], &#x27;subsample&#x27;: [0.6]},\n",
       "             scoring=make_scorer(fbeta_score, beta=4), verbose=3)</pre></div></div></div><div class=\"sk-parallel\"><div class=\"sk-parallel-item\"><div class=\"sk-item\"><div class=\"sk-label-container\"><div class=\"sk-label sk-toggleable\"><input class=\"sk-toggleable__control sk-hidden--visually\" id=\"sk-estimator-id-21\" type=\"checkbox\" ><label for=\"sk-estimator-id-21\" class=\"sk-toggleable__label sk-toggleable__label-arrow\">estimator: XGBClassifier</label><div class=\"sk-toggleable__content\"><pre>XGBClassifier(base_score=None, booster=None, callbacks=None,\n",
       "              colsample_bylevel=None, colsample_bynode=None,\n",
       "              colsample_bytree=None, device=None, early_stopping_rounds=None,\n",
       "              enable_categorical=False, eval_metric=&#x27;logloss&#x27;,\n",
       "              feature_types=None, gamma=None, grow_policy=None,\n",
       "              importance_type=None, interaction_constraints=None,\n",
       "              learning_rate=None, max_bin=None, max_cat_threshold=None,\n",
       "              max_cat_to_onehot=None, max_delta_step=None, max_depth=None,\n",
       "              max_leaves=None, min_child_weight=None, missing=nan,\n",
       "              monotone_constraints=None, multi_strategy=None, n_estimators=None,\n",
       "              n_jobs=None, num_parallel_tree=None, random_state=42, ...)</pre></div></div></div><div class=\"sk-serial\"><div class=\"sk-item\"><div class=\"sk-estimator sk-toggleable\"><input class=\"sk-toggleable__control sk-hidden--visually\" id=\"sk-estimator-id-22\" type=\"checkbox\" ><label for=\"sk-estimator-id-22\" class=\"sk-toggleable__label sk-toggleable__label-arrow\">XGBClassifier</label><div class=\"sk-toggleable__content\"><pre>XGBClassifier(base_score=None, booster=None, callbacks=None,\n",
       "              colsample_bylevel=None, colsample_bynode=None,\n",
       "              colsample_bytree=None, device=None, early_stopping_rounds=None,\n",
       "              enable_categorical=False, eval_metric=&#x27;logloss&#x27;,\n",
       "              feature_types=None, gamma=None, grow_policy=None,\n",
       "              importance_type=None, interaction_constraints=None,\n",
       "              learning_rate=None, max_bin=None, max_cat_threshold=None,\n",
       "              max_cat_to_onehot=None, max_delta_step=None, max_depth=None,\n",
       "              max_leaves=None, min_child_weight=None, missing=nan,\n",
       "              monotone_constraints=None, multi_strategy=None, n_estimators=None,\n",
       "              n_jobs=None, num_parallel_tree=None, random_state=42, ...)</pre></div></div></div></div></div></div></div></div></div></div>"
      ],
      "text/plain": [
       "GridSearchCV(cv=3,\n",
       "             estimator=XGBClassifier(base_score=None, booster=None,\n",
       "                                     callbacks=None, colsample_bylevel=None,\n",
       "                                     colsample_bynode=None,\n",
       "                                     colsample_bytree=None, device=None,\n",
       "                                     early_stopping_rounds=None,\n",
       "                                     enable_categorical=False,\n",
       "                                     eval_metric='logloss', feature_types=None,\n",
       "                                     gamma=None, grow_policy=None,\n",
       "                                     importance_type=None,\n",
       "                                     interaction_constraints=None,\n",
       "                                     learning_rate=...\n",
       "                                     missing=nan, monotone_constraints=None,\n",
       "                                     multi_strategy=None, n_estimators=None,\n",
       "                                     n_jobs=None, num_parallel_tree=None,\n",
       "                                     random_state=42, ...),\n",
       "             n_jobs=1,\n",
       "             param_grid={'colsample_bytree': [0.6], 'learning_rate': [0.05],\n",
       "                         'max_depth': [3, 5, 7], 'n_estimators': [500, 450],\n",
       "                         'reg_alpha': [0.1, 0.2, 0.3],\n",
       "                         'reg_lambda': [1, 1.5, 2], 'subsample': [0.6]},\n",
       "             scoring=make_scorer(fbeta_score, beta=4), verbose=3)"
      ]
     },
     "execution_count": 118,
     "metadata": {},
     "output_type": "execute_result"
    }
   ],
   "source": [
    "grid_search.fit(X_train_prepared, y_train)"
   ]
  },
  {
   "cell_type": "code",
   "execution_count": 119,
   "id": "9f5d4ced",
   "metadata": {},
   "outputs": [
    {
     "data": {
      "text/plain": [
       "0.5480264018144329"
      ]
     },
     "execution_count": 119,
     "metadata": {},
     "output_type": "execute_result"
    }
   ],
   "source": [
    "grid_search.best_score_"
   ]
  },
  {
   "cell_type": "code",
   "execution_count": 128,
   "id": "3ca30922",
   "metadata": {},
   "outputs": [
    {
     "data": {
      "text/plain": [
       "{'colsample_bytree': 0.6,\n",
       " 'learning_rate': 0.05,\n",
       " 'max_depth': 3,\n",
       " 'n_estimators': 450,\n",
       " 'reg_alpha': 0.2,\n",
       " 'reg_lambda': 2,\n",
       " 'subsample': 0.6}"
      ]
     },
     "execution_count": 128,
     "metadata": {},
     "output_type": "execute_result"
    }
   ],
   "source": [
    "grid_search.best_params_"
   ]
  },
  {
   "cell_type": "code",
   "execution_count": 120,
   "id": "2b3957bd",
   "metadata": {},
   "outputs": [
    {
     "name": "stdout",
     "output_type": "stream",
     "text": [
      "Test Recall Score: 0.6531654186521443\n"
     ]
    }
   ],
   "source": [
    "# Step 8: Predict on test set using best estimator\n",
    "\n",
    "y_pred_test_grid = grid_search.best_estimator_.predict(X_test_prepared)\n",
    "\n",
    "# Step 9: Evaluate on test data\n",
    "print(\"Test Recall Score:\", recall_score(y_test, y_pred_test_grid))"
   ]
  },
  {
   "cell_type": "code",
   "execution_count": 121,
   "id": "b36a5eff",
   "metadata": {},
   "outputs": [
    {
     "data": {
      "image/png": "[encoded data removed]",
      "text/plain": [
       "<Figure size 432x288 with 2 Axes>"
      ]
     },
     "metadata": {
      "needs_background": "light"
     },
     "output_type": "display_data"
    }
   ],
   "source": [
    "# Step 9: Confusion Matrix\n",
    "cm = confusion_matrix(y_test, y_pred_test_grid)\n",
    "plt.figure(figsize=(6,4))\n",
    "sns.heatmap(cm, annot=True, fmt='d', cmap='Blues', xticklabels=['No Default', 'Default'], yticklabels=['No Default', 'Default'])\n",
    "plt.xlabel('Predicted')\n",
    "plt.ylabel('Actual')\n",
    "plt.title('Confusion Matrix')\n",
    "plt.show()"
   ]
  },
  {
   "cell_type": "code",
   "execution_count": 125,
   "id": "94cb6717",
   "metadata": {},
   "outputs": [],
   "source": [
    "results.append({\n",
    "        'Model': 'random_search_XGBoost_modified1',\n",
    "        'Accuracy': accuracy_score(y_test, y_pred_test_grid),\n",
    "        'Precision': precision_score(y_test, y_pred_test_grid),\n",
    "        'Recall': recall_score(y_test, y_pred_test_grid),\n",
    "        'F1 Score': f1_score(y_test, y_pred_test_grid),\n",
    "        'ROC AUC': roc_auc_score(y_test, y_pred_test_grid)\n",
    "    })"
   ]
  },
  {
   "cell_type": "code",
   "execution_count": 126,
   "id": "6da2f4e8",
   "metadata": {},
   "outputs": [],
   "source": [
    "# Create a DataFrame of results\n",
    "results_df = pd.DataFrame(results).sort_values(by='ROC AUC', ascending=False)"
   ]
  },
  {
   "cell_type": "code",
   "execution_count": 127,
   "id": "aab5561e",
   "metadata": {},
   "outputs": [
    {
     "data": {
      "text/html": [
       "<div>\n",
       "<style scoped>\n",
       "    .dataframe tbody tr th:only-of-type {\n",
       "        vertical-align: middle;\n",
       "    }\n",
       "\n",
       "    .dataframe tbody tr th {\n",
       "        vertical-align: top;\n",
       "    }\n",
       "\n",
       "    .dataframe thead th {\n",
       "        text-align: right;\n",
       "    }\n",
       "</style>\n",
       "<table border=\"1\" class=\"dataframe\">\n",
       "  <thead>\n",
       "    <tr style=\"text-align: right;\">\n",
       "      <th></th>\n",
       "      <th>Model</th>\n",
       "      <th>Accuracy</th>\n",
       "      <th>Precision</th>\n",
       "      <th>Recall</th>\n",
       "      <th>F1 Score</th>\n",
       "      <th>ROC AUC</th>\n",
       "    </tr>\n",
       "  </thead>\n",
       "  <tbody>\n",
       "    <tr>\n",
       "      <th>0</th>\n",
       "      <td>XGBoost</td>\n",
       "      <td>0.919714</td>\n",
       "      <td>0.555556</td>\n",
       "      <td>0.005106</td>\n",
       "      <td>0.010118</td>\n",
       "      <td>0.727847</td>\n",
       "    </tr>\n",
       "    <tr>\n",
       "      <th>4</th>\n",
       "      <td>random_search_XGBoost_modified</td>\n",
       "      <td>0.692234</td>\n",
       "      <td>0.157929</td>\n",
       "      <td>0.653165</td>\n",
       "      <td>0.254357</td>\n",
       "      <td>0.674407</td>\n",
       "    </tr>\n",
       "    <tr>\n",
       "      <th>5</th>\n",
       "      <td>random_search_XGBoost_modified1</td>\n",
       "      <td>0.692234</td>\n",
       "      <td>0.157929</td>\n",
       "      <td>0.653165</td>\n",
       "      <td>0.254357</td>\n",
       "      <td>0.674407</td>\n",
       "    </tr>\n",
       "    <tr>\n",
       "      <th>3</th>\n",
       "      <td>random_search_XGBoost_modified</td>\n",
       "      <td>0.694122</td>\n",
       "      <td>0.158436</td>\n",
       "      <td>0.650783</td>\n",
       "      <td>0.254831</td>\n",
       "      <td>0.674346</td>\n",
       "    </tr>\n",
       "    <tr>\n",
       "      <th>2</th>\n",
       "      <td>random_search_XGBoost</td>\n",
       "      <td>0.791640</td>\n",
       "      <td>0.198712</td>\n",
       "      <td>0.525187</td>\n",
       "      <td>0.288330</td>\n",
       "      <td>0.670057</td>\n",
       "    </tr>\n",
       "    <tr>\n",
       "      <th>1</th>\n",
       "      <td>grid_search_XGBoost</td>\n",
       "      <td>0.687939</td>\n",
       "      <td>0.147142</td>\n",
       "      <td>0.601089</td>\n",
       "      <td>0.236412</td>\n",
       "      <td>0.648309</td>\n",
       "    </tr>\n",
       "  </tbody>\n",
       "</table>\n",
       "</div>"
      ],
      "text/plain": [
       "                             Model  Accuracy  Precision    Recall  F1 Score  \\\n",
       "0                          XGBoost  0.919714   0.555556  0.005106  0.010118   \n",
       "4   random_search_XGBoost_modified  0.692234   0.157929  0.653165  0.254357   \n",
       "5  random_search_XGBoost_modified1  0.692234   0.157929  0.653165  0.254357   \n",
       "3   random_search_XGBoost_modified  0.694122   0.158436  0.650783  0.254831   \n",
       "2            random_search_XGBoost  0.791640   0.198712  0.525187  0.288330   \n",
       "1              grid_search_XGBoost  0.687939   0.147142  0.601089  0.236412   \n",
       "\n",
       "    ROC AUC  \n",
       "0  0.727847  \n",
       "4  0.674407  \n",
       "5  0.674407  \n",
       "3  0.674346  \n",
       "2  0.670057  \n",
       "1  0.648309  "
      ]
     },
     "execution_count": 127,
     "metadata": {},
     "output_type": "execute_result"
    }
   ],
   "source": [
    "results_df"
   ]
  },
  {
   "cell_type": "code",
   "execution_count": 134,
   "id": "560ea623",
   "metadata": {},
   "outputs": [
    {
     "name": "stdout",
     "output_type": "stream",
     "text": [
      "Collecting numpyNote: you may need to restart the kernel to use updated packages.\n",
      "  Using cached numpy-1.24.4-cp38-cp38-win_amd64.whl (14.9 MB)\n",
      "Installing collected packages: numpy\n",
      "  Attempting uninstall: numpy\n",
      "    Found existing installation: numpy 1.21.0\n",
      "    Uninstalling numpy-1.21.0:\n",
      "      Successfully uninstalled numpy-1.21.0\n",
      "\n"
     ]
    },
    {
     "name": "stderr",
     "output_type": "stream",
     "text": [
      "ERROR: Could not install packages due to an EnvironmentError: [WinError 5] Access is denied: 'C:\\\\Users\\\\biswa\\\\anaconda3\\\\Lib\\\\site-packages\\\\~-mpy\\\\.libs\\\\libopenblas.GK7GX5KEQ4F6UYO3P26ULGBQYHGQO7J4.gfortran-win_amd64.dll'\n",
      "Consider using the `--user` option or check the permissions.\n",
      "\n"
     ]
    }
   ],
   "source": [
    "pip install --upgrade numpy\n"
   ]
  },
  {
   "cell_type": "code",
   "execution_count": 135,
   "id": "08e8973a",
   "metadata": {},
   "outputs": [
    {
     "name": "stdout",
     "output_type": "stream",
     "text": [
      "Requirement already up-to-date: catboost in c:\\users\\biswa\\anaconda3\\lib\\site-packages (1.2.8)\n",
      "Requirement already satisfied, skipping upgrade: plotly in c:\\users\\biswa\\anaconda3\\lib\\site-packages (from catboost) (6.0.1)\n",
      "Requirement already satisfied, skipping upgrade: graphviz in c:\\users\\biswa\\anaconda3\\lib\\site-packages (from catboost) (0.20.3)\n",
      "Requirement already satisfied, skipping upgrade: matplotlib in c:\\users\\biswa\\anaconda3\\lib\\site-packages (from catboost) (3.6.2)\n",
      "Requirement already satisfied, skipping upgrade: scipy in c:\\users\\biswa\\anaconda3\\lib\\site-packages (from catboost) (1.9.3)\n",
      "Requirement already satisfied, skipping upgrade: pandas>=0.24 in c:\\users\\biswa\\anaconda3\\lib\\site-packages (from catboost) (2.0.3)\n",
      "Requirement already satisfied, skipping upgrade: numpy<3.0,>=1.16.0 in c:\\users\\biswa\\anaconda3\\lib\\site-packages (from catboost) (1.24.4)\n",
      "Requirement already satisfied, skipping upgrade: six in c:\\users\\biswa\\anaconda3\\lib\\site-packages (from catboost) (1.15.0)\n",
      "Requirement already satisfied, skipping upgrade: packaging in c:\\users\\biswa\\anaconda3\\lib\\site-packages (from plotly->catboost) (20.4)\n",
      "Requirement already satisfied, skipping upgrade: narwhals>=1.15.1 in c:\\users\\biswa\\anaconda3\\lib\\site-packages (from plotly->catboost) (1.36.0)\n",
      "Requirement already satisfied, skipping upgrade: fonttools>=4.22.0 in c:\\users\\biswa\\anaconda3\\lib\\site-packages (from matplotlib->catboost) (4.38.0)\n",
      "Requirement already satisfied, skipping upgrade: python-dateutil>=2.7 in c:\\users\\biswa\\anaconda3\\lib\\site-packages (from matplotlib->catboost) (2.8.2)\n",
      "Requirement already satisfied, skipping upgrade: kiwisolver>=1.0.1 in c:\\users\\biswa\\anaconda3\\lib\\site-packages (from matplotlib->catboost) (1.3.0)\n",
      "Requirement already satisfied, skipping upgrade: cycler>=0.10 in c:\\users\\biswa\\anaconda3\\lib\\site-packages (from matplotlib->catboost) (0.10.0)\n",
      "Requirement already satisfied, skipping upgrade: contourpy>=1.0.1 in c:\\users\\biswa\\anaconda3\\lib\\site-packages (from matplotlib->catboost) (1.0.6)\n",
      "Requirement already satisfied, skipping upgrade: pillow>=6.2.0 in c:\\users\\biswa\\anaconda3\\lib\\site-packages (from matplotlib->catboost) (8.0.1)\n",
      "Requirement already satisfied, skipping upgrade: pyparsing>=2.2.1 in c:\\users\\biswa\\anaconda3\\lib\\site-packages (from matplotlib->catboost) (2.4.7)\n",
      "Requirement already satisfied, skipping upgrade: tzdata>=2022.1 in c:\\users\\biswa\\anaconda3\\lib\\site-packages (from pandas>=0.24->catboost) (2023.3)\n",
      "Requirement already satisfied, skipping upgrade: pytz>=2020.1 in c:\\users\\biswa\\anaconda3\\lib\\site-packages (from pandas>=0.24->catboost) (2023.3)\n",
      "Note: you may need to restart the kernel to use updated packages.\n"
     ]
    }
   ],
   "source": [
    "pip install --upgrade catboost\n"
   ]
  },
  {
   "cell_type": "code",
   "execution_count": 137,
   "id": "ffe78cdd",
   "metadata": {},
   "outputs": [
    {
     "ename": "ValueError",
     "evalue": "numpy.ndarray size changed, may indicate binary incompatibility. Expected 96 from C header, got 88 from PyObject",
     "output_type": "error",
     "traceback": [
      "\u001b[1;31m---------------------------------------------------------------------------\u001b[0m",
      "\u001b[1;31mValueError\u001b[0m                                Traceback (most recent call last)",
      "\u001b[1;32m<ipython-input-137-bdc2c82d78ad>\u001b[0m in \u001b[0;36m<module>\u001b[1;34m\u001b[0m\n\u001b[1;32m----> 1\u001b[1;33m \u001b[1;32mfrom\u001b[0m \u001b[0mcatboost\u001b[0m \u001b[1;32mimport\u001b[0m \u001b[0mCatBoostClassifier\u001b[0m\u001b[1;33m\u001b[0m\u001b[1;33m\u001b[0m\u001b[0m\n\u001b[0m\u001b[0;32m      2\u001b[0m \u001b[1;33m\u001b[0m\u001b[0m\n\u001b[0;32m      3\u001b[0m \u001b[1;33m\u001b[0m\u001b[0m\n\u001b[0;32m      4\u001b[0m \u001b[1;31m# Define the CatBoostClassifier\u001b[0m\u001b[1;33m\u001b[0m\u001b[1;33m\u001b[0m\u001b[1;33m\u001b[0m\u001b[0m\n\u001b[0;32m      5\u001b[0m catboost_model = CatBoostClassifier(\n",
      "\u001b[1;32m~\\anaconda3\\lib\\site-packages\\catboost\\__init__.py\u001b[0m in \u001b[0;36m<module>\u001b[1;34m\u001b[0m\n\u001b[1;32m----> 1\u001b[1;33m from .core import (\n\u001b[0m\u001b[0;32m      2\u001b[0m     \u001b[0mFeaturesData\u001b[0m\u001b[1;33m,\u001b[0m \u001b[0mEFstrType\u001b[0m\u001b[1;33m,\u001b[0m \u001b[0mEShapCalcType\u001b[0m\u001b[1;33m,\u001b[0m \u001b[0mEFeaturesSelectionAlgorithm\u001b[0m\u001b[1;33m,\u001b[0m \u001b[0mEFeaturesSelectionGrouping\u001b[0m\u001b[1;33m,\u001b[0m\u001b[1;33m\u001b[0m\u001b[1;33m\u001b[0m\u001b[0m\n\u001b[0;32m      3\u001b[0m     \u001b[0mPool\u001b[0m\u001b[1;33m,\u001b[0m \u001b[0mCatBoost\u001b[0m\u001b[1;33m,\u001b[0m \u001b[0mCatBoostClassifier\u001b[0m\u001b[1;33m,\u001b[0m \u001b[0mCatBoostRegressor\u001b[0m\u001b[1;33m,\u001b[0m \u001b[0mCatBoostRanker\u001b[0m\u001b[1;33m,\u001b[0m \u001b[0mCatBoostError\u001b[0m\u001b[1;33m,\u001b[0m \u001b[0mcv\u001b[0m\u001b[1;33m,\u001b[0m \u001b[0msample_gaussian_process\u001b[0m\u001b[1;33m,\u001b[0m \u001b[0mtrain\u001b[0m\u001b[1;33m,\u001b[0m\u001b[1;33m\u001b[0m\u001b[1;33m\u001b[0m\u001b[0m\n\u001b[0;32m      4\u001b[0m     \u001b[0msum_models\u001b[0m\u001b[1;33m,\u001b[0m \u001b[0m_have_equal_features\u001b[0m\u001b[1;33m,\u001b[0m \u001b[0mto_regressor\u001b[0m\u001b[1;33m,\u001b[0m \u001b[0mto_classifier\u001b[0m\u001b[1;33m,\u001b[0m \u001b[0mto_ranker\u001b[0m\u001b[1;33m,\u001b[0m \u001b[0mMultiRegressionCustomMetric\u001b[0m\u001b[1;33m,\u001b[0m\u001b[1;33m\u001b[0m\u001b[1;33m\u001b[0m\u001b[0m\n\u001b[0;32m      5\u001b[0m     \u001b[0mMultiRegressionCustomObjective\u001b[0m\u001b[1;33m,\u001b[0m \u001b[0mMultiTargetCustomMetric\u001b[0m\u001b[1;33m,\u001b[0m \u001b[0mMultiTargetCustomObjective\u001b[0m\u001b[1;33m\u001b[0m\u001b[1;33m\u001b[0m\u001b[0m\n",
      "\u001b[1;32m~\\anaconda3\\lib\\site-packages\\catboost\\core.py\u001b[0m in \u001b[0;36m<module>\u001b[1;34m\u001b[0m\n\u001b[0;32m     43\u001b[0m \u001b[1;33m\u001b[0m\u001b[0m\n\u001b[0;32m     44\u001b[0m \u001b[1;33m\u001b[0m\u001b[0m\n\u001b[1;32m---> 45\u001b[1;33m \u001b[1;32mfrom\u001b[0m \u001b[1;33m.\u001b[0m\u001b[0mplot_helpers\u001b[0m \u001b[1;32mimport\u001b[0m \u001b[0msave_plot_file\u001b[0m\u001b[1;33m,\u001b[0m \u001b[0mtry_plot_offline\u001b[0m\u001b[1;33m,\u001b[0m \u001b[0mOfflineMetricVisualizer\u001b[0m\u001b[1;33m\u001b[0m\u001b[1;33m\u001b[0m\u001b[0m\n\u001b[0m\u001b[0;32m     46\u001b[0m \u001b[1;32mfrom\u001b[0m \u001b[1;33m.\u001b[0m \u001b[1;32mimport\u001b[0m \u001b[0m_catboost\u001b[0m\u001b[1;33m\u001b[0m\u001b[1;33m\u001b[0m\u001b[0m\n\u001b[0;32m     47\u001b[0m \u001b[1;32mfrom\u001b[0m \u001b[1;33m.\u001b[0m\u001b[0mmetrics\u001b[0m \u001b[1;32mimport\u001b[0m \u001b[0mBuiltinMetric\u001b[0m\u001b[1;33m\u001b[0m\u001b[1;33m\u001b[0m\u001b[0m\n",
      "\u001b[1;32m~\\anaconda3\\lib\\site-packages\\catboost\\plot_helpers.py\u001b[0m in \u001b[0;36m<module>\u001b[1;34m\u001b[0m\n\u001b[0;32m      3\u001b[0m \u001b[1;32mimport\u001b[0m \u001b[0mwarnings\u001b[0m\u001b[1;33m\u001b[0m\u001b[1;33m\u001b[0m\u001b[0m\n\u001b[0;32m      4\u001b[0m \u001b[1;33m\u001b[0m\u001b[0m\n\u001b[1;32m----> 5\u001b[1;33m \u001b[1;32mfrom\u001b[0m \u001b[1;33m.\u001b[0m \u001b[1;32mimport\u001b[0m \u001b[0m_catboost\u001b[0m\u001b[1;33m\u001b[0m\u001b[1;33m\u001b[0m\u001b[0m\n\u001b[0m\u001b[0;32m      6\u001b[0m \u001b[0mfspath\u001b[0m \u001b[1;33m=\u001b[0m \u001b[0m_catboost\u001b[0m\u001b[1;33m.\u001b[0m\u001b[0mfspath\u001b[0m\u001b[1;33m\u001b[0m\u001b[1;33m\u001b[0m\u001b[0m\n\u001b[0;32m      7\u001b[0m \u001b[1;33m\u001b[0m\u001b[0m\n",
      "\u001b[1;32m_catboost.pyx\u001b[0m in \u001b[0;36minit _catboost\u001b[1;34m()\u001b[0m\n",
      "\u001b[1;31mValueError\u001b[0m: numpy.ndarray size changed, may indicate binary incompatibility. Expected 96 from C header, got 88 from PyObject"
     ]
    }
   ],
   "source": [
    "from catboost import CatBoostClassifier\n",
    "\n",
    "\n",
    "# Define the CatBoostClassifier\n",
    "catboost_model = CatBoostClassifier(\n",
    "    verbose=0,\n",
    "    random_state=42,\n",
    "    auto_class_weights='Balanced'  # Automatically handles class imbalance\n",
    ")\n",
    "\n",
    "# Define the hyperparameter distributions\n",
    "param_distributions = {\n",
    "    'depth': [4, 6, 8, 10],\n",
    "    'learning_rate': [0.01, 0.03, 0.05, 0.1],\n",
    "    'iterations': [100, 200, 300],\n",
    "    'l2_leaf_reg': [1, 3, 5, 7],\n",
    "    'bagging_temperature': [0, 0.5, 1.0],\n",
    "    'border_count': [32, 64, 128]\n",
    "}\n",
    "\n",
    "# Randomized search\n",
    "random_search = RandomizedSearchCV(\n",
    "    estimator=catboost_model,\n",
    "    param_distributions=param_distributions,\n",
    "    scoring=fbeta_scorer,  # or 'f1_weighted'\n",
    "    cv=5,\n",
    "    n_iter=20,              # Try 20 random combinations\n",
    "    n_jobs=-1,\n",
    "    verbose=2,\n",
    "    random_state=42\n",
    ")\n",
    "\n",
    "# Fit to training data\n",
    "random_search.fit(X_train_prepared, y_train)\n",
    "\n",
    "# Output best results\n",
    "print(\"Best Parameters:\", random_search.best_params_)\n",
    "print(\"Best Score:\", random_search.best_score_)\n"
   ]
  },
  {
   "cell_type": "code",
   "execution_count": 143,
   "id": "cae31086",
   "metadata": {},
   "outputs": [
    {
     "ename": "NameError",
     "evalue": "name 'python' is not defined",
     "output_type": "error",
     "traceback": [
      "\u001b[1;31m---------------------------------------------------------------------------\u001b[0m",
      "\u001b[1;31mNameError\u001b[0m                                 Traceback (most recent call last)",
      "\u001b[1;32m<ipython-input-143-a4637bbefc43>\u001b[0m in \u001b[0;36m<module>\u001b[1;34m\u001b[0m\n\u001b[1;32m----> 1\u001b[1;33m \u001b[0mpython\u001b[0m \u001b[1;33m-\u001b[0m\u001b[1;33m-\u001b[0m\u001b[0mversion\u001b[0m\u001b[1;33m\u001b[0m\u001b[1;33m\u001b[0m\u001b[0m\n\u001b[0m",
      "\u001b[1;31mNameError\u001b[0m: name 'python' is not defined"
     ]
    }
   ],
   "source": [
    "python --version"
   ]
  },
  {
   "cell_type": "code",
   "execution_count": null,
   "id": "98f5e955",
   "metadata": {},
   "outputs": [],
   "source": []
  },
  {
   "cell_type": "code",
   "execution_count": null,
   "id": "c0aa43be",
   "metadata": {},
   "outputs": [],
   "source": []
  },
  {
   "cell_type": "code",
   "execution_count": null,
   "id": "042cd7b7",
   "metadata": {},
   "outputs": [],
   "source": []
  }
 ],
 "metadata": {
  "kernelspec": {
   "display_name": "Python 3",
   "language": "python",
   "name": "python3"
  },
  "language_info": {
   "codemirror_mode": {
    "name": "ipython",
    "version": 3
   },
   "file_extension": ".py",
   "mimetype": "text/x-python",
   "name": "python",
   "nbconvert_exporter": "python",
   "pygments_lexer": "ipython3",
   "version": "3.8.5"
  },
  "toc": {
   "base_numbering": 1,
   "nav_menu": {},
   "number_sections": true,
   "sideBar": true,
   "skip_h1_title": false,
   "title_cell": "Table of Contents",
   "title_sidebar": "Contents",
   "toc_cell": false,
   "toc_position": {},
   "toc_section_display": true,
   "toc_window_display": false
  },
  "varInspector": {
   "cols": {
    "lenName": 16,
    "lenType": 16,
    "lenVar": 40
   },
   "kernels_config": {
    "python": {
     "delete_cmd_postfix": "",
     "delete_cmd_prefix": "del ",
     "library": "var_list.py",
     "varRefreshCmd": "print(var_dic_list())"
    },
    "r": {
     "delete_cmd_postfix": ") ",
     "delete_cmd_prefix": "rm(",
     "library": "var_list.r",
     "varRefreshCmd": "cat(var_dic_list()) "
    }
   },
   "types_to_exclude": [
    "module",
    "function",
    "builtin_function_or_method",
    "instance",
    "_Feature"
   ],
   "window_display": false
  }
 },
 "nbformat": 4,
 "nbformat_minor": 5
}
