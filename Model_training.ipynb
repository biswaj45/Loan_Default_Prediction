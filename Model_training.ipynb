{
 "cells": [
  {
   "cell_type": "code",
   "execution_count": 1,
   "id": "d9ad21e0",
   "metadata": {},
   "outputs": [],
   "source": [
    "import os\n",
    "import pandas as pd\n",
    "import numpy as np\n",
    "from sklearn.model_selection import train_test_split\n",
    "from sklearn.preprocessing import OneHotEncoder, StandardScaler\n",
    "from sklearn.compose import ColumnTransformer\n",
    "from sklearn.pipeline import Pipeline\n",
    "from sklearn.impute import SimpleImputer\n",
    "from sklearn.linear_model import LogisticRegression\n",
    "from sklearn.metrics import accuracy_score, precision_score, recall_score, f1_score, roc_auc_score, confusion_matrix, classification_report\n",
    "import seaborn as sns\n",
    "import matplotlib.pyplot as plt\n",
    "from sklearn.naive_bayes import GaussianNB\n",
    "from sklearn.ensemble import RandomForestClassifier\n",
    "from sklearn.svm import SVC\n",
    "from xgboost import XGBClassifier\n",
    "from sklearn.metrics import make_scorer, recall_score,fbeta_score\n",
    "from sklearn.model_selection import GridSearchCV,RandomizedSearchCV"
   ]
  },
  {
   "cell_type": "code",
   "execution_count": null,
   "id": "0c5e0580",
   "metadata": {},
   "outputs": [],
   "source": [
    "#os.chdir(r'D:\\use case\\Loan Default Prediction\\data')"
   ]
  },
  {
   "cell_type": "code",
   "execution_count": 2,
   "id": "d438e310",
   "metadata": {},
   "outputs": [],
   "source": [
    "df = pd.read_csv('processed_data.csv')"
   ]
  },
  {
   "cell_type": "code",
   "execution_count": 3,
   "id": "d573d1eb",
   "metadata": {},
   "outputs": [
    {
     "data": {
      "text/html": [
       "<div>\n",
       "<style scoped>\n",
       "    .dataframe tbody tr th:only-of-type {\n",
       "        vertical-align: middle;\n",
       "    }\n",
       "\n",
       "    .dataframe tbody tr th {\n",
       "        vertical-align: top;\n",
       "    }\n",
       "\n",
       "    .dataframe thead th {\n",
       "        text-align: right;\n",
       "    }\n",
       "</style>\n",
       "<table border=\"1\" class=\"dataframe\">\n",
       "  <thead>\n",
       "    <tr style=\"text-align: right;\">\n",
       "      <th></th>\n",
       "      <th>Client_Income_category</th>\n",
       "      <th>Credit_Amount_category</th>\n",
       "      <th>Credit_to_Income_Category</th>\n",
       "      <th>Loan_Annuity_category</th>\n",
       "      <th>Client_Family_Members_Category</th>\n",
       "      <th>Car_Owned</th>\n",
       "      <th>Bike_Owned</th>\n",
       "      <th>Active_Loan</th>\n",
       "      <th>Accompany_Client</th>\n",
       "      <th>Client_Income_Type</th>\n",
       "      <th>...</th>\n",
       "      <th>Cleint_City_Rating</th>\n",
       "      <th>Application_Process_Day</th>\n",
       "      <th>Application_Hour_Category</th>\n",
       "      <th>Type_Organization_Grouped</th>\n",
       "      <th>Score_Source_2</th>\n",
       "      <th>Score_Source_3</th>\n",
       "      <th>Social_Circle_Default</th>\n",
       "      <th>Phone_Change_category</th>\n",
       "      <th>Credit_Bureau_Category</th>\n",
       "      <th>Default</th>\n",
       "    </tr>\n",
       "  </thead>\n",
       "  <tbody>\n",
       "    <tr>\n",
       "      <th>0</th>\n",
       "      <td>income_band2</td>\n",
       "      <td>credit_band6</td>\n",
       "      <td>Upto_10_times</td>\n",
       "      <td>upto_6_percent</td>\n",
       "      <td>2_members</td>\n",
       "      <td>0</td>\n",
       "      <td>0</td>\n",
       "      <td>1</td>\n",
       "      <td>Alone</td>\n",
       "      <td>Commercial</td>\n",
       "      <td>...</td>\n",
       "      <td>2.0</td>\n",
       "      <td>6.0</td>\n",
       "      <td>upto_18_hours</td>\n",
       "      <td>Self-employed</td>\n",
       "      <td>0.478787</td>\n",
       "      <td>0.511180</td>\n",
       "      <td>1</td>\n",
       "      <td>same_year</td>\n",
       "      <td>no_search</td>\n",
       "      <td>0</td>\n",
       "    </tr>\n",
       "    <tr>\n",
       "      <th>1</th>\n",
       "      <td>income_band5</td>\n",
       "      <td>credit_band1</td>\n",
       "      <td>Upto_2_times</td>\n",
       "      <td>more_than_8_percent</td>\n",
       "      <td>2_members</td>\n",
       "      <td>1</td>\n",
       "      <td>0</td>\n",
       "      <td>1</td>\n",
       "      <td>Alone</td>\n",
       "      <td>Service</td>\n",
       "      <td>...</td>\n",
       "      <td>2.0</td>\n",
       "      <td>3.0</td>\n",
       "      <td>upto_12_hours</td>\n",
       "      <td>Public Sector</td>\n",
       "      <td>0.215068</td>\n",
       "      <td>0.511180</td>\n",
       "      <td>0</td>\n",
       "      <td>same_year</td>\n",
       "      <td>no_search</td>\n",
       "      <td>0</td>\n",
       "    </tr>\n",
       "    <tr>\n",
       "      <th>2</th>\n",
       "      <td>income_band4</td>\n",
       "      <td>credit_band5</td>\n",
       "      <td>Upto_4_times</td>\n",
       "      <td>upto_6_percent</td>\n",
       "      <td>2_members</td>\n",
       "      <td>0</td>\n",
       "      <td>0</td>\n",
       "      <td>1</td>\n",
       "      <td>Alone</td>\n",
       "      <td>Service</td>\n",
       "      <td>...</td>\n",
       "      <td>2.0</td>\n",
       "      <td>4.0</td>\n",
       "      <td>upto_12_hours</td>\n",
       "      <td>Self-employed</td>\n",
       "      <td>0.552795</td>\n",
       "      <td>0.329655</td>\n",
       "      <td>1</td>\n",
       "      <td>same_year</td>\n",
       "      <td>no_search</td>\n",
       "      <td>0</td>\n",
       "    </tr>\n",
       "    <tr>\n",
       "      <th>3</th>\n",
       "      <td>income_band4</td>\n",
       "      <td>credit_band5</td>\n",
       "      <td>Upto_4_times</td>\n",
       "      <td>upto_6_percent</td>\n",
       "      <td>2_members</td>\n",
       "      <td>0</td>\n",
       "      <td>0</td>\n",
       "      <td>1</td>\n",
       "      <td>Alone</td>\n",
       "      <td>Retired</td>\n",
       "      <td>...</td>\n",
       "      <td>3.0</td>\n",
       "      <td>2.0</td>\n",
       "      <td>upto_18_hours</td>\n",
       "      <td>Self-employed</td>\n",
       "      <td>0.135182</td>\n",
       "      <td>0.631355</td>\n",
       "      <td>0</td>\n",
       "      <td>four_year</td>\n",
       "      <td>more_than_two_search</td>\n",
       "      <td>0</td>\n",
       "    </tr>\n",
       "    <tr>\n",
       "      <th>4</th>\n",
       "      <td>income_band5</td>\n",
       "      <td>credit_band6</td>\n",
       "      <td>Upto_4_times</td>\n",
       "      <td>upto_4_percent</td>\n",
       "      <td>more_than_3_members</td>\n",
       "      <td>1</td>\n",
       "      <td>0</td>\n",
       "      <td>1</td>\n",
       "      <td>Alone</td>\n",
       "      <td>Commercial</td>\n",
       "      <td>...</td>\n",
       "      <td>1.0</td>\n",
       "      <td>3.0</td>\n",
       "      <td>upto_12_hours</td>\n",
       "      <td>Business</td>\n",
       "      <td>0.301182</td>\n",
       "      <td>0.355639</td>\n",
       "      <td>1</td>\n",
       "      <td>one_year</td>\n",
       "      <td>one_search</td>\n",
       "      <td>0</td>\n",
       "    </tr>\n",
       "    <tr>\n",
       "      <th>5</th>\n",
       "      <td>income_band3</td>\n",
       "      <td>credit_band1</td>\n",
       "      <td>Upto_2_times</td>\n",
       "      <td>upto_6_percent</td>\n",
       "      <td>2_members</td>\n",
       "      <td>0</td>\n",
       "      <td>1</td>\n",
       "      <td>1</td>\n",
       "      <td>Alone</td>\n",
       "      <td>Service</td>\n",
       "      <td>...</td>\n",
       "      <td>2.0</td>\n",
       "      <td>2.0</td>\n",
       "      <td>upto_12_hours</td>\n",
       "      <td>Other</td>\n",
       "      <td>0.697928</td>\n",
       "      <td>0.420611</td>\n",
       "      <td>1</td>\n",
       "      <td>two_year</td>\n",
       "      <td>no_search</td>\n",
       "      <td>0</td>\n",
       "    </tr>\n",
       "    <tr>\n",
       "      <th>6</th>\n",
       "      <td>income_band4</td>\n",
       "      <td>credit_band6</td>\n",
       "      <td>Upto_10_times</td>\n",
       "      <td>upto_4_percent</td>\n",
       "      <td>upto_1_member</td>\n",
       "      <td>1</td>\n",
       "      <td>1</td>\n",
       "      <td>0</td>\n",
       "      <td>Alone</td>\n",
       "      <td>Retired</td>\n",
       "      <td>...</td>\n",
       "      <td>2.0</td>\n",
       "      <td>3.0</td>\n",
       "      <td>upto_18_hours</td>\n",
       "      <td>Self-employed</td>\n",
       "      <td>0.602545</td>\n",
       "      <td>0.511892</td>\n",
       "      <td>1</td>\n",
       "      <td>same_year</td>\n",
       "      <td>more_than_two_search</td>\n",
       "      <td>0</td>\n",
       "    </tr>\n",
       "    <tr>\n",
       "      <th>7</th>\n",
       "      <td>income_band3</td>\n",
       "      <td>credit_band6</td>\n",
       "      <td>Upto_5_times</td>\n",
       "      <td>upto_6_percent</td>\n",
       "      <td>2_members</td>\n",
       "      <td>0</td>\n",
       "      <td>0</td>\n",
       "      <td>1</td>\n",
       "      <td>Alone</td>\n",
       "      <td>Retired</td>\n",
       "      <td>...</td>\n",
       "      <td>2.0</td>\n",
       "      <td>4.0</td>\n",
       "      <td>upto_18_hours</td>\n",
       "      <td>Self-employed</td>\n",
       "      <td>0.657508</td>\n",
       "      <td>0.549597</td>\n",
       "      <td>0</td>\n",
       "      <td>four_year</td>\n",
       "      <td>more_than_two_search</td>\n",
       "      <td>0</td>\n",
       "    </tr>\n",
       "    <tr>\n",
       "      <th>8</th>\n",
       "      <td>income_band3</td>\n",
       "      <td>credit_band4</td>\n",
       "      <td>Upto_4_times</td>\n",
       "      <td>upto_4_percent</td>\n",
       "      <td>3_members</td>\n",
       "      <td>1</td>\n",
       "      <td>1</td>\n",
       "      <td>0</td>\n",
       "      <td>Relative</td>\n",
       "      <td>Commercial</td>\n",
       "      <td>...</td>\n",
       "      <td>2.0</td>\n",
       "      <td>4.0</td>\n",
       "      <td>upto_18_hours</td>\n",
       "      <td>Self-employed</td>\n",
       "      <td>0.637594</td>\n",
       "      <td>0.553165</td>\n",
       "      <td>1</td>\n",
       "      <td>four_year</td>\n",
       "      <td>no_search</td>\n",
       "      <td>0</td>\n",
       "    </tr>\n",
       "    <tr>\n",
       "      <th>9</th>\n",
       "      <td>income_band3</td>\n",
       "      <td>credit_band1</td>\n",
       "      <td>Upto_2_times</td>\n",
       "      <td>upto_8_percent</td>\n",
       "      <td>upto_1_member</td>\n",
       "      <td>0</td>\n",
       "      <td>0</td>\n",
       "      <td>0</td>\n",
       "      <td>Alone</td>\n",
       "      <td>Retired</td>\n",
       "      <td>...</td>\n",
       "      <td>2.0</td>\n",
       "      <td>2.0</td>\n",
       "      <td>upto_12_hours</td>\n",
       "      <td>Self-employed</td>\n",
       "      <td>0.063343</td>\n",
       "      <td>0.080650</td>\n",
       "      <td>0</td>\n",
       "      <td>one_year</td>\n",
       "      <td>more_than_two_search</td>\n",
       "      <td>0</td>\n",
       "    </tr>\n",
       "  </tbody>\n",
       "</table>\n",
       "<p>10 rows × 30 columns</p>\n",
       "</div>"
      ],
      "text/plain": [
       "  Client_Income_category Credit_Amount_category Credit_to_Income_Category  \\\n",
       "0           income_band2           credit_band6             Upto_10_times   \n",
       "1           income_band5           credit_band1              Upto_2_times   \n",
       "2           income_band4           credit_band5              Upto_4_times   \n",
       "3           income_band4           credit_band5              Upto_4_times   \n",
       "4           income_band5           credit_band6              Upto_4_times   \n",
       "5           income_band3           credit_band1              Upto_2_times   \n",
       "6           income_band4           credit_band6             Upto_10_times   \n",
       "7           income_band3           credit_band6              Upto_5_times   \n",
       "8           income_band3           credit_band4              Upto_4_times   \n",
       "9           income_band3           credit_band1              Upto_2_times   \n",
       "\n",
       "  Loan_Annuity_category Client_Family_Members_Category  Car_Owned  Bike_Owned  \\\n",
       "0        upto_6_percent                      2_members          0           0   \n",
       "1   more_than_8_percent                      2_members          1           0   \n",
       "2        upto_6_percent                      2_members          0           0   \n",
       "3        upto_6_percent                      2_members          0           0   \n",
       "4        upto_4_percent            more_than_3_members          1           0   \n",
       "5        upto_6_percent                      2_members          0           1   \n",
       "6        upto_4_percent                  upto_1_member          1           1   \n",
       "7        upto_6_percent                      2_members          0           0   \n",
       "8        upto_4_percent                      3_members          1           1   \n",
       "9        upto_8_percent                  upto_1_member          0           0   \n",
       "\n",
       "   Active_Loan Accompany_Client Client_Income_Type  ... Cleint_City_Rating  \\\n",
       "0            1            Alone         Commercial  ...                2.0   \n",
       "1            1            Alone            Service  ...                2.0   \n",
       "2            1            Alone            Service  ...                2.0   \n",
       "3            1            Alone            Retired  ...                3.0   \n",
       "4            1            Alone         Commercial  ...                1.0   \n",
       "5            1            Alone            Service  ...                2.0   \n",
       "6            0            Alone            Retired  ...                2.0   \n",
       "7            1            Alone            Retired  ...                2.0   \n",
       "8            0         Relative         Commercial  ...                2.0   \n",
       "9            0            Alone            Retired  ...                2.0   \n",
       "\n",
       "  Application_Process_Day Application_Hour_Category Type_Organization_Grouped  \\\n",
       "0                     6.0             upto_18_hours             Self-employed   \n",
       "1                     3.0             upto_12_hours             Public Sector   \n",
       "2                     4.0             upto_12_hours             Self-employed   \n",
       "3                     2.0             upto_18_hours             Self-employed   \n",
       "4                     3.0             upto_12_hours                  Business   \n",
       "5                     2.0             upto_12_hours                     Other   \n",
       "6                     3.0             upto_18_hours             Self-employed   \n",
       "7                     4.0             upto_18_hours             Self-employed   \n",
       "8                     4.0             upto_18_hours             Self-employed   \n",
       "9                     2.0             upto_12_hours             Self-employed   \n",
       "\n",
       "  Score_Source_2 Score_Source_3 Social_Circle_Default Phone_Change_category  \\\n",
       "0       0.478787       0.511180                     1             same_year   \n",
       "1       0.215068       0.511180                     0             same_year   \n",
       "2       0.552795       0.329655                     1             same_year   \n",
       "3       0.135182       0.631355                     0             four_year   \n",
       "4       0.301182       0.355639                     1              one_year   \n",
       "5       0.697928       0.420611                     1              two_year   \n",
       "6       0.602545       0.511892                     1             same_year   \n",
       "7       0.657508       0.549597                     0             four_year   \n",
       "8       0.637594       0.553165                     1             four_year   \n",
       "9       0.063343       0.080650                     0              one_year   \n",
       "\n",
       "   Credit_Bureau_Category Default  \n",
       "0               no_search       0  \n",
       "1               no_search       0  \n",
       "2               no_search       0  \n",
       "3    more_than_two_search       0  \n",
       "4              one_search       0  \n",
       "5               no_search       0  \n",
       "6    more_than_two_search       0  \n",
       "7    more_than_two_search       0  \n",
       "8               no_search       0  \n",
       "9    more_than_two_search       0  \n",
       "\n",
       "[10 rows x 30 columns]"
      ]
     },
     "execution_count": 3,
     "metadata": {},
     "output_type": "execute_result"
    }
   ],
   "source": [
    "df.head(10)"
   ]
  },
  {
   "cell_type": "code",
   "execution_count": null,
   "id": "7244a97c",
   "metadata": {},
   "outputs": [],
   "source": [
    "df.Default.dtype"
   ]
  },
  {
   "cell_type": "code",
   "execution_count": 4,
   "id": "780413e6",
   "metadata": {},
   "outputs": [],
   "source": [
    "# Step 1: Convert all categorical columns to object, excluding 'Score_Source_2', 'Score_Source_3'\n",
    "categorical_columns = [col for col in df.columns if col not in ['Score_Source_2', 'Score_Source_3']]\n",
    "df[categorical_columns] = df[categorical_columns].astype('object')\n"
   ]
  },
  {
   "cell_type": "code",
   "execution_count": 5,
   "id": "20d91e04",
   "metadata": {},
   "outputs": [],
   "source": [
    "# If it's numeric but string-like:\n",
    "df['Default'] = df['Default'].astype(int)"
   ]
  },
  {
   "cell_type": "code",
   "execution_count": 6,
   "id": "2dda1618",
   "metadata": {},
   "outputs": [],
   "source": [
    "# Step 2: Split into features and target\n",
    "X = df.drop('Default', axis=1)\n",
    "y = df['Default']"
   ]
  },
  {
   "cell_type": "code",
   "execution_count": 7,
   "id": "bf955b2a",
   "metadata": {},
   "outputs": [],
   "source": [
    "# Step 3: Define preprocessing pipelines\n",
    "numeric_features = ['Score_Source_2', 'Score_Source_3']\n",
    "categorical_features = X.select_dtypes(include=['object']).columns.tolist()"
   ]
  },
  {
   "cell_type": "code",
   "execution_count": 8,
   "id": "325b086c",
   "metadata": {},
   "outputs": [],
   "source": [
    "numeric_transformer = Pipeline(steps=[\n",
    "    ('imputer', SimpleImputer(strategy='mean')),\n",
    "    ('scaler', StandardScaler())])\n",
    "\n",
    "categorical_transformer = Pipeline(steps=[\n",
    "    ('imputer', SimpleImputer(strategy='most_frequent')),\n",
    "    ('encoder', OneHotEncoder(handle_unknown='ignore'))])\n",
    "\n",
    "preprocessor = ColumnTransformer(\n",
    "    transformers=[\n",
    "        ('num', numeric_transformer, numeric_features),\n",
    "        ('cat', categorical_transformer, categorical_features)])"
   ]
  },
  {
   "cell_type": "code",
   "execution_count": 9,
   "id": "83aa4dff",
   "metadata": {},
   "outputs": [],
   "source": [
    "# Step 4: Split the data\n",
    "X_train, X_test, y_train, y_test = train_test_split(X, y, test_size=0.3, random_state=42)\n"
   ]
  },
  {
   "cell_type": "code",
   "execution_count": null,
   "id": "97dddb70",
   "metadata": {},
   "outputs": [],
   "source": [
    "X_train.shape\n",
    "print(X_test.shape)"
   ]
  },
  {
   "cell_type": "code",
   "execution_count": 34,
   "id": "da05fec0",
   "metadata": {},
   "outputs": [],
   "source": [
    "import pickle\n",
    "pickle.dump(preprocessor, open('data_scaling_latest.pkl', 'wb'))"
   ]
  },
  {
   "cell_type": "code",
   "execution_count": 33,
   "id": "34d59b90",
   "metadata": {},
   "outputs": [],
   "source": [
    "# Step 5: Fit preprocessing pipeline to training data\n",
    "X_train_prepared = preprocessor.fit_transform(X_train)\n",
    "X_test_prepared = preprocessor.transform(X_test)"
   ]
  },
  {
   "cell_type": "code",
   "execution_count": null,
   "id": "a8e0fa17",
   "metadata": {},
   "outputs": [],
   "source": [
    "# Step 6: Train logistic regression on preprocessed data\n",
    "model = LogisticRegression(max_iter=1000, random_state=42)\n",
    "model.fit(X_train_prepared, y_train)"
   ]
  },
  {
   "cell_type": "code",
   "execution_count": null,
   "id": "5c49f768",
   "metadata": {},
   "outputs": [],
   "source": [
    "# Step 7: Make predictions\n",
    "y_pred = model.predict(X_test_prepared)\n",
    "y_prob = model.predict_proba(X_test_prepared)[:, 1]  # for ROC-AUC"
   ]
  },
  {
   "cell_type": "code",
   "execution_count": null,
   "id": "01dbb000",
   "metadata": {},
   "outputs": [],
   "source": [
    "# Step 8: Evaluate\n",
    "print(\"Classification Report:\\n\", classification_report(y_test, y_pred))\n",
    "print(\"Accuracy:\", accuracy_score(y_test, y_pred))\n",
    "print(\"Precision:\", precision_score(y_test, y_pred))\n",
    "print(\"Recall:\", recall_score(y_test, y_pred))\n",
    "print(\"F1 Score:\", f1_score(y_test, y_pred))\n",
    "print(\"ROC AUC Score:\", roc_auc_score(y_test, y_prob))\n"
   ]
  },
  {
   "cell_type": "code",
   "execution_count": null,
   "id": "e457dd6b",
   "metadata": {},
   "outputs": [],
   "source": [
    "# Step 9: Confusion Matrix\n",
    "cm = confusion_matrix(y_test, y_pred)\n",
    "plt.figure(figsize=(6,4))\n",
    "sns.heatmap(cm, annot=True, fmt='d', cmap='Blues', xticklabels=['No Default', 'Default'], yticklabels=['No Default', 'Default'])\n",
    "plt.xlabel('Predicted')\n",
    "plt.ylabel('Actual')\n",
    "plt.title('Confusion Matrix')\n",
    "plt.show()"
   ]
  },
  {
   "cell_type": "code",
   "execution_count": null,
   "id": "8df18213",
   "metadata": {},
   "outputs": [],
   "source": [
    "xgb1 = XGBClassifier(use_label_encoder=False, eval_metric='auc', random_state=42)"
   ]
  },
  {
   "cell_type": "code",
   "execution_count": null,
   "id": "91340a6e",
   "metadata": {
    "scrolled": true
   },
   "outputs": [],
   "source": [
    "xgb1.fit(X_train_prepared,y_train)"
   ]
  },
  {
   "cell_type": "code",
   "execution_count": null,
   "id": "df0c593a",
   "metadata": {},
   "outputs": [],
   "source": [
    " # Predict\n",
    "y_pred = model.predict(X_test_prepared)\n",
    "y_prob = model.predict_proba(X_test_prepared)[:, 1]\n",
    "  \n",
    "results = []\n",
    "    # Evaluate\n",
    "results.append({\n",
    "        'Model': 'XGBoost',\n",
    "        'Accuracy': accuracy_score(y_test, y_pred),\n",
    "        'Precision': precision_score(y_test, y_pred),\n",
    "        'Recall': recall_score(y_test, y_pred),\n",
    "        'F1 Score': f1_score(y_test, y_pred),\n",
    "        'ROC AUC': roc_auc_score(y_test, y_prob)\n",
    "    })\n",
    "\n",
    "# Create a DataFrame of results\n",
    "results_df = pd.DataFrame(results).sort_values(by='ROC AUC', ascending=False)"
   ]
  },
  {
   "cell_type": "code",
   "execution_count": null,
   "id": "994ff858",
   "metadata": {},
   "outputs": [],
   "source": [
    "results"
   ]
  },
  {
   "cell_type": "code",
   "execution_count": null,
   "id": "cd96316d",
   "metadata": {},
   "outputs": [],
   "source": []
  },
  {
   "cell_type": "code",
   "execution_count": null,
   "id": "54e275a3",
   "metadata": {},
   "outputs": [],
   "source": [
    "# Define models\n",
    "models = {\n",
    "    'Logistic Regression': LogisticRegression(max_iter=1000, random_state=42),\n",
    "    'Naive Bayes': GaussianNB(),\n",
    "    'SVM': SVC(probability=True, random_state=42),\n",
    "    'Random Forest': RandomForestClassifier(n_estimators=100, random_state=42),\n",
    "    'XGBoost': XGBClassifier(use_label_encoder=False, eval_metric='logloss', random_state=42)\n",
    "}\n",
    "\n",
    "# Store results\n",
    "results = []\n",
    "\n",
    "# Loop through models\n",
    "for name, model in models.items():\n",
    "    # For Naive Bayes: it doesn't work with sparse matrix (from OneHotEncoder), convert to dense\n",
    "    X_train_mod = X_train_prepared.toarray() if name == 'Naive Bayes' else X_train_prepared\n",
    "    X_test_mod = X_test_prepared.toarray() if name == 'Naive Bayes' else X_test_prepared\n",
    "    \n",
    "    # Train\n",
    "    model.fit(X_train_mod, y_train)\n",
    "    \n",
    "    # Predict\n",
    "    y_pred = model.predict(X_test_mod)\n",
    "    y_prob = model.predict_proba(X_test_mod)[:, 1]\n",
    "    \n",
    "    # Evaluate\n",
    "    results.append({\n",
    "        'Model': name,\n",
    "        'Accuracy': accuracy_score(y_test, y_pred),\n",
    "        'Precision': precision_score(y_test, y_pred),\n",
    "        'Recall': recall_score(y_test, y_pred),\n",
    "        'F1 Score': f1_score(y_test, y_pred),\n",
    "        'ROC AUC': roc_auc_score(y_test, y_prob)\n",
    "    })\n",
    "\n",
    "# Create a DataFrame of results\n",
    "results_df = pd.DataFrame(results).sort_values(by='ROC AUC', ascending=False)"
   ]
  },
  {
   "cell_type": "code",
   "execution_count": null,
   "id": "98259b44",
   "metadata": {},
   "outputs": [],
   "source": [
    "# Step 1: Compute scale_pos_weight for imbalance\n",
    "# Formula: count(negative class) / count(positive class)\n",
    "scale_pos_weight = (y_train == 0).sum() / (y_train == 1).sum()\n",
    "print(f\"Scale pos weight: {scale_pos_weight:.2f}\")"
   ]
  },
  {
   "cell_type": "code",
   "execution_count": null,
   "id": "912b0873",
   "metadata": {},
   "outputs": [],
   "source": [
    "# Step 2: Define XGBoost model\n",
    "xgb = XGBClassifier(\n",
    "    objective='binary:logistic',\n",
    "    use_label_encoder=False,\n",
    "    eval_metric='logloss',\n",
    "    scale_pos_weight=scale_pos_weight,\n",
    "    random_state=42\n",
    ")"
   ]
  },
  {
   "cell_type": "code",
   "execution_count": null,
   "id": "110f3869",
   "metadata": {},
   "outputs": [],
   "source": [
    "# Step 3: Hyperparameter grid (basic but effective)\n",
    "param_grid = {\n",
    "    'n_estimators': [100],\n",
    "    'max_depth': [3],\n",
    "    'learning_rate': [0.01],\n",
    "    'subsample': [0.8],\n",
    "    'colsample_bytree': [0.8]\n",
    "}\n"
   ]
  },
  {
   "cell_type": "code",
   "execution_count": null,
   "id": "e54f5228",
   "metadata": {},
   "outputs": [],
   "source": [
    "# Step 4: Use recall as scoring metric\n",
    "recall_scorer = make_scorer(recall_score)"
   ]
  },
  {
   "cell_type": "code",
   "execution_count": null,
   "id": "e1c29d8e",
   "metadata": {},
   "outputs": [],
   "source": [
    "# Step 4: Define F-beta scorer with beta = 3\n",
    "fbeta_scorer = make_scorer(fbeta_score, beta=4)"
   ]
  },
  {
   "cell_type": "code",
   "execution_count": null,
   "id": "54c57baf",
   "metadata": {},
   "outputs": [],
   "source": [
    "# Step 5: Cross-validation with GridSearchCV\n",
    "grid_search = GridSearchCV(\n",
    "    estimator=xgb,\n",
    "    param_grid=param_grid,\n",
    "    scoring=fbeta_scorer,\n",
    "    cv=5,\n",
    "    n_jobs=-1,\n",
    "    verbose=1\n",
    ")"
   ]
  },
  {
   "cell_type": "code",
   "execution_count": null,
   "id": "59b49cd1",
   "metadata": {},
   "outputs": [],
   "source": [
    "# Step 6: Fit model\n",
    "grid_search.fit(X_train_prepared, y_train)"
   ]
  },
  {
   "cell_type": "code",
   "execution_count": null,
   "id": "177b1087",
   "metadata": {},
   "outputs": [],
   "source": [
    "# Step 7: Best model and recall score\n",
    "print(\"Best Parameters:\\n\", grid_search.best_params_)\n",
    "print(\"Best Recall Score on CV:\", grid_search.best_score_)\n",
    "\n",
    "\n"
   ]
  },
  {
   "cell_type": "code",
   "execution_count": null,
   "id": "64ff598b",
   "metadata": {},
   "outputs": [],
   "source": [
    "# Step 8: Predict on test set using best estimator\n",
    "\n",
    "y_pred_test = grid_search.best_estimator_.predict(X_test_prepared)\n",
    "\n",
    "# Step 9: Evaluate on test data\n",
    "print(\"Test Recall Score:\", recall_score(y_test, y_pred_test))"
   ]
  },
  {
   "cell_type": "code",
   "execution_count": null,
   "id": "15fd9aee",
   "metadata": {},
   "outputs": [],
   "source": [
    "results.append({\n",
    "        'Model': 'grid_search_XGBoost',\n",
    "        'Accuracy': accuracy_score(y_test, y_pred_test),\n",
    "        'Precision': precision_score(y_test, y_pred_test),\n",
    "        'Recall': recall_score(y_test, y_pred_test),\n",
    "        'F1 Score': f1_score(y_test, y_pred_test),\n",
    "        'ROC AUC': roc_auc_score(y_test, y_pred_test)\n",
    "    })"
   ]
  },
  {
   "cell_type": "code",
   "execution_count": null,
   "id": "4bcbb0dd",
   "metadata": {},
   "outputs": [],
   "source": []
  },
  {
   "cell_type": "code",
   "execution_count": null,
   "id": "c43ed89a",
   "metadata": {},
   "outputs": [],
   "source": [
    "# Step 9: Confusion Matrix\n",
    "cm = confusion_matrix(y_test, y_pred_test)\n",
    "plt.figure(figsize=(6,4))\n",
    "sns.heatmap(cm, annot=True, fmt='d', cmap='Blues', xticklabels=['No Default', 'Default'], yticklabels=['No Default', 'Default'])\n",
    "plt.xlabel('Predicted')\n",
    "plt.ylabel('Actual')\n",
    "plt.title('Confusion Matrix')\n",
    "plt.show()"
   ]
  },
  {
   "cell_type": "code",
   "execution_count": null,
   "id": "f8f896f9",
   "metadata": {},
   "outputs": [],
   "source": [
    "# Expanded hyperparameter grid for random search\n",
    "param_distributions = {\n",
    "    'n_estimators': [100, 200, 300,400,500],\n",
    "    'max_depth': [3, 5, 7,9],\n",
    "    'learning_rate': [0.01, 0.05, 0.1,0.3],\n",
    "    'subsample': [0.2,0,4,0.6, 0.8],\n",
    "    'colsample_bytree': [0.4,0.6, 0.8]\n",
    "}"
   ]
  },
  {
   "cell_type": "code",
   "execution_count": null,
   "id": "4c59e03e",
   "metadata": {},
   "outputs": [],
   "source": [
    "# RandomizedSearchCV with more parameter combinations\n",
    "random_search = RandomizedSearchCV(\n",
    "    estimator=xgb,\n",
    "    param_distributions=param_distributions,\n",
    "    scoring=fbeta_scorer,\n",
    "    cv=5,\n",
    "    n_iter=50,  # You can adjust this depending on how many random combos you want to try\n",
    "    n_jobs=-1,\n",
    "    verbose=2,\n",
    "    random_state=42\n",
    ")"
   ]
  },
  {
   "cell_type": "code",
   "execution_count": null,
   "id": "9fc9ce54",
   "metadata": {
    "scrolled": true
   },
   "outputs": [],
   "source": [
    "# Step 6: Fit model\n",
    "random_search.fit(X_train_prepared, y_train)"
   ]
  },
  {
   "cell_type": "code",
   "execution_count": null,
   "id": "80811151",
   "metadata": {},
   "outputs": [],
   "source": [
    "# Step 8: Predict on test set using best estimator\n",
    "\n",
    "y_pred_test_random = random_search.best_estimator_.predict(X_test_prepared)\n",
    "\n",
    "# Step 9: Evaluate on test data\n",
    "print(\"Test Recall Score:\", recall_score(y_test, y_pred_test_random))"
   ]
  },
  {
   "cell_type": "code",
   "execution_count": null,
   "id": "3529b4e9",
   "metadata": {},
   "outputs": [],
   "source": [
    "# Step 9: Confusion Matrix\n",
    "cm = confusion_matrix(y_test, y_pred_test_random)\n",
    "plt.figure(figsize=(6,4))\n",
    "sns.heatmap(cm, annot=True, fmt='d', cmap='Blues', xticklabels=['No Default', 'Default'], yticklabels=['No Default', 'Default'])\n",
    "plt.xlabel('Predicted')\n",
    "plt.ylabel('Actual')\n",
    "plt.title('Confusion Matrix')\n",
    "plt.show()"
   ]
  },
  {
   "cell_type": "code",
   "execution_count": null,
   "id": "4982c783",
   "metadata": {},
   "outputs": [],
   "source": [
    "results.append({\n",
    "        'Model': 'random_search_XGBoost_modified',\n",
    "        'Accuracy': accuracy_score(y_test, y_pred_test_random),\n",
    "        'Precision': precision_score(y_test, y_pred_test_random),\n",
    "        'Recall': recall_score(y_test, y_pred_test_random),\n",
    "        'F1 Score': f1_score(y_test, y_pred_test_random),\n",
    "        'ROC AUC': roc_auc_score(y_test, y_pred_test_random)\n",
    "    })"
   ]
  },
  {
   "cell_type": "code",
   "execution_count": null,
   "id": "cefb9ea1",
   "metadata": {},
   "outputs": [],
   "source": [
    "# Create a DataFrame of results\n",
    "results_df = pd.DataFrame(results).sort_values(by='ROC AUC', ascending=False)"
   ]
  },
  {
   "cell_type": "code",
   "execution_count": 143,
   "id": "66966551",
   "metadata": {},
   "outputs": [
    {
     "data": {
      "text/html": [
       "<div>\n",
       "<style scoped>\n",
       "    .dataframe tbody tr th:only-of-type {\n",
       "        vertical-align: middle;\n",
       "    }\n",
       "\n",
       "    .dataframe tbody tr th {\n",
       "        vertical-align: top;\n",
       "    }\n",
       "\n",
       "    .dataframe thead th {\n",
       "        text-align: right;\n",
       "    }\n",
       "</style>\n",
       "<table border=\"1\" class=\"dataframe\">\n",
       "  <thead>\n",
       "    <tr style=\"text-align: right;\">\n",
       "      <th></th>\n",
       "      <th>Model</th>\n",
       "      <th>Accuracy</th>\n",
       "      <th>Precision</th>\n",
       "      <th>Recall</th>\n",
       "      <th>F1 Score</th>\n",
       "      <th>ROC AUC</th>\n",
       "      <th>Beta_value</th>\n",
       "    </tr>\n",
       "  </thead>\n",
       "  <tbody>\n",
       "    <tr>\n",
       "      <th>0</th>\n",
       "      <td>random_search_XGBoost_modified1</td>\n",
       "      <td>0.690155</td>\n",
       "      <td>0.157452</td>\n",
       "      <td>0.656229</td>\n",
       "      <td>0.253968</td>\n",
       "      <td>0.674674</td>\n",
       "      <td>4</td>\n",
       "    </tr>\n",
       "    <tr>\n",
       "      <th>1</th>\n",
       "      <td>random_search_CATBoost_modified</td>\n",
       "      <td>0.690155</td>\n",
       "      <td>0.157452</td>\n",
       "      <td>0.656229</td>\n",
       "      <td>0.253968</td>\n",
       "      <td>0.674674</td>\n",
       "      <td>5</td>\n",
       "    </tr>\n",
       "    <tr>\n",
       "      <th>3</th>\n",
       "      <td>CATBoost_modified_recall</td>\n",
       "      <td>0.679049</td>\n",
       "      <td>0.152728</td>\n",
       "      <td>0.658271</td>\n",
       "      <td>0.247933</td>\n",
       "      <td>0.669568</td>\n",
       "      <td>0</td>\n",
       "    </tr>\n",
       "    <tr>\n",
       "      <th>2</th>\n",
       "      <td>CATBoost_modified_micro_recall</td>\n",
       "      <td>0.875181</td>\n",
       "      <td>0.284426</td>\n",
       "      <td>0.364874</td>\n",
       "      <td>0.319666</td>\n",
       "      <td>0.642326</td>\n",
       "      <td>0</td>\n",
       "    </tr>\n",
       "  </tbody>\n",
       "</table>\n",
       "</div>"
      ],
      "text/plain": [
       "                             Model  Accuracy  Precision    Recall  F1 Score  \\\n",
       "0  random_search_XGBoost_modified1  0.690155   0.157452  0.656229  0.253968   \n",
       "1  random_search_CATBoost_modified  0.690155   0.157452  0.656229  0.253968   \n",
       "3         CATBoost_modified_recall  0.679049   0.152728  0.658271  0.247933   \n",
       "2   CATBoost_modified_micro_recall  0.875181   0.284426  0.364874  0.319666   \n",
       "\n",
       "    ROC AUC  Beta_value  \n",
       "0  0.674674           4  \n",
       "1  0.674674           5  \n",
       "3  0.669568           0  \n",
       "2  0.642326           0  "
      ]
     },
     "execution_count": 143,
     "metadata": {},
     "output_type": "execute_result"
    }
   ],
   "source": [
    "results_df"
   ]
  },
  {
   "cell_type": "code",
   "execution_count": null,
   "id": "eaee9ec2",
   "metadata": {},
   "outputs": [],
   "source": [
    "random_search.best_estimator_"
   ]
  },
  {
   "cell_type": "code",
   "execution_count": null,
   "id": "1fb5317e",
   "metadata": {},
   "outputs": [],
   "source": [
    "random_search.best_params_"
   ]
  },
  {
   "cell_type": "code",
   "execution_count": null,
   "id": "c8942849",
   "metadata": {},
   "outputs": [],
   "source": [
    "param_grid = {\n",
    "    'n_estimators': [500,450],\n",
    "    'max_depth': [3, 5,7],\n",
    "    'learning_rate': [0.05],\n",
    "    'subsample': [0.6],\n",
    "    'colsample_bytree': [0.6],\n",
    "    'reg_alpha': [ 0.1, 0.2,0.3],          # L1 regularization\n",
    "    'reg_lambda': [1, 1.5, 2]        # L2 regularization\n",
    "}"
   ]
  },
  {
   "cell_type": "markdown",
   "id": "1ae20b8b",
   "metadata": {},
   "source": [
    "print(1)"
   ]
  },
  {
   "cell_type": "code",
   "execution_count": null,
   "id": "6cd12fd1",
   "metadata": {},
   "outputs": [],
   "source": [
    "# Step 5: Cross-validation with GridSearchCV\n",
    "grid_search = GridSearchCV(\n",
    "    estimator=xgb,\n",
    "    param_grid=param_grid,\n",
    "    scoring=fbeta_scorer,\n",
    "    cv=3,\n",
    "    n_jobs=1,\n",
    "    verbose=3\n",
    ")"
   ]
  },
  {
   "cell_type": "code",
   "execution_count": null,
   "id": "7e747ae2",
   "metadata": {},
   "outputs": [],
   "source": [
    "import warnings\n",
    "warnings.filterwarnings('ignore')"
   ]
  },
  {
   "cell_type": "code",
   "execution_count": null,
   "id": "bbfe9a7a",
   "metadata": {},
   "outputs": [],
   "source": [
    "grid_search.fit(X_train_prepared, y_train)"
   ]
  },
  {
   "cell_type": "code",
   "execution_count": null,
   "id": "9f5d4ced",
   "metadata": {},
   "outputs": [],
   "source": [
    "grid_search.best_score_"
   ]
  },
  {
   "cell_type": "code",
   "execution_count": null,
   "id": "3ca30922",
   "metadata": {},
   "outputs": [],
   "source": [
    "grid_search.best_params_"
   ]
  },
  {
   "cell_type": "code",
   "execution_count": null,
   "id": "2b3957bd",
   "metadata": {},
   "outputs": [],
   "source": [
    "# Step 8: Predict on test set using best estimator\n",
    "\n",
    "y_pred_test_grid = grid_search.best_estimator_.predict(X_test_prepared)\n",
    "\n",
    "# Step 9: Evaluate on test data\n",
    "print(\"Test Recall Score:\", recall_score(y_test, y_pred_test_grid))"
   ]
  },
  {
   "cell_type": "code",
   "execution_count": null,
   "id": "b36a5eff",
   "metadata": {},
   "outputs": [],
   "source": [
    "# Step 9: Confusion Matrix\n",
    "cm = confusion_matrix(y_test, y_pred_test_grid)\n",
    "plt.figure(figsize=(6,4))\n",
    "sns.heatmap(cm, annot=True, fmt='d', cmap='Blues', xticklabels=['No Default', 'Default'], yticklabels=['No Default', 'Default'])\n",
    "plt.xlabel('Predicted')\n",
    "plt.ylabel('Actual')\n",
    "plt.title('Confusion Matrix')\n",
    "plt.show()"
   ]
  },
  {
   "cell_type": "code",
   "execution_count": null,
   "id": "94cb6717",
   "metadata": {},
   "outputs": [],
   "source": [
    "results.append({\n",
    "        'Model': 'random_search_XGBoost_modified1',\n",
    "        'Accuracy': accuracy_score(y_test, y_pred_test_grid),\n",
    "        'Precision': precision_score(y_test, y_pred_test_grid),\n",
    "        'Recall': recall_score(y_test, y_pred_test_grid),\n",
    "        'F1 Score': f1_score(y_test, y_pred_test_grid),\n",
    "        'ROC AUC': roc_auc_score(y_test, y_pred_test_grid)\n",
    "    })"
   ]
  },
  {
   "cell_type": "code",
   "execution_count": null,
   "id": "6da2f4e8",
   "metadata": {},
   "outputs": [],
   "source": [
    "# Create a DataFrame of results\n",
    "results_df = pd.DataFrame(results).sort_values(by='ROC AUC', ascending=False)"
   ]
  },
  {
   "cell_type": "code",
   "execution_count": null,
   "id": "aab5561e",
   "metadata": {},
   "outputs": [],
   "source": [
    "results_df"
   ]
  },
  {
   "cell_type": "code",
   "execution_count": null,
   "id": "560ea623",
   "metadata": {},
   "outputs": [],
   "source": [
    "pip install --upgrade numpy\n"
   ]
  },
  {
   "cell_type": "code",
   "execution_count": null,
   "id": "08e8973a",
   "metadata": {},
   "outputs": [],
   "source": [
    "pip install --upgrade catboost\n"
   ]
  },
  {
   "cell_type": "code",
   "execution_count": null,
   "id": "e802ef26",
   "metadata": {},
   "outputs": [],
   "source": [
    "# Step 4: Define F-beta scorer with beta = 3\n",
    "fbeta_scorer = make_scorer(fbeta_score, beta=0.7)"
   ]
  },
  {
   "cell_type": "code",
   "execution_count": null,
   "id": "ffe78cdd",
   "metadata": {},
   "outputs": [],
   "source": [
    "from catboost import CatBoostClassifier\n",
    "\n",
    "\n",
    "# Define the CatBoostClassifier\n",
    "catboost_model = CatBoostClassifier(\n",
    "    verbose=0,\n",
    "    random_state=42,\n",
    "    auto_class_weights='Balanced'  # Automatically handles class imbalance\n",
    ")\n",
    "\n",
    "# Define the hyperparameter distributions\n",
    "param_distributions = {\n",
    "    'depth': [4, 6, 8, 10],\n",
    "    'learning_rate': [0.01, 0.03, 0.05, 0.1],\n",
    "    'iterations': [100, 200, 300],\n",
    "    'l2_leaf_reg': [1, 3, 5, 7],\n",
    "    'bagging_temperature': [0, 0.5, 1.0],\n",
    "    'border_count': [32, 64, 128]\n",
    "}\n",
    "#{'learning_rate': 0.1, 'l2_leaf_reg': 3, 'iterations': 200, \n",
    " #'depth': 4, 'border_count': 32, 'bagging_temperature': 0.5}\n",
    "# param_distributions = {\n",
    "#     'depth': [4],\n",
    "#     'learning_rate': [0.1],\n",
    "#     'iterations': [ 200],\n",
    "#     'l2_leaf_reg': [3],\n",
    "#     'bagging_temperature': [0.5],\n",
    "#     'border_count': [32]\n",
    "# }\n",
    "\n",
    "# Randomized search\n",
    "random_search = RandomizedSearchCV(\n",
    "    estimator=catboost_model,\n",
    "    param_distributions=param_distributions,\n",
    "    scoring='recall_micro',  # or 'f1_weighted'\n",
    "    cv=5,\n",
    "    n_iter=100,              # Try 20 random combinations\n",
    "    n_jobs=1,\n",
    "    verbose=3,\n",
    "    random_state=42\n",
    ")\n",
    "\n",
    "# Fit to training data\n",
    "random_search.fit(X_train_prepared, y_train)\n",
    "\n",
    "# Output best results\n",
    "print(\"Best Parameters:\", random_search.best_params_)\n",
    "print(\"Best Score:\", random_search.best_score_)\n"
   ]
  },
  {
   "cell_type": "code",
   "execution_count": null,
   "id": "dd6ee699",
   "metadata": {},
   "outputs": [],
   "source": [
    "# Best Parameters: {'learning_rate': 0.1, 'l2_leaf_reg': 1, 'iterations': 300, 'depth': 10, 'border_count': 64, 'bagging_temperature': 0}\n",
    "# Best Score: 0.8874195865435504"
   ]
  },
  {
   "cell_type": "code",
   "execution_count": null,
   "id": "af20ba17",
   "metadata": {},
   "outputs": [],
   "source": [
    "random_search.best_score_"
   ]
  },
  {
   "cell_type": "code",
   "execution_count": null,
   "id": "0cdba9d4",
   "metadata": {},
   "outputs": [],
   "source": [
    "y_pred1 = random_search.best_estimator_.predict(X_test_prepared)\n",
    "y_prob1 = random_search.best_estimator_.predict_proba(X_test_prepared)[:, 1]"
   ]
  },
  {
   "cell_type": "code",
   "execution_count": null,
   "id": "9f50919a",
   "metadata": {},
   "outputs": [],
   "source": [
    "y1 = pd.DataFrame(y_pred1)\n",
    "y1.value_counts()"
   ]
  },
  {
   "cell_type": "code",
   "execution_count": null,
   "id": "98f5e955",
   "metadata": {},
   "outputs": [],
   "source": [
    "# Step 8: Predict on test set using best estimator\n",
    "\n",
    "y_pred_test_grid = random_search.best_estimator_.predict(X_test_prepared)\n",
    "\n"
   ]
  },
  {
   "cell_type": "code",
   "execution_count": null,
   "id": "8e5eca9b",
   "metadata": {},
   "outputs": [],
   "source": [
    "cm"
   ]
  },
  {
   "cell_type": "code",
   "execution_count": null,
   "id": "c0aa43be",
   "metadata": {},
   "outputs": [],
   "source": [
    "# Step 9: Confusion Matrix\n",
    "cm = confusion_matrix(y_test, y_pred1)\n",
    "plt.figure(figsize=(6,4))\n",
    "sns.heatmap(cm, annot=True, fmt='d', cmap='Blues', xticklabels=['No Default', 'Default'], yticklabels=['No Default', 'Default'])\n",
    "plt.xlabel('Predicted')\n",
    "plt.ylabel('Actual')\n",
    "plt.title('Confusion Matrix')\n",
    "plt.show()"
   ]
  },
  {
   "cell_type": "code",
   "execution_count": null,
   "id": "ed4e97af",
   "metadata": {},
   "outputs": [],
   "source": [
    "results=[]"
   ]
  },
  {
   "cell_type": "code",
   "execution_count": null,
   "id": "adad8d7f",
   "metadata": {},
   "outputs": [],
   "source": [
    "\n",
    "\n",
    "results.append({\n",
    "        'Model': 'CATBoost_modified_micro_recall',\n",
    "        'Accuracy': accuracy_score(y_test, y_pred1),\n",
    "        'Precision': precision_score(y_test, y_pred1),\n",
    "        'Recall': recall_score(y_test, y_pred1),\n",
    "        'F1 Score': f1_score(y_test, y_pred1),\n",
    "        'ROC AUC': roc_auc_score(y_test, y_pred1),\n",
    "        'Beta_value': 0\n",
    "    })"
   ]
  },
  {
   "cell_type": "code",
   "execution_count": null,
   "id": "61b6d93b",
   "metadata": {},
   "outputs": [],
   "source": [
    "results_df = pd.DataFrame(results).sort_values(by='ROC AUC', ascending=False)\n",
    "print(results_df)"
   ]
  },
  {
   "cell_type": "code",
   "execution_count": null,
   "id": "02f6c59d",
   "metadata": {},
   "outputs": [],
   "source": [
    "from catboost import CatBoostClassifier\n",
    "\n",
    "\n",
    "# Define the CatBoostClassifier\n",
    "catboost_model = CatBoostClassifier(\n",
    "    verbose=0,\n",
    "    random_state=42,\n",
    "    auto_class_weights='Balanced'  # Automatically handles class imbalance\n",
    ")\n",
    "\n",
    "# Define the hyperparameter distributions\n",
    "param_distributions = {\n",
    "    'depth': [4, 6, 8, 10],\n",
    "    'learning_rate': [0.01, 0.03, 0.05, 0.1],\n",
    "    'iterations': [100, 200, 300],\n",
    "    'l2_leaf_reg': [1, 3, 5, 7],\n",
    "    'bagging_temperature': [0, 0.5, 1.0],\n",
    "    'border_count': [32, 64, 128]\n",
    "}\n",
    "#{'learning_rate': 0.1, 'l2_leaf_reg': 3, 'iterations': 200, \n",
    " #'depth': 4, 'border_count': 32, 'bagging_temperature': 0.5}\n",
    "# param_distributions = {\n",
    "#     'depth': [4],\n",
    "#     'learning_rate': [0.1],\n",
    "#     'iterations': [ 200],\n",
    "#     'l2_leaf_reg': [3],\n",
    "#     'bagging_temperature': [0.5],\n",
    "#     'border_count': [32]\n",
    "# }\n",
    "\n",
    "# Randomized search\n",
    "random_search1 = RandomizedSearchCV(\n",
    "    estimator=catboost_model,\n",
    "    param_distributions=param_distributions,\n",
    "    scoring='recall',  # or 'f1_weighted'\n",
    "    cv=5,\n",
    "    n_iter=50,              # Try 20 random combinations\n",
    "    n_jobs=1,\n",
    "    verbose=3,\n",
    "    random_state=42\n",
    ")\n",
    "\n",
    "# Fit to training data\n",
    "random_search1.fit(X_train_prepared, y_train)\n",
    "\n",
    "# Output best results\n",
    "print(\"Best Parameters:\", random_search1.best_params_)\n",
    "print(\"Best Score:\", random_search1.best_score_)\n"
   ]
  },
  {
   "cell_type": "code",
   "execution_count": null,
   "id": "042cd7b7",
   "metadata": {},
   "outputs": [],
   "source": [
    "# Step 8: Predict on test set using best estimator\n",
    "\n",
    "y_pred_test_recall = random_search1.best_estimator_.predict(X_test_prepared)\n",
    "\n"
   ]
  },
  {
   "cell_type": "code",
   "execution_count": null,
   "id": "aed2aac5",
   "metadata": {},
   "outputs": [],
   "source": [
    "# Step 9: Confusion Matrix\n",
    "cm = confusion_matrix(y_test, y_pred_test_recall)\n",
    "plt.figure(figsize=(6,4))\n",
    "sns.heatmap(cm, annot=True, fmt='d', cmap='Blues', xticklabels=['No Default', 'Default'], yticklabels=['No Default', 'Default'])\n",
    "plt.xlabel('Predicted')\n",
    "plt.ylabel('Actual')\n",
    "plt.title('Confusion Matrix')\n",
    "plt.show()"
   ]
  },
  {
   "cell_type": "code",
   "execution_count": null,
   "id": "52cbff86",
   "metadata": {
    "vscode": {
     "languageId": "markdown"
    }
   },
   "outputs": [],
   "source": [
    "If you're experiencing \"greying out\" of output in Visual Studio Code (VSCode), it usually happens when the editor is unable to properly render the output or when there are issues with the Python extension or Jupyter Notebook integration. Here are some steps to resolve this issue:\n",
    "\n",
    "### 1. **Update VSCode and Extensions**\n",
    "    - Ensure that you are using the latest version of VSCode.\n",
    "    - Update the Python and Jupyter extensions in VSCode.\n",
    "\n",
    "### 2. **Check Python Environment**\n",
    "    - Ensure that the correct Python interpreter is selected in VSCode.\n",
    "    - You can select the interpreter by clicking on the Python version in the bottom-left corner of VSCode and choosing the appropriate environment.\n",
    "\n",
    "### 3. **Clear Output**\n",
    "    - If the output is greyed out, try clearing the output by clicking the \"Clear All Outputs\" button in the Jupyter Notebook toolbar.\n",
    "\n",
    "### 4. **Restart Kernel**\n",
    "    - Restart the Jupyter kernel by clicking the \"Restart Kernel\" button in the Jupyter Notebook toolbar.\n",
    "\n",
    "### 5. **Reinstall Jupyter and IPython**\n",
    "    - If the issue persists, try reinstalling Jupyter and IPython in your Python environment:\n",
    "      ```bash\n",
    "      pip install --upgrade jupyter ipython\n",
    "      ```\n",
    "\n",
    "### 6. **Check Notebook File**\n",
    "    - Ensure that the `.ipynb` file is not corrupted. You can try opening it in another Jupyter Notebook interface (e.g., JupyterLab or Jupyter Notebook in the browser) to verify.\n",
    "\n",
    "### 7. **Disable Extensions**\n",
    "    - Sometimes, other VSCode extensions can interfere with the Jupyter Notebook rendering. Try disabling unnecessary extensions to see if the issue resolves.\n",
    "\n",
    "### 8. **Switch to Native Notebook Editor**\n",
    "    - VSCode supports a native notebook editor. Ensure that you are using the native editor by enabling the following setting:\n",
    "      - Go to `File > Preferences > Settings`.\n",
    "      - Search for `Jupyter: Use Notebook Editor` and enable it.\n",
    "\n",
    "### 9. **Check Output Format**\n",
    "    - Ensure that the output format of your notebook cells is compatible with VSCode. For example, large outputs or unsupported MIME types might cause rendering issues.\n",
    "\n",
    "### 10. **Reinstall VSCode**\n",
    "    - If none of the above steps work, consider reinstalling VSCode to ensure a clean setup.\n",
    "\n",
    "By following these steps, you should be able to resolve the \"greying out\" issue in VSCode."
   ]
  },
  {
   "cell_type": "code",
   "execution_count": null,
   "id": "ad453028",
   "metadata": {},
   "outputs": [],
   "source": [
    "\n",
    "\n",
    "results.append({\n",
    "        'Model': 'CATBoost_modified_recall',\n",
    "        'Accuracy': accuracy_score(y_test, y_pred_test_recall),\n",
    "        'Precision': precision_score(y_test, y_pred_test_recall),\n",
    "        'Recall': recall_score(y_test, y_pred_test_recall),\n",
    "        'F1 Score': f1_score(y_test, y_pred_test_recall),\n",
    "        'ROC AUC': roc_auc_score(y_test, y_pred_test_recall),\n",
    "        'Beta_value': 0\n",
    "    })"
   ]
  },
  {
   "cell_type": "code",
   "execution_count": null,
   "id": "252ef8f4",
   "metadata": {},
   "outputs": [],
   "source": [
    "results_df = pd.DataFrame(results).sort_values(by='ROC AUC', ascending=False)\n",
    "results_df"
   ]
  },
  {
   "cell_type": "code",
   "execution_count": null,
   "id": "4149477f",
   "metadata": {},
   "outputs": [],
   "source": [
    "from catboost import CatBoostClassifier\n",
    "\n",
    "\n",
    "# Define the CatBoostClassifier\n",
    "catboost_model = CatBoostClassifier(\n",
    "    verbose=0,\n",
    "    random_state=42,\n",
    "    auto_class_weights='Balanced'  # Automatically handles class imbalance\n",
    ")\n",
    "\n",
    "# Define the hyperparameter distributions\n",
    "param_distributions = {\n",
    "    'depth': [4],\n",
    "    'learning_rate': [ 0.03],\n",
    "    'iterations': [300],\n",
    "    'l2_leaf_reg': [5],\n",
    "    'bagging_temperature': [1.0],\n",
    "    'border_count': [32]\n",
    "}\n",
    "#{'learning_rate': 0.1, 'l2_leaf_reg': 3, 'iterations': 200, \n",
    " #'depth': 4, 'border_count': 32, 'bagging_temperature': 0.5}\n",
    "# param_distributions = {\n",
    "#     'depth': [4],\n",
    "#     'learning_rate': [0.1],\n",
    "#     'iterations': [ 200],\n",
    "#     'l2_leaf_reg': [3],\n",
    "#     'bagging_temperature': [0.5],\n",
    "#     'border_count': [32]\n",
    "# }\n",
    "\n",
    "# Randomized search\n",
    "random_search1 = RandomizedSearchCV(\n",
    "    estimator=catboost_model,\n",
    "    param_distributions=param_distributions,\n",
    "    scoring='recall',  # or 'f1_weighted'\n",
    "    cv=5,\n",
    "    n_iter=50,              # Try 20 random combinations\n",
    "    n_jobs=1,\n",
    "    verbose=3,\n",
    "    random_state=42\n",
    ")\n",
    "\n",
    "# Fit to training data\n",
    "random_search1.fit(X_train_prepared, y_train)\n",
    "\n",
    "# Output best results\n",
    "print(\"Best Parameters:\", random_search1.best_params_)\n",
    "print(\"Best Score:\", random_search1.best_score_)\n"
   ]
  },
  {
   "cell_type": "code",
   "execution_count": null,
   "id": "676be0c2",
   "metadata": {},
   "outputs": [],
   "source": [
    "import pickle\n",
    "pickle.dump(random_search1, open('catboost_model_version_2.pkl', 'wb'))\n"
   ]
  },
  {
   "cell_type": "code",
   "execution_count": 13,
   "id": "f6f1b344",
   "metadata": {},
   "outputs": [],
   "source": [
    "import pickle\n",
    "# load the model from file\n",
    "loaded_model = pickle.load(open('catboost_model_version_2.pkl', 'rb'))"
   ]
  },
  {
   "cell_type": "code",
   "execution_count": 22,
   "id": "871e4e66",
   "metadata": {},
   "outputs": [],
   "source": [
    "loaded_pipe = pickle.load(open('data_scaling_new.pkl', 'rb'))"
   ]
  },
  {
   "cell_type": "code",
   "execution_count": 32,
   "id": "a8e99146",
   "metadata": {},
   "outputs": [
    {
     "data": {
      "text/plain": [
       "<Compressed Sparse Row sparse matrix of dtype 'float64'\n",
       "\twith 29 stored elements and shape (1, 152)>"
      ]
     },
     "execution_count": 32,
     "metadata": {},
     "output_type": "execute_result"
    }
   ],
   "source": [
    "loaded_pipe.fit_transform(X_train)[0:1]"
   ]
  },
  {
   "cell_type": "code",
   "execution_count": null,
   "id": "7649bc50",
   "metadata": {},
   "outputs": [],
   "source": [
    "loaded_model.predict(preprocessor.transform(X_train)[0].reshape(1, -1))"
   ]
  },
  {
   "cell_type": "code",
   "execution_count": null,
   "id": "3ca3aff2",
   "metadata": {},
   "outputs": [],
   "source": [
    "print(X_train.shape)"
   ]
  },
  {
   "cell_type": "code",
   "execution_count": 10,
   "id": "a7be6605",
   "metadata": {},
   "outputs": [
    {
     "name": "stdout",
     "output_type": "stream",
     "text": [
      "{'Client_Income_category': 'income_band4', 'Credit_Amount_category': 'credit_band3', 'Credit_to_Income_Category': 'Upto_2_times', 'Loan_Annuity_category': 'upto_4_percent', 'Client_Family_Members_Category': 'upto_1_member', 'Car_Owned': 1, 'Bike_Owned': 0, 'Active_Loan': 1, 'Accompany_Client': 'Relative', 'Client_Income_Type': 'Service', 'Client_Education': 'Secondary', 'Client_Marital_Status': 'S', 'Loan_Contract_Type': 'CL', 'Client_Housing_Type': 'Home', 'Registration_Years_Category': 'upto_30_years', 'ID_Years_Category': 'upto_10_years', 'Employed_Days_Category': 'upto_5_years', 'Age_Days_Category': 'upto_30_years', 'House_Own': 1.0, 'Client_Occupation': 'Laborers', 'Cleint_City_Rating': 2.0, 'Application_Process_Day': 2.0, 'Application_Hour_Category': 'upto_12_hours', 'Type_Organization_Grouped': 'Business', 'Score_Source_2': 0.728828041, 'Score_Source_3': 0.466864006, 'Social_Circle_Default': 1, 'Phone_Change_category': 'one_year', 'Credit_Bureau_Category': 'two_search'}\n"
     ]
    }
   ],
   "source": [
    "first_row_dict = X_train.iloc[0].to_dict()\n",
    "print(first_row_dict)"
   ]
  },
  {
   "cell_type": "code",
   "execution_count": 11,
   "id": "d6723641",
   "metadata": {},
   "outputs": [
    {
     "name": "stdout",
     "output_type": "stream",
     "text": [
      "{\"Client_Income_category\":\"income_band4\",\"Credit_Amount_category\":\"credit_band3\",\"Credit_to_Income_Category\":\"Upto_2_times\",\"Loan_Annuity_category\":\"upto_4_percent\",\"Client_Family_Members_Category\":\"upto_1_member\",\"Car_Owned\":1,\"Bike_Owned\":0,\"Active_Loan\":1,\"Accompany_Client\":\"Relative\",\"Client_Income_Type\":\"Service\",\"Client_Education\":\"Secondary\",\"Client_Marital_Status\":\"S\",\"Loan_Contract_Type\":\"CL\",\"Client_Housing_Type\":\"Home\",\"Registration_Years_Category\":\"upto_30_years\",\"ID_Years_Category\":\"upto_10_years\",\"Employed_Days_Category\":\"upto_5_years\",\"Age_Days_Category\":\"upto_30_years\",\"House_Own\":1.0,\"Client_Occupation\":\"Laborers\",\"Cleint_City_Rating\":2.0,\"Application_Process_Day\":2.0,\"Application_Hour_Category\":\"upto_12_hours\",\"Type_Organization_Grouped\":\"Business\",\"Score_Source_2\":0.728828041,\"Score_Source_3\":0.466864006,\"Social_Circle_Default\":1,\"Phone_Change_category\":\"one_year\",\"Credit_Bureau_Category\":\"two_search\"}\n"
     ]
    }
   ],
   "source": [
    "import pandas as pd\n",
    "import json\n",
    "\n",
    "# Assuming X_train is a DataFrame\n",
    "first_row_json = X_train.iloc[0].to_json()\n",
    "print(first_row_json)\n"
   ]
  },
  {
   "cell_type": "code",
   "execution_count": 36,
   "id": "8e389679",
   "metadata": {},
   "outputs": [
    {
     "name": "stderr",
     "output_type": "stream",
     "text": [
      "C:\\Users\\biswa\\AppData\\Local\\Temp\\ipykernel_10808\\3735971021.py:1: DtypeWarning: Columns (1,7,8,16,17,18,19,20,35) have mixed types. Specify dtype option on import or set low_memory=False.\n",
      "  df = pd.read_csv('dataset.csv')\n"
     ]
    }
   ],
   "source": [
    "df = pd.read_csv('dataset.csv')\n",
    "df_clean = df.dropna()\n",
    "X = df_clean.drop(columns=['Default'], errors='ignore')\n",
    "\n",
    "\n"
   ]
  },
  {
   "cell_type": "code",
   "execution_count": 37,
   "id": "6bc4130f",
   "metadata": {},
   "outputs": [
    {
     "name": "stdout",
     "output_type": "stream",
     "text": [
      "{\"ID\":12127046,\"Client_Income\":\"27000\",\"Car_Owned\":1.0,\"Bike_Owned\":0.0,\"Active_Loan\":0.0,\"House_Own\":1.0,\"Child_Count\":3.0,\"Credit_Amount\":\"53366.85\",\"Loan_Annuity\":\"4003.2\",\"Accompany_Client\":\"Alone\",\"Client_Income_Type\":\"Commercial\",\"Client_Education\":\"Secondary\",\"Client_Marital_Status\":\"M\",\"Client_Gender\":\"Female\",\"Loan_Contract_Type\":\"CL\",\"Client_Housing_Type\":\"Home\",\"Population_Region_Relative\":\"0.032561\",\"Age_Days\":\"12323\",\"Employed_Days\":\"1117\",\"Registration_Days\":\"5420\",\"ID_Days\":\"3900\",\"Own_House_Age\":2.0,\"Mobile_Tag\":1,\"Homephone_Tag\":0,\"Workphone_Working\":1,\"Client_Occupation\":\"Laborers\",\"Client_Family_Members\":5.0,\"Cleint_City_Rating\":1.0,\"Application_Process_Day\":4.0,\"Application_Process_Hour\":10.0,\"Client_Permanent_Match_Tag\":\"Yes\",\"Client_Contact_Work_Tag\":\"Yes\",\"Type_Organization\":\"Business Entity Type 3\",\"Score_Source_1\":0.47716857,\"Score_Source_2\":0.67744661,\"Score_Source_3\":0.581483706,\"Social_Circle_Default\":0.033,\"Phone_Change\":1805.0,\"Credit_Bureau\":4.0}\n"
     ]
    }
   ],
   "source": [
    "first_row_json = X.iloc[0].to_json()\n",
    "print(first_row_json)"
   ]
  },
  {
   "cell_type": "code",
   "execution_count": null,
   "id": "1ebb8c1f",
   "metadata": {},
   "outputs": [],
   "source": [
    "sample = preprocessor.transform(X_train[0:1])\n",
    "print(sample.shape)"
   ]
  },
  {
   "cell_type": "code",
   "execution_count": null,
   "id": "031bd814",
   "metadata": {},
   "outputs": [],
   "source": [
    "# Choosing CatBoost model with optimized parameters \n",
    "# {'learning_rate': 0.03, 'l2_leaf_reg': 5, \n",
    "# 'iterations': 300, 'depth': 4, 'border_count': 32, 'bagging_temperature': 1.0}\n",
    "# Optimization metric is recall  \n",
    "# Best Score achieved during training : 0.6584634763080928 i.e 65.85%\n",
    "# Final Model Evaluation on Test Data and the score  is 0.6582716049382716 i.e 65.83% \n",
    "# Model is properly trained without overfitting and is ready for deployment.\n",
    "\n",
    "\n",
    "# Save the model\n",
    "import joblib\n",
    "joblib.dump(random_search1.best_estimator_, 'catboost_model_version_1.pkl')\n",
    "# Load the model\n",
    "loaded_model = joblib.load('catboost_model_version_1.pkl')\n",
    "# Predict using the loaded model\n",
    "y_pred_loaded = loaded_model.predict(X_test_prepared)\n",
    "# Evaluate the loaded model\n",
    "print(\"Loaded Model Test Recall Score:\", recall_score(y_test, y_pred_loaded))\n",
    "print(\"Loaded Model Test Accuracy Score:\", accuracy_score(y_test, y_pred_loaded))\n",
    "print(\"Loaded Model Test F1 Score:\", f1_score(y_test, y_pred_loaded))\n",
    "print(\"Loaded Model Test ROC AUC Score:\", roc_auc_score(y_test, y_pred_loaded))\n",
    "print(\"Loaded Model Test Precision Score:\", precision_score(y_test, y_pred_loaded))\n",
    "print(\"Loaded Model Test Confusion Matrix:\\n\", confusion_matrix(y_test, y_pred_loaded))\n"
   ]
  },
  {
   "cell_type": "code",
   "execution_count": null,
   "id": "73617bbe",
   "metadata": {},
   "outputs": [],
   "source": [
    "df1 = df.copy()"
   ]
  },
  {
   "cell_type": "code",
   "execution_count": 30,
   "id": "dda70533",
   "metadata": {},
   "outputs": [
    {
     "ename": "NotFittedError",
     "evalue": "This ColumnTransformer instance is not fitted yet. Call 'fit' with appropriate arguments before using this estimator.",
     "output_type": "error",
     "traceback": [
      "\u001b[31m---------------------------------------------------------------------------\u001b[39m",
      "\u001b[31mNotFittedError\u001b[39m                            Traceback (most recent call last)",
      "\u001b[36mCell\u001b[39m\u001b[36m \u001b[39m\u001b[32mIn[30]\u001b[39m\u001b[32m, line 1\u001b[39m\n\u001b[32m----> \u001b[39m\u001b[32m1\u001b[39m sample = \u001b[43mpreprocessor\u001b[49m\u001b[43m.\u001b[49m\u001b[43mtransform\u001b[49m\u001b[43m(\u001b[49m\u001b[43mX_train\u001b[49m\u001b[43m)\u001b[49m[\u001b[32m0\u001b[39m:\u001b[32m1\u001b[39m]\n\u001b[32m      2\u001b[39m \u001b[38;5;28mprint\u001b[39m(sample.shape)\n",
      "\u001b[36mFile \u001b[39m\u001b[32md:\\Loan_Default\\.venv\\Lib\\site-packages\\sklearn\\utils\\_set_output.py:319\u001b[39m, in \u001b[36m_wrap_method_output.<locals>.wrapped\u001b[39m\u001b[34m(self, X, *args, **kwargs)\u001b[39m\n\u001b[32m    317\u001b[39m \u001b[38;5;129m@wraps\u001b[39m(f)\n\u001b[32m    318\u001b[39m \u001b[38;5;28;01mdef\u001b[39;00m\u001b[38;5;250m \u001b[39m\u001b[34mwrapped\u001b[39m(\u001b[38;5;28mself\u001b[39m, X, *args, **kwargs):\n\u001b[32m--> \u001b[39m\u001b[32m319\u001b[39m     data_to_wrap = \u001b[43mf\u001b[49m\u001b[43m(\u001b[49m\u001b[38;5;28;43mself\u001b[39;49m\u001b[43m,\u001b[49m\u001b[43m \u001b[49m\u001b[43mX\u001b[49m\u001b[43m,\u001b[49m\u001b[43m \u001b[49m\u001b[43m*\u001b[49m\u001b[43margs\u001b[49m\u001b[43m,\u001b[49m\u001b[43m \u001b[49m\u001b[43m*\u001b[49m\u001b[43m*\u001b[49m\u001b[43mkwargs\u001b[49m\u001b[43m)\u001b[49m\n\u001b[32m    320\u001b[39m     \u001b[38;5;28;01mif\u001b[39;00m \u001b[38;5;28misinstance\u001b[39m(data_to_wrap, \u001b[38;5;28mtuple\u001b[39m):\n\u001b[32m    321\u001b[39m         \u001b[38;5;66;03m# only wrap the first output for cross decomposition\u001b[39;00m\n\u001b[32m    322\u001b[39m         return_tuple = (\n\u001b[32m    323\u001b[39m             _wrap_data_with_container(method, data_to_wrap[\u001b[32m0\u001b[39m], X, \u001b[38;5;28mself\u001b[39m),\n\u001b[32m    324\u001b[39m             *data_to_wrap[\u001b[32m1\u001b[39m:],\n\u001b[32m    325\u001b[39m         )\n",
      "\u001b[36mFile \u001b[39m\u001b[32md:\\Loan_Default\\.venv\\Lib\\site-packages\\sklearn\\compose\\_column_transformer.py:1060\u001b[39m, in \u001b[36mColumnTransformer.transform\u001b[39m\u001b[34m(self, X, **params)\u001b[39m\n\u001b[32m   1034\u001b[39m \u001b[38;5;250m\u001b[39m\u001b[33;03m\"\"\"Transform X separately by each transformer, concatenate results.\u001b[39;00m\n\u001b[32m   1035\u001b[39m \n\u001b[32m   1036\u001b[39m \u001b[33;03mParameters\u001b[39;00m\n\u001b[32m   (...)\u001b[39m\u001b[32m   1057\u001b[39m \u001b[33;03m    sparse matrices.\u001b[39;00m\n\u001b[32m   1058\u001b[39m \u001b[33;03m\"\"\"\u001b[39;00m\n\u001b[32m   1059\u001b[39m _raise_for_params(params, \u001b[38;5;28mself\u001b[39m, \u001b[33m\"\u001b[39m\u001b[33mtransform\u001b[39m\u001b[33m\"\u001b[39m)\n\u001b[32m-> \u001b[39m\u001b[32m1060\u001b[39m \u001b[43mcheck_is_fitted\u001b[49m\u001b[43m(\u001b[49m\u001b[38;5;28;43mself\u001b[39;49m\u001b[43m)\u001b[49m\n\u001b[32m   1061\u001b[39m X = _check_X(X)\n\u001b[32m   1063\u001b[39m \u001b[38;5;66;03m# If ColumnTransformer is fit using a dataframe, and now a dataframe is\u001b[39;00m\n\u001b[32m   1064\u001b[39m \u001b[38;5;66;03m# passed to be transformed, we select columns by name instead. This\u001b[39;00m\n\u001b[32m   1065\u001b[39m \u001b[38;5;66;03m# enables the user to pass X at transform time with extra columns which\u001b[39;00m\n\u001b[32m   1066\u001b[39m \u001b[38;5;66;03m# were not present in fit time, and the order of the columns doesn't\u001b[39;00m\n\u001b[32m   1067\u001b[39m \u001b[38;5;66;03m# matter.\u001b[39;00m\n",
      "\u001b[36mFile \u001b[39m\u001b[32md:\\Loan_Default\\.venv\\Lib\\site-packages\\sklearn\\utils\\validation.py:1757\u001b[39m, in \u001b[36mcheck_is_fitted\u001b[39m\u001b[34m(estimator, attributes, msg, all_or_any)\u001b[39m\n\u001b[32m   1754\u001b[39m     \u001b[38;5;28;01mreturn\u001b[39;00m\n\u001b[32m   1756\u001b[39m \u001b[38;5;28;01mif\u001b[39;00m \u001b[38;5;129;01mnot\u001b[39;00m _is_fitted(estimator, attributes, all_or_any):\n\u001b[32m-> \u001b[39m\u001b[32m1757\u001b[39m     \u001b[38;5;28;01mraise\u001b[39;00m NotFittedError(msg % {\u001b[33m\"\u001b[39m\u001b[33mname\u001b[39m\u001b[33m\"\u001b[39m: \u001b[38;5;28mtype\u001b[39m(estimator).\u001b[34m__name__\u001b[39m})\n",
      "\u001b[31mNotFittedError\u001b[39m: This ColumnTransformer instance is not fitted yet. Call 'fit' with appropriate arguments before using this estimator."
     ]
    }
   ],
   "source": [
    "sample = preprocessor.transform(X_train)[0:1]\n",
    "print(sample.shape)"
   ]
  },
  {
   "cell_type": "code",
   "execution_count": null,
   "id": "563eb925",
   "metadata": {},
   "outputs": [],
   "source": [
    "preprocessor.transform(X_test)[0].shape"
   ]
  },
  {
   "cell_type": "code",
   "execution_count": null,
   "id": "d6ce85e3",
   "metadata": {},
   "outputs": [],
   "source": []
  },
  {
   "cell_type": "code",
   "execution_count": null,
   "id": "9558af3a",
   "metadata": {},
   "outputs": [],
   "source": []
  }
 ],
 "metadata": {
  "kernelspec": {
   "display_name": ".venv",
   "language": "python",
   "name": "python3"
  },
  "language_info": {
   "codemirror_mode": {
    "name": "ipython",
    "version": 3
   },
   "file_extension": ".py",
   "mimetype": "text/x-python",
   "name": "python",
   "nbconvert_exporter": "python",
   "pygments_lexer": "ipython3",
   "version": "3.12.2"
  },
  "toc": {
   "base_numbering": 1,
   "nav_menu": {},
   "number_sections": true,
   "sideBar": true,
   "skip_h1_title": false,
   "title_cell": "Table of Contents",
   "title_sidebar": "Contents",
   "toc_cell": false,
   "toc_position": {},
   "toc_section_display": true,
   "toc_window_display": false
  },
  "varInspector": {
   "cols": {
    "lenName": 16,
    "lenType": 16,
    "lenVar": 40
   },
   "kernels_config": {
    "python": {
     "delete_cmd_postfix": "",
     "delete_cmd_prefix": "del ",
     "library": "var_list.py",
     "varRefreshCmd": "print(var_dic_list())"
    },
    "r": {
     "delete_cmd_postfix": ") ",
     "delete_cmd_prefix": "rm(",
     "library": "var_list.r",
     "varRefreshCmd": "cat(var_dic_list()) "
    }
   },
   "types_to_exclude": [
    "module",
    "function",
    "builtin_function_or_method",
    "instance",
    "_Feature"
   ],
   "window_display": false
  }
 },
 "nbformat": 4,
 "nbformat_minor": 5
}
