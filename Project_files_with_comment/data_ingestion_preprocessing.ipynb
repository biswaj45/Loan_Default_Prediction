{
 "cells": [
  {
   "cell_type": "markdown",
   "metadata": {},
   "source": [
    "# Data Ingestion and Preprocessing\n",
    "This notebook demonstrates the process of data ingestion, cleaning, and preprocessing for a loan default dataset. The steps include:\n",
    "- Importing necessary libraries\n",
    "- Loading the dataset\n",
    "- Handling missing values\n",
    "- Data cleaning and transformation\n",
    "- Feature engineering\n",
    "- Saving the processed data"
   ]
  },
  {
   "cell_type": "code",
   "execution_count": null,
   "metadata": {},
   "outputs": [],
   "source": [
    "# Step 1: Import Libraries\n",
    "import os\n",
    "import pandas as pd\n",
    "import numpy as np\n",
    "import seaborn as sns\n",
    "import matplotlib.pyplot as plt\n",
    "import re\n",
    "import math\n",
    "from sklearn.preprocessing import LabelEncoder"
   ]
  },
  {
   "cell_type": "markdown",
   "metadata": {},
   "source": [
    "## Step 2: Load Dataset"
   ]
  },
  {
   "cell_type": "code",
   "execution_count": null,
   "metadata": {},
   "outputs": [],
   "source": [
    "# Load the dataset\n",
    "file_path = 'Dataset.csv'  # Replace with the actual file path\n",
    "df = pd.read_csv(file_path)\n",
    "\n",
    "# Display basic information about the dataset\n",
    "print(\"Dataset Info:\")\n",
    "df.info()\n",
    "print(\"\\nFirst 5 Rows:\")\n",
    "df.head()"
   ]
  },
  {
   "cell_type": "markdown",
   "metadata": {},
   "source": [
    "## Step 3: Initial Data Exploration"
   ]
  },
  {
   "cell_type": "code",
   "execution_count": null,
   "metadata": {},
   "outputs": [],
   "source": [
    "# Check for missing values\n",
    "print(\"Missing Values:\")\n",
    "print(df.isnull().sum())\n",
    "\n",
    "# Summary statistics\n",
    "print(\"\\nSummary Statistics:\")\n",
    "print(df.describe())"
   ]
  },
  {
   "cell_type": "markdown",
   "metadata": {},
   "source": [
    "## Step 4: Data Cleaning"
   ]
  },
  {
   "cell_type": "code",
   "execution_count": null,
   "metadata": {},
   "outputs": [],
   "source": [
    "# Function to clean and floor numerical values\n",
    "def clean_and_floor(value):\n",
    "    if pd.isna(value):\n",
    "        return value\n",
    "    cleaned_value = re.sub(r'[^\\d.]', '', str(value))\n",
    "    if cleaned_value:\n",
    "        return math.floor(float(cleaned_value))\n",
    "    return None\n",
    "\n",
    "# Apply cleaning to numerical columns\n",
    "numerical_columns = ['Client_Income', 'Credit_Amount', 'Loan_Annuity']\n",
    "for col in numerical_columns:\n",
    "    df[col] = df[col].apply(clean_and_floor)\n",
    "\n",
    "# Replace missing values with mode or mean\n",
    "for col in numerical_columns:\n",
    "    df[col] = df[col].fillna(df[col].mode().iloc[0])"
   ]
  },
  {
   "cell_type": "markdown",
   "metadata": {},
   "source": [
    "## Step 5: Feature Engineering"
   ]
  },
  {
   "cell_type": "code",
   "execution_count": null,
   "metadata": {},
   "outputs": [],
   "source": [
    "# Categorize numerical columns into bins\n",
    "def income_category(x):\n",
    "    if x <= 6000:\n",
    "        return 'income_band1'\n",
    "    elif x <= 10000:\n",
    "        return 'income_band2'\n",
    "    elif x <= 15000:\n",
    "        return 'income_band3'\n",
    "    elif x <= 20000:\n",
    "        return 'income_band4'\n",
    "    elif x <= 50000:\n",
    "        return 'income_band5'\n",
    "    else:\n",
    "        return 'income_band6'\n",
    "\n",
    "df['Client_Income_category'] = df['Client_Income'].apply(income_category)\n",
    "\n",
    "# Create new features\n",
    "df['Credit_to_Income_Ratio'] = (df['Credit_Amount'] / df['Client_Income']).round(2)\n",
    "\n",
    "# Categorize Credit_to_Income_Ratio\n",
    "def credit_income_category(x):\n",
    "    if x <= 2:\n",
    "        return 'Upto_2_times'\n",
    "    elif x <= 3:\n",
    "        return 'Upto_3_times'\n",
    "    elif x <= 4:\n",
    "        return 'Upto_4_times'\n",
    "    elif x <= 5:\n",
    "        return 'Upto_5_times'\n",
    "    elif x <= 10:\n",
    "        return 'Upto_10_times'\n",
    "    else:\n",
    "        return 'more_than_10_times'\n",
    "\n",
    "df['Credit_to_Income_Category'] = df['Credit_to_Income_Ratio'].apply(credit_income_category)"
   ]
  },
  {
   "cell_type": "markdown",
   "metadata": {},
   "source": [
    "## Step 6: Handle Categorical Variables"
   ]
  },
  {
   "cell_type": "code",
   "execution_count": null,
   "metadata": {},
   "outputs": [],
   "source": [
    "# Fill missing values in categorical columns\n",
    "categorical_columns = ['Client_Occupation', 'Type_Organization', 'Client_Education']\n",
    "for col in categorical_columns:\n",
    "    df[col] = df[col].fillna('Unknown')\n",
    "\n",
    "# Encode categorical variables\n",
    "label_encoders = {}\n",
    "for col in categorical_columns:\n",
    "    le = LabelEncoder()\n",
    "    df[col] = le.fit_transform(df[col])\n",
    "    label_encoders[col] = le"
   ]
  },
  {
   "cell_type": "markdown",
   "metadata": {},
   "source": [
    "## Step 7: Save Processed Data"
   ]
  },
  {
   "cell_type": "code",
   "execution_count": null,
   "metadata": {},
   "outputs": [],
   "source": [
    "# Save the processed dataset\n",
    "output_file = 'processed_data.csv'\n",
    "df.to_csv(output_file, index=False)\n",
    "print(f\"Processed data saved to {output_file}\")"
   ]
  }
 ],
 "metadata": {
  "kernelspec": {
   "display_name": "Python 3",
   "language": "python",
   "name": "python3"
  },
  "language_info": {
   "codemirror_mode": {
    "name": "ipython",
    "version": 3
   },
   "file_extension": ".py",
   "mimetype": "text/x-python",
   "name": "python",
   "nbconvert_exporter": "python",
   "pygments_lexer": "ipython3",
   "version": "3.8.8"
  }
 },
 "nbformat": 4,
 "nbformat_minor": 4
}
