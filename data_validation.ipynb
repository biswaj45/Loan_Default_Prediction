{
 "cells": [
  {
   "cell_type": "code",
   "execution_count": 3,
   "id": "2253f698",
   "metadata": {},
   "outputs": [],
   "source": [
    "from pydantic import BaseModel, Field, field_validator\n",
    "from typing import Literal\n",
    "\n",
    "class LoanApplication(BaseModel):\n",
    "    ID: int\n",
    "    Client_Income: float\n",
    "    Car_Owned: Literal[0, 1]\n",
    "    Bike_Owned: Literal[0, 1]\n",
    "    Active_Loan: Literal[0, 1]\n",
    "    House_Own: Literal[0, 1]\n",
    "    Child_Count: int\n",
    "    Credit_Amount: float\n",
    "    Loan_Annuity: float\n",
    "    Accompany_Client: str\n",
    "    Client_Income_Type: str\n",
    "    Client_Education: str\n",
    "    Client_Marital_Status: Literal[\"D\", \"S\", \"M\", \"W\"]\n",
    "    Client_Gender: Literal[\"M\", \"F\"]\n",
    "    Loan_Contract_Type: Literal[\"CL\", \"RL\"]\n",
    "    Client_Housing_Type: str\n",
    "    Population_Region_Relative: float\n",
    "    Age_Days: int\n",
    "    Employed_Days: int\n",
    "    Registration_Days: int\n",
    "    ID_Days: int\n",
    "    Own_House_Age: int | None = None\n",
    "    Mobile_Tag: Literal[0, 1]\n",
    "    Homephone_Tag: Literal[0, 1]\n",
    "    Workphone_Working: Literal[0, 1]\n",
    "    Client_Occupation: str\n",
    "    Client_Family_Members: int\n",
    "    Cleint_City_Rating: Literal[1, 2, 3]\n",
    "    Application_Process_Day: Literal[0, 1, 2, 3, 4, 5, 6]\n",
    "    Application_Process_Hour: int\n",
    "    Client_Permanent_Match_Tag: Literal[0, 1]\n",
    "    Client_Contact_Work_Tag: Literal[0, 1]\n",
    "    Type_Organization: str\n",
    "    Score_Source_1: float\n",
    "    Score_Source_2: float\n",
    "    Score_Source_3: float\n",
    "    Social_Circle_Default: int\n",
    "    Phone_Change: int\n",
    "    Credit_Bureau: int\n",
    "\n",
    "    @field_validator('*', mode='before')\n",
    "    @classmethod\n",
    "    def no_nans(cls, v):\n",
    "        if v is None:\n",
    "            raise ValueError(\"Missing value not allowed\")\n",
    "        return v\n",
    "\n",
    "    model_config = {\n",
    "        \"extra\": \"forbid\"  # Prevent unknown fields\n",
    "    }\n"
   ]
  }
 ],
 "metadata": {
  "kernelspec": {
   "display_name": ".venv",
   "language": "python",
   "name": "python3"
  },
  "language_info": {
   "codemirror_mode": {
    "name": "ipython",
    "version": 3
   },
   "file_extension": ".py",
   "mimetype": "text/x-python",
   "name": "python",
   "nbconvert_exporter": "python",
   "pygments_lexer": "ipython3",
   "version": "3.12.2"
  }
 },
 "nbformat": 4,
 "nbformat_minor": 5
}
